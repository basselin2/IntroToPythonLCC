{
 "cells": [
  {
   "cell_type": "markdown",
   "id": "48798a85-e997-40d6-9ef7-c74e892f3fba",
   "metadata": {},
   "source": [
    "# Ch.7 Coding Set \n",
    "(Starting Out With Python 5th Edition)\n",
    "\n",
    "Briana Asselin"
   ]
  },
  {
   "cell_type": "markdown",
   "id": "f5102cd5-0971-4de8-85bf-2204a82a2b49",
   "metadata": {},
   "source": [
    "### Algorithm Workbench: Problem 1 (Create a List)\n",
    "\n",
    "**Question:** Write a statement that creates a list with the following strings: Einstein, Newton, Copernicus, and Kepler.\n",
    "\n",
    "------------------------------------------------------------------------------------------------------------ \n",
    "**Overview:** This question requires the programmer to create a list that is composed of the names of famous scientists. The list will contain strings."
   ]
  },
  {
   "cell_type": "code",
   "execution_count": 1,
   "id": "d5d5340d-2efe-443f-98e3-fb1661e79f01",
   "metadata": {
    "tags": []
   },
   "outputs": [
    {
     "name": "stdout",
     "output_type": "stream",
     "text": [
      "['Einstein', 'Newton', 'Copernicus', 'Kepler']\n"
     ]
    }
   ],
   "source": [
    "# Create the list variable and add values to the list\n",
    "scientists = ['Einstein', 'Newton', 'Copernicus', 'Kepler']\n",
    "\n",
    "# Print the list to verify that the values were added\n",
    "print(scientists)"
   ]
  },
  {
   "cell_type": "markdown",
   "id": "33b0969a-8644-420b-bfe6-b92f23973c65",
   "metadata": {},
   "source": [
    "### Algorithm Workbench: Problem 5 (Take in a List)\n",
    "\n",
    "**Question:** Write a function that accepts a list as an argument (assume the list contains integers) and returns the total of the values in the list.\n",
    "\n",
    "------------------------------------------------------------------------------------------------------------ \n",
    "**Overview:** This question requires the programmer to create a method that will take a list as a parameter. The method will iterate over the list and add the contents together. After the sum of the values is returned, the programmer can print it or use it in other functions."
   ]
  },
  {
   "cell_type": "code",
   "execution_count": 2,
   "id": "2356800c-dfcc-4dfd-b546-2451bcf25ccc",
   "metadata": {
    "tags": []
   },
   "outputs": [
    {
     "ename": "UnboundLocalError",
     "evalue": "cannot access local variable 'list_sum' where it is not associated with a value",
     "output_type": "error",
     "traceback": [
      "\u001b[1;31m---------------------------------------------------------------------------\u001b[0m",
      "\u001b[1;31mUnboundLocalError\u001b[0m                         Traceback (most recent call last)",
      "Cell \u001b[1;32mIn[2], line 18\u001b[0m\n\u001b[0;32m     14\u001b[0m     \u001b[38;5;28mprint\u001b[39m(list_sum)\n\u001b[0;32m     16\u001b[0m \u001b[38;5;66;03m# Call the function so it will run\u001b[39;00m\n\u001b[0;32m     17\u001b[0m \u001b[38;5;66;03m# Pass the list as a parametner\u001b[39;00m\n\u001b[1;32m---> 18\u001b[0m sum_generator(num_list)\n",
      "Cell \u001b[1;32mIn[2], line 11\u001b[0m, in \u001b[0;36msum_generator\u001b[1;34m(some_list)\u001b[0m\n\u001b[0;32m      9\u001b[0m \u001b[38;5;28;01mdef\u001b[39;00m \u001b[38;5;21msum_generator\u001b[39m(some_list): \n\u001b[0;32m     10\u001b[0m     \u001b[38;5;28;01mfor\u001b[39;00m i \u001b[38;5;129;01min\u001b[39;00m some_list:\n\u001b[1;32m---> 11\u001b[0m         list_sum \u001b[38;5;241m+\u001b[39m\u001b[38;5;241m=\u001b[39m i\n\u001b[0;32m     13\u001b[0m     \u001b[38;5;66;03m# Print the sum when the loop has finished\u001b[39;00m\n\u001b[0;32m     14\u001b[0m     \u001b[38;5;28mprint\u001b[39m(list_sum)\n",
      "\u001b[1;31mUnboundLocalError\u001b[0m: cannot access local variable 'list_sum' where it is not associated with a value"
     ]
    }
   ],
   "source": [
    "# Create the list variable\n",
    "# Add values to the list for testing purposes\n",
    "num_list = [1, 2, 3, 8, 9, 10]\n",
    "\n",
    "# Create an accumulator variable for the loop\n",
    "list_sum = 0\n",
    "\n",
    "# Define the function that takes in a parameter\n",
    "def sum_generator(some_list): \n",
    "    for i in some_list:\n",
    "        list_sum += i\n",
    "        \n",
    "    # Print the sum when the loop has finished\n",
    "    print(list_sum)\n",
    "\n",
    "# Call the function so it will run\n",
    "# Pass the list as a parametner\n",
    "sum_generator(num_list)\n"
   ]
  },
  {
   "cell_type": "code",
   "execution_count": 5,
   "id": "52d6cc07-7061-449f-bf75-77ad0cd136ba",
   "metadata": {
    "tags": []
   },
   "outputs": [
    {
     "name": "stdout",
     "output_type": "stream",
     "text": [
      "33\n"
     ]
    }
   ],
   "source": [
    "# Create the list variable\n",
    "# Add values to the list for testing purposes\n",
    "num_list = [1, 2, 3, 8, 9, 10]\n",
    "\n",
    "# Define the function that takes in a parameter\n",
    "# I moved the accumulator variable into the function to see if that fixes the error (it did)\n",
    "# I originally had list_sum outside of the function because I thought it would be global\n",
    "def sum_generator(some_list): \n",
    "    list_sum = 0\n",
    "    for i in some_list:\n",
    "        list_sum += i\n",
    "        \n",
    "    # Print the sum when the loop has finished\n",
    "    print(list_sum)\n",
    "\n",
    "# Call the function so it will run\n",
    "# Pass the list as a parametner\n",
    "sum_generator(num_list)"
   ]
  },
  {
   "cell_type": "code",
   "execution_count": 6,
   "id": "474d629c-bdbc-4993-a635-f92703ec2ee9",
   "metadata": {
    "tags": []
   },
   "outputs": [
    {
     "name": "stdout",
     "output_type": "stream",
     "text": [
      "0\n"
     ]
    }
   ],
   "source": [
    "# Create the list variable\n",
    "# Add values to the list for testing purposes\n",
    "num_list = [1, 2, 3, 8, 9, 10]\n",
    "\n",
    "# Define the function that takes in a parameter\n",
    "# I moved the accumulator variable into the function to see if that fixes the error (it did)\n",
    "# I originally had list_sum outside of the function because I thought it would be global\n",
    "def sum_generator(some_list): \n",
    "    list_sum = 0\n",
    "    for i in some_list:\n",
    "        list_sum += i\n",
    "    return list_sum  # I am now returning the sum that was generated by the function (as required in the problem)\n",
    "\n",
    "# Call the function so it will run\n",
    "# Pass the list as a parametner\n",
    "sum_generator(num_list)\n",
    "\n",
    "# Print the list that was returned\n",
    "print(list_sum)"
   ]
  },
  {
   "cell_type": "code",
   "execution_count": 8,
   "id": "d0e575f0-7c88-44c2-a4a9-e87e495d6aef",
   "metadata": {
    "tags": []
   },
   "outputs": [
    {
     "name": "stdout",
     "output_type": "stream",
     "text": [
      "33\n"
     ]
    }
   ],
   "source": [
    "# Create the list variable\n",
    "# Add values to the list for testing purposes\n",
    "num_list = [1, 2, 3, 8, 9, 10]\n",
    "\n",
    "# Define the function that takes in a parameter\n",
    "# I moved the accumulator variable into the function to see if that fixes the error (it did)\n",
    "# I originally had list_sum outside of the function because I thought it would be global\n",
    "def sum_generator(some_list): \n",
    "    list_sum = 0\n",
    "    for i in some_list:\n",
    "        list_sum += i\n",
    "    return list_sum  # I am now returning the sum that was generated by the function (as required in the problem)\n",
    "\n",
    "# Call the function so it will run\n",
    "# Pass the list as a parametner\n",
    "output = sum_generator(num_list)\n",
    "\n",
    "# Print the list that was returned\n",
    "# In the previous cell, the print did not work the way I expected.\n",
    "# I will try assigning the function to a variable and printing the function. \n",
    "# Based on: https://stackoverflow.com/questions/3052793/how-do-i-get-return-a-result-output-from-a-function-how-can-i-use-the-res\n",
    "print(output)"
   ]
  },
  {
   "cell_type": "markdown",
   "id": "78d67b0d-36f3-4a5e-adfd-cbe81267577a",
   "metadata": {},
   "source": [
    "### Programming Exercises: Problem 1 (Total Sales)\n",
    "\n",
    "**Question:** Design a program that asks the user to enter a store’s sales for each day of the week. The amounts should be stored in a list. Use a loop to calculate the total sales for the week and display the result.\n",
    "\n",
    "------------------------------------------------------------------------------------------------------------ \n",
    "**Overview:** This question requires the programmer to get a float input 7 times and add those values to a list. Similar to the previous problem, the programmer must use a loop to sum the total number of values in the list and output the sum."
   ]
  },
  {
   "cell_type": "code",
   "execution_count": 17,
   "id": "2e3ae09a-a2a4-4107-ab54-b0eb27053ad2",
   "metadata": {
    "tags": []
   },
   "outputs": [
    {
     "name": "stdin",
     "output_type": "stream",
     "text": [
      "What was the total amount of the sales made on Monday (in dollars)? 10\n",
      "What was the total amount of the sales made on Tuesday (in dollars)? 10\n",
      "What was the total amount of the sales made on Wednesday (in dollars)? 5\n",
      "What was the total amount of the sales made on Thursday (in dollars)? 5\n",
      "What was the total amount of the sales made on Friday (in dollars)? 5\n",
      "What was the total amount of the sales made on Saturday (in dollars)? 5\n",
      "What was the total amount of the sales made on Sunday (in dollars)? 10\n"
     ]
    },
    {
     "name": "stdout",
     "output_type": "stream",
     "text": [
      "\n",
      "The total sales for the week are $50.00.\n"
     ]
    }
   ],
   "source": [
    "# Define a global variable containing days of the week since these will not change.\n",
    "DAYS_OF_WEEK = ['Monday', 'Tuesday', 'Wednesday', 'Thursday', 'Friday', 'Saturday', 'Sunday']\n",
    "\n",
    "# Define a main method\n",
    "def main():\n",
    "    # Assign the list of sales to a variable\n",
    "    retrieve_sales_list = get_sales(DAYS_OF_WEEK)\n",
    "    \n",
    "    # Assign the total sales to a variable\n",
    "    add_amounts = sales_total(retrieve_sales_list)\n",
    "    \n",
    "    # Print the total sales amount\n",
    "    print(f'\\nThe total sales for the week are ${add_amounts:.2f}.')\n",
    "\n",
    "    \n",
    "# This function will use DAYS_OF_WEEK to control how many times the input loop runs.\n",
    "# Make sure to specify float inputs since these are dollar amounts.\n",
    "def get_sales(some_list):\n",
    "        # Create an empty list to hold sales amounts\n",
    "        sales_list = []\n",
    "        \n",
    "        # Loop through a list and get input for each day.\n",
    "        for i in some_list:\n",
    "            sale_amount = float(input(f'What was the total amount of the sales made on {i} (in dollars)?'))\n",
    "            sales_list.append(sale_amount)\n",
    "        return sales_list\n",
    "        #print(sales_list)  #Used for testing\n",
    "\n",
    "        \n",
    "# This function will total the values in a list.\n",
    "def sales_total(some_list):\n",
    "    sum = 0   # Accumulator variable\n",
    "    \n",
    "    for i in some_list:\n",
    "        sum += i\n",
    "        \n",
    "    # After the loop has finished running, return the total.\n",
    "    return sum\n",
    "\n",
    "\n",
    "# Call the main method\n",
    "main()\n",
    "\n"
   ]
  },
  {
   "cell_type": "markdown",
   "id": "840ae6d8-1c14-4449-ba14-cc95de68a52e",
   "metadata": {},
   "source": [
    "### Programming Exercises: Problem 2 (Lottery Number Generator)\n",
    "\n",
    "**Question:** Design a program that generates a seven-digit lottery number. The program should generate seven random numbers, each in the range of 0 through 9, and assign each number to a list element. (Random numbers were discussed in Chapter 5.) Then write another loop that displays the contents of the list.\n",
    "\n",
    "------------------------------------------------------------------------------------------------------------ \n",
    "**Overview:** This program will need multiple functions in order to work. There will need to be a loop to run the random number generator a set number of times and assign the values to a list. The print function will need to output the values in the list. Optionally (but recommended), a main() method can be used to run the program. "
   ]
  },
  {
   "cell_type": "code",
   "execution_count": 2,
   "id": "57930667-4fc6-482e-8419-d0fc8549a381",
   "metadata": {
    "tags": []
   },
   "outputs": [
    {
     "ename": "SyntaxError",
     "evalue": "expected ':' (373968520.py, line 12)",
     "output_type": "error",
     "traceback": [
      "\u001b[1;36m  Cell \u001b[1;32mIn[2], line 12\u001b[1;36m\u001b[0m\n\u001b[1;33m    for i in range(8)\u001b[0m\n\u001b[1;37m                     ^\u001b[0m\n\u001b[1;31mSyntaxError\u001b[0m\u001b[1;31m:\u001b[0m expected ':'\n"
     ]
    }
   ],
   "source": [
    "# Import the random num generator from the library\n",
    "import random\n",
    "\n",
    "# Define the main() method\n",
    "def main():\n",
    "    lotto_list = generate_num()\n",
    "    output_nums(lotto_list)\n",
    "    \n",
    "# Generate a number in the range 0-9 eight times\n",
    "# Return the latest number in each loop\n",
    "def generate_num():\n",
    "    for i in range(8)\n",
    "        num = random.randint(0, 9)\n",
    "        num_list = add_to_list(num)\n",
    "        return num_list\n",
    "\n",
    "# Add the generated numbers to a list\n",
    "def add_to_list(some_num):\n",
    "    list_var = []\n",
    "    list_var.append(some_num)\n",
    "\n",
    "# Print function - output the lotto numbers\n",
    "def output_nums(some_list):\n",
    "    print(some_list)\n",
    "\n",
    "# Call the main() method\n",
    "main()"
   ]
  },
  {
   "cell_type": "code",
   "execution_count": 3,
   "id": "d67212b6-6a47-4a17-a9e8-8bfb4af36d47",
   "metadata": {
    "tags": []
   },
   "outputs": [
    {
     "name": "stdout",
     "output_type": "stream",
     "text": [
      "None\n"
     ]
    }
   ],
   "source": [
    "# Import the random num generator from the library\n",
    "import random\n",
    "\n",
    "# Define the main() method\n",
    "def main():\n",
    "    lotto_list = generate_num()\n",
    "    output_nums(lotto_list)\n",
    "    \n",
    "# Generate a number in the range 0-9 eight times\n",
    "# Return the latest number in each loop\n",
    "def generate_num():\n",
    "    for i in range(8):\n",
    "        num = random.randint(0, 9)\n",
    "        num_list = add_to_list(num)\n",
    "        return num_list\n",
    "\n",
    "# Add the generated numbers to a list\n",
    "def add_to_list(some_num):\n",
    "    list_var = []\n",
    "    list_var.append(some_num)\n",
    "\n",
    "# Print function - output the lotto numbers\n",
    "def output_nums(some_list):\n",
    "    print(some_list)\n",
    "\n",
    "# Call the main() method\n",
    "main()"
   ]
  },
  {
   "cell_type": "code",
   "execution_count": 5,
   "id": "70d33613-7826-4cd1-88a6-35bc6442974d",
   "metadata": {
    "tags": []
   },
   "outputs": [
    {
     "name": "stdout",
     "output_type": "stream",
     "text": [
      "None\n"
     ]
    }
   ],
   "source": [
    "# Import the random num generator from the library\n",
    "import random\n",
    "\n",
    "# Define the main() method\n",
    "def main():\n",
    "    lotto_list = generate_num()\n",
    "    output_nums(lotto_list)\n",
    "    \n",
    "# Generate a number in the range 0-9 eight times\n",
    "# Return the latest number in each loop\n",
    "def generate_num():\n",
    "    for i in range(8):\n",
    "        num = random.randint(0, 9)\n",
    "        num_list = add_to_list(num)\n",
    "    return num_list  # This line had the wrong indent before, I will try it with the correct indent.\n",
    "\n",
    "# Add the generated numbers to a list\n",
    "def add_to_list(some_num):\n",
    "    list_var = []\n",
    "    list_var.append(some_num)\n",
    "\n",
    "# Print function - output the lotto numbers\n",
    "def output_nums(some_list):\n",
    "    print(some_list)\n",
    "\n",
    "# Call the main() method\n",
    "main()"
   ]
  },
  {
   "cell_type": "code",
   "execution_count": 6,
   "id": "907845b9-c347-4c14-ab35-e1f5e3ea58bf",
   "metadata": {
    "tags": []
   },
   "outputs": [
    {
     "name": "stdout",
     "output_type": "stream",
     "text": [
      "[1, 2, 3, 0, 8, 4, 0, 8]\n"
     ]
    }
   ],
   "source": [
    "# Import the random num generator from the library\n",
    "import random\n",
    "\n",
    "# Define the main() method\n",
    "def main():\n",
    "    lotto_list = generate_num()\n",
    "    output_nums(lotto_list)\n",
    "    \n",
    "# Generate a number in the range 0-9 eight times\n",
    "# Return the latest number in each loop\n",
    "def generate_num():\n",
    "    num_list = []\n",
    "    for i in range(8):\n",
    "        num = random.randint(0, 9)\n",
    "        num_list.append(num)\n",
    "    return num_list  # This line had the wrong indent before, I will try it with the correct indent.\n",
    "                     # That was not the problem. I will try re-working some of the functions.\n",
    "\n",
    "# Print function - output the lotto numbers\n",
    "def output_nums(some_list):\n",
    "    print(some_list)\n",
    "\n",
    "# Call the main() method\n",
    "main()"
   ]
  },
  {
   "cell_type": "code",
   "execution_count": 7,
   "id": "94a8d18d-371e-4cb4-8bb7-c1e2cee54239",
   "metadata": {
    "tags": []
   },
   "outputs": [
    {
     "name": "stdout",
     "output_type": "stream",
     "text": [
      "[4, 3, 7, 6, 2, 6, 1]\n"
     ]
    }
   ],
   "source": [
    "# Import the random num generator from the library\n",
    "import random\n",
    "\n",
    "# Define the main() method\n",
    "def main():\n",
    "    lotto_list = generate_num()\n",
    "    output_nums(lotto_list)\n",
    "    \n",
    "# Generate a number in the range 0-9 eight times\n",
    "# Return the latest number in each loop\n",
    "def generate_num():\n",
    "    num_list = []\n",
    "    for i in range(7): # This loop output 8 numbers before even though the range function is not inclusive of the parameter.\n",
    "                       # I will try changing to 7 here.\n",
    "        num = random.randint(0, 9)\n",
    "        num_list.append(num)\n",
    "    return num_list  # This line had the wrong indent before, I will try it with the correct indent.\n",
    "                     # That was not the problem. I will try re-working some of the functions.\n",
    "\n",
    "# Print function - output the lotto numbers\n",
    "def output_nums(some_list):\n",
    "    print(some_list)  \n",
    "\n",
    "# Call the main() method\n",
    "main()"
   ]
  },
  {
   "cell_type": "markdown",
   "id": "484bf6dd-ce12-4687-8ed2-267a6ae9bf77",
   "metadata": {},
   "source": [
    "### Programming Exercises: Problem 4 (Number Analysis)\n",
    "\n",
    "**Question:** Design a program that asks the user to enter a series of 20 numbers. The program should store the numbers in a list then display the following data:\n",
    "                \n",
    "                - The lowest number in the list\n",
    "                \n",
    "                - The highest number in the list\n",
    "                \n",
    "                - The total of the numbers in the list\n",
    "                \n",
    "                - The average of the numbers in the list\n",
    "\n",
    "------------------------------------------------------------------------------------------------------------ \n",
    "**Overview:** This program will need to get input from the user, store it in a list, and do some processing/calculations based on the values in the list. The program must output 4 specific values after processing the list.\n"
   ]
  },
  {
   "cell_type": "code",
   "execution_count": 9,
   "id": "c76682c2-de38-4b60-be6f-d67c0444b56d",
   "metadata": {
    "tags": []
   },
   "outputs": [
    {
     "ename": "SyntaxError",
     "evalue": "'(' was never closed (1832285773.py, line 19)",
     "output_type": "error",
     "traceback": [
      "\u001b[1;36m  Cell \u001b[1;32mIn[9], line 19\u001b[1;36m\u001b[0m\n\u001b[1;33m    user_num = (int(input('Enter a positive integer: '))\u001b[0m\n\u001b[1;37m               ^\u001b[0m\n\u001b[1;31mSyntaxError\u001b[0m\u001b[1;31m:\u001b[0m '(' was never closed\n"
     ]
    }
   ],
   "source": [
    "# Define the main() method\n",
    "def main():\n",
    "    \n",
    "    number_list = get_nums()  # Get input from the user into a list variable.\n",
    "    \n",
    "    smallest = find_min(number_list)  # Calculations\n",
    "    largest = find_max(number_list)\n",
    "    total = find_sum(number_list)\n",
    "    average = find_avg(number_list)\n",
    "    \n",
    "    output_results(smallest, largest, total, average) # Call the printing method using the outputs from\n",
    "                                                      # the other functions as parameters.\n",
    "    \n",
    "    \n",
    "# This function gets the user's input 20 times and stores the data in a list.\n",
    "def get_nums():\n",
    "    num_list = []\n",
    "    for i in range(20):\n",
    "        user_num = (int(input('Enter a positive integer: ')))\n",
    "        num_list.append(user_num)\n",
    "    return num_list\n",
    "\n",
    "# Use the built-in min() function to find the lowest number in the list.\n",
    "def find_min(some_list):\n",
    "    lowest = min(some_list)\n",
    "    return lowest\n",
    " \n",
    "# Use the built-in max() function to find the highest number in the list.\n",
    "def find_max(some_list):\n",
    "    highest = max(some_list)\n",
    "    return highest\n",
    "\n",
    "# Use a loop with an accumulator variable to find the sum of the numbers in the list.\n",
    "def find_sum(some_list):\n",
    "    some_total = 0\n",
    "    for i in some_list:\n",
    "        some_total += i\n",
    "    return some_total\n",
    "                    \n",
    "def find_avg(some_list):\n",
    "    counter = 0  # Use this counter to hold the total number of times the loop runs\n",
    "    some_total = 0 # Use this accumulator variable to find the sum of the numbers in the list.\n",
    "    \n",
    "    for i in some_list:\n",
    "        some_total += i\n",
    "        counter += 1\n",
    "    average = some_total / counter # Calculate the average after the loop is done running.\n",
    "                           \n",
    "def output_results(smallest, largest, total, avg):\n",
    "    print(f'The smallest value in the list is {smallest}.')\n",
    "    print(f'\\nThe largest value in the list is {largest}.')\n",
    "    print(f'\\nThe sum of the values in the list is {total}.')\n",
    "    print(f'\\nThe average of the values in the list is {avg}.')\n",
    "                    \n",
    "# Call the main() method\n",
    "main()\n"
   ]
  },
  {
   "cell_type": "code",
   "execution_count": 10,
   "id": "3308bdb9-ba49-4de6-97ca-a9e7db58da69",
   "metadata": {
    "tags": []
   },
   "outputs": [
    {
     "name": "stdin",
     "output_type": "stream",
     "text": [
      "Enter a positive integer:  1\n",
      "Enter a positive integer:  1\n",
      "Enter a positive integer:  1\n",
      "Enter a positive integer:  1\n",
      "Enter a positive integer:  1\n",
      "Enter a positive integer:  1\n",
      "Enter a positive integer:  1\n",
      "Enter a positive integer:  1\n",
      "Enter a positive integer:  1\n",
      "Enter a positive integer:  1\n",
      "Enter a positive integer:  1\n",
      "Enter a positive integer:  1\n",
      "Enter a positive integer:  1\n",
      "Enter a positive integer:  1\n",
      "Enter a positive integer:  1\n",
      "Enter a positive integer:  1\n",
      "Enter a positive integer:  1\n",
      "Enter a positive integer:  1\n",
      "Enter a positive integer:  1\n",
      "Enter a positive integer:  1\n"
     ]
    },
    {
     "name": "stdout",
     "output_type": "stream",
     "text": [
      "The smallest value in the list is 1.\n",
      "\n",
      "The largest value in the list is 1.\n",
      "\n",
      "The sum of the values in the list is 20.\n",
      "\n",
      "The average of the values in the list is None.\n"
     ]
    }
   ],
   "source": [
    "# Define the main() method\n",
    "def main():\n",
    "    \n",
    "    number_list = get_nums()  # Get input from the user into a list variable.\n",
    "    \n",
    "    smallest = find_min(number_list)  # Calculations\n",
    "    largest = find_max(number_list)\n",
    "    total = find_sum(number_list)\n",
    "    average = find_avg(number_list)\n",
    "    \n",
    "    output_results(smallest, largest, total, average) # Call the printing method using the outputs from\n",
    "                                                      # the other functions as parameters.\n",
    "    \n",
    "# This function gets the user's input 20 times and stores the data in a list.\n",
    "def get_nums():\n",
    "    num_list = []\n",
    "    for i in range(20):\n",
    "        user_num = (int(input('Enter a positive integer: ')))\n",
    "        num_list.append(user_num)\n",
    "    return num_list\n",
    "\n",
    "# Use the built-in min() function to find the lowest number in the list.\n",
    "def find_min(some_list):\n",
    "    lowest = min(some_list)\n",
    "    return lowest\n",
    " \n",
    "# Use the built-in max() function to find the highest number in the list.\n",
    "def find_max(some_list):\n",
    "    highest = max(some_list)\n",
    "    return highest\n",
    "\n",
    "# Use a loop with an accumulator variable to find the sum of the numbers in the list.\n",
    "def find_sum(some_list):\n",
    "    some_total = 0\n",
    "    for i in some_list:\n",
    "        some_total += i\n",
    "    return some_total\n",
    "                    \n",
    "def find_avg(some_list):\n",
    "    counter = 0  # Use this counter to hold the total number of times the loop runs\n",
    "    some_total = 0 # Use this accumulator variable to find the sum of the numbers in the list.\n",
    "    \n",
    "    for i in some_list:\n",
    "        some_total += i\n",
    "        counter += 1\n",
    "    average = some_total / counter # Calculate the average after the loop is done running.\n",
    "                           \n",
    "def output_results(smallest, largest, total, avg):\n",
    "    print(f'\\nThe smallest value in the list is {smallest}.')\n",
    "    print(f'\\nThe largest value in the list is {largest}.')\n",
    "    print(f'\\nThe sum of the values in the list is {total}.')\n",
    "    print(f'\\nThe average of the values in the list is {avg}.')\n",
    "                    \n",
    "# Call the main() method\n",
    "main()"
   ]
  },
  {
   "cell_type": "code",
   "execution_count": 11,
   "id": "b31d8940-c7e8-452f-b2b5-b51e02ecbdbe",
   "metadata": {
    "tags": []
   },
   "outputs": [
    {
     "name": "stdin",
     "output_type": "stream",
     "text": [
      "Enter a positive integer:  1\n",
      "Enter a positive integer:  2\n",
      "Enter a positive integer:  3\n",
      "Enter a positive integer:  4\n",
      "Enter a positive integer:  5\n",
      "Enter a positive integer:  6\n",
      "Enter a positive integer:  7\n",
      "Enter a positive integer:  8\n",
      "Enter a positive integer:  9\n",
      "Enter a positive integer:  10\n",
      "Enter a positive integer:  11\n",
      "Enter a positive integer:  12\n",
      "Enter a positive integer:  13\n",
      "Enter a positive integer:  14\n",
      "Enter a positive integer:  15\n",
      "Enter a positive integer:  16\n",
      "Enter a positive integer:  17\n",
      "Enter a positive integer:  18\n",
      "Enter a positive integer:  19\n",
      "Enter a positive integer:  20\n"
     ]
    },
    {
     "name": "stdout",
     "output_type": "stream",
     "text": [
      "\n",
      "The smallest value in the list is 1.\n",
      "\n",
      "The largest value in the list is 20.\n",
      "\n",
      "The sum of the values in the list is 210.\n",
      "\n",
      "The average of the values in the list is 10.5.\n"
     ]
    }
   ],
   "source": [
    "# Oops, I forgot to add a return statement to the average function! ^\n",
    "# Fixed below:\n",
    "\n",
    "# Define the main() method\n",
    "def main():\n",
    "    \n",
    "    number_list = get_nums()  # Get input from the user into a list variable.\n",
    "    \n",
    "    smallest = find_min(number_list)  # Calculations\n",
    "    largest = find_max(number_list)\n",
    "    total = find_sum(number_list)\n",
    "    average = find_avg(number_list)\n",
    "    \n",
    "    output_results(smallest, largest, total, average) # Call the printing method using the outputs from\n",
    "                                                      # the other functions as parameters.\n",
    "    \n",
    "# This function gets the user's input 20 times and stores the data in a list.\n",
    "def get_nums():\n",
    "    num_list = []\n",
    "    for i in range(20):\n",
    "        user_num = (int(input('Enter a positive integer: ')))\n",
    "        num_list.append(user_num)\n",
    "    return num_list\n",
    "\n",
    "# Use the built-in min() function to find the lowest number in the list.\n",
    "def find_min(some_list):\n",
    "    lowest = min(some_list)\n",
    "    return lowest\n",
    " \n",
    "# Use the built-in max() function to find the highest number in the list.\n",
    "def find_max(some_list):\n",
    "    highest = max(some_list)\n",
    "    return highest\n",
    "\n",
    "# Use a loop with an accumulator variable to find the sum of the numbers in the list.\n",
    "def find_sum(some_list):\n",
    "    some_total = 0\n",
    "    for i in some_list:\n",
    "        some_total += i\n",
    "    return some_total\n",
    "                    \n",
    "def find_avg(some_list):\n",
    "    counter = 0  # Use this counter to hold the total number of times the loop runs\n",
    "    some_total = 0 # Use this accumulator variable to find the sum of the numbers in the list.\n",
    "    \n",
    "    for i in some_list:\n",
    "        some_total += i\n",
    "        counter += 1\n",
    "    average = some_total / counter # Calculate the average after the loop is done running.\n",
    "    return average\n",
    "                           \n",
    "def output_results(smallest, largest, total, avg):\n",
    "    print(f'\\nThe smallest value in the list is {smallest}.')\n",
    "    print(f'\\nThe largest value in the list is {largest}.')\n",
    "    print(f'\\nThe sum of the values in the list is {total}.')\n",
    "    print(f'\\nThe average of the values in the list is {avg}.')\n",
    "                    \n",
    "# Call the main() method\n",
    "main()"
   ]
  },
  {
   "cell_type": "markdown",
   "id": "6942aaab-5480-40d7-b1da-af3edbb70e57",
   "metadata": {},
   "source": [
    "### Programming Exercises: Problem 14 (Expense Pie Chart)\n",
    "\n",
    "**Question:** Create a text file that contains your expenses for last month in the following categories:\n",
    "                \n",
    "                 - Rent\n",
    "                 - Gas\n",
    "                 - Food\n",
    "                 - Clothing\n",
    "                 - Car payment\n",
    "                 - Misc\n",
    "                \n",
    "Write a Python program that reads the data from the file and uses matplotlib to plot a pie chart showing how you spend your money.\n",
    "\n",
    "------------------------------------------------------------------------------------------------------------ \n",
    "**Overview:** This program needs a few features - matplotlib will be imported first since it is helpful to keep imports together at the top of a program. Next, the text file will need to be created and read into a list. The expense values must each be paired with a category name using one or more lists. Finally, the pie chart will need to be generated using the information in the list."
   ]
  },
  {
   "cell_type": "code",
   "execution_count": 17,
   "id": "90fe7568-1188-486b-b8c5-716ddcfb5ac4",
   "metadata": {},
   "outputs": [
    {
     "data": {
      "image/png": "[encoded data removed]",
      "text/plain": [
       "<Figure size 640x480 with 1 Axes>"
      ]
     },
     "metadata": {},
     "output_type": "display_data"
    }
   ],
   "source": [
    "import matplotlib.pyplot as plt\n",
    "\n",
    "# Define the main() method:\n",
    "def main():\n",
    "    write_to_file()\n",
    "    expense_list = read_from_file()\n",
    "    cat_list = make_category_list(expense_list)\n",
    "    amt_list = make_amounts_list(expense_list)\n",
    "    make_pie_chart(amt_list, cat_list)\n",
    "\n",
    "def write_to_file():\n",
    "    # Create and open a text file for writing\n",
    "    out_file = open('month_expenses_3.txt', 'w')\n",
    "    \n",
    "    # Write a comma delimited file\n",
    "    out_file.write('Rent' + ',' + 'Gas' + ',' + 'Food' + ',' + 'Clothing' + ',' + 'Car Payment' + ',' + 'Misc' + ',' + \n",
    "                   '800.00' + ',' + '59.36' + ',' + '267.52' + ',' + '0.00' + ',' + '315.00' + ',' + '22.41')\n",
    "   \n",
    "    # Close the file\n",
    "    out_file.close()\n",
    "\n",
    "def read_from_file():\n",
    "    # Open the file in \"read\" mode\n",
    "    infile = open('month_expenses_3.txt', 'r')\n",
    "\n",
    "    # This is something I tried to use but I was not able to figure it out using a very slow trial-and-error process.\n",
    "    # I am going to use ChatGPT to help with getting the data back from the file.\n",
    "    #data_list = infile.readlines()\n",
    "    \n",
    "    #ChatGPT part here\n",
    "    data_string = infile.read()\n",
    "    data_list = data_string.split(',')\n",
    "  \n",
    "    #print(data_list) # For testing\n",
    "    return data_list\n",
    "    infile.close()\n",
    "\n",
    "\n",
    "def make_category_list(some_list):\n",
    "    category_list = some_list[0:6]\n",
    "    #print(category_list) # For testing\n",
    "    return category_list\n",
    "\n",
    "\n",
    "def make_amounts_list(some_list):\n",
    "    amounts_list = some_list[6:12]\n",
    "    #print(amounts_list) # For testing\n",
    "    \n",
    "    # Convert list values to float type instead of string type\n",
    "    num_type_amounts_list = []\n",
    "\n",
    "    for i in amounts_list:\n",
    "        i = float(i)\n",
    "        num_type_amounts_list.append(i)\n",
    "        \n",
    "    #print(num_type_amounts_list) # For testing\n",
    "    return num_type_amounts_list\n",
    "\n",
    "\n",
    "def make_pie_chart(amounts_list, category_list):\n",
    "    plt.pie(amounts_list, labels = category_list) # Makes the chart\n",
    "    plt.title('Where My Money Disappeared To This Month')\n",
    "    plt.show()  # Displays the chart\n",
    "        \n",
    "# Call the main() method\n",
    "main()"
   ]
  },
  {
   "cell_type": "code",
   "execution_count": null,
   "id": "9b5a7d14-5bdc-4c31-b3a5-0c121ccd2e12",
   "metadata": {},
   "outputs": [],
   "source": []
  }
 ],
 "metadata": {
  "kernelspec": {
   "display_name": "Python 3 (ipykernel)",
   "language": "python",
   "name": "python3"
  },
  "language_info": {
   "codemirror_mode": {
    "name": "ipython",
    "version": 3
   },
   "file_extension": ".py",
   "mimetype": "text/x-python",
   "name": "python",
   "nbconvert_exporter": "python",
   "pygments_lexer": "ipython3",
   "version": "3.11.5"
  }
 },
 "nbformat": 4,
 "nbformat_minor": 5
}
