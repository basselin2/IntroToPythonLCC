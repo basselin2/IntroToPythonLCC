{
 "cells": [
  {
   "cell_type": "markdown",
   "id": "48798a85-e997-40d6-9ef7-c74e892f3fba",
   "metadata": {},
   "source": [
    "# Ch.7 Coding Set \n",
    "(Starting Out With Python 5th Edition)\n",
    "\n",
    "Briana Asselin"
   ]
  },
  {
   "cell_type": "markdown",
   "id": "f5102cd5-0971-4de8-85bf-2204a82a2b49",
   "metadata": {},
   "source": [
    "### Algorithm Workbench: Problem 1 (Create a List)\n",
    "\n",
    "**Question:** Write a statement that creates a list with the following strings: Einstein, Newton, Copernicus, and Kepler.\n",
    "\n",
    "------------------------------------------------------------------------------------------------------------ \n",
    "**Overview:** This question requires the programmer to create a list that is composed of the names of famous scientists. The list will contain strings."
   ]
  },
  {
   "cell_type": "code",
   "execution_count": 1,
   "id": "d5d5340d-2efe-443f-98e3-fb1661e79f01",
   "metadata": {
    "tags": []
   },
   "outputs": [
    {
     "name": "stdout",
     "output_type": "stream",
     "text": [
      "['Einstein', 'Newton', 'Copernicus', 'Kepler']\n"
     ]
    }
   ],
   "source": [
    "# Create the list variable and add values to the list\n",
    "scientists = ['Einstein', 'Newton', 'Copernicus', 'Kepler']\n",
    "\n",
    "# Print the list to verify that the values were added\n",
    "print(scientists)"
   ]
  },
  {
   "cell_type": "markdown",
   "id": "33b0969a-8644-420b-bfe6-b92f23973c65",
   "metadata": {},
   "source": [
    "### Algorithm Workbench: Problem 5 (Take in a List)\n",
    "\n",
    "**Question:** Write a function that accepts a list as an argument (assume the list contains integers) and returns the total of the values in the list.\n",
    "\n",
    "------------------------------------------------------------------------------------------------------------ \n",
    "**Overview:** This question requires the programmer to create a method that will take a list as a parameter. The method will iterate over the list and add the contents together. After the sum of the values is returned, the programmer can print it or use it in other functions."
   ]
  },
  {
   "cell_type": "code",
   "execution_count": null,
   "id": "2356800c-dfcc-4dfd-b546-2451bcf25ccc",
   "metadata": {},
   "outputs": [],
   "source": [
    "# Create the list variable\n",
    "# Add values to the list for testing purposes\n",
    "num_list = [1, 2, 3, 8, 9, 10]\n",
    "\n",
    "# Create an accumulator variable for the loop\n",
    "accu = 0\n",
    "\n",
    "# "
   ]
  },
  {
   "cell_type": "code",
   "execution_count": null,
   "id": "52d6cc07-7061-449f-bf75-77ad0cd136ba",
   "metadata": {},
   "outputs": [],
   "source": []
  },
  {
   "cell_type": "code",
   "execution_count": null,
   "id": "474d629c-bdbc-4993-a635-f92703ec2ee9",
   "metadata": {},
   "outputs": [],
   "source": []
  }
 ],
 "metadata": {
  "kernelspec": {
   "display_name": "Python 3 (ipykernel)",
   "language": "python",
   "name": "python3"
  },
  "language_info": {
   "codemirror_mode": {
    "name": "ipython",
    "version": 3
   },
   "file_extension": ".py",
   "mimetype": "text/x-python",
   "name": "python",
   "nbconvert_exporter": "python",
   "pygments_lexer": "ipython3",
   "version": "3.11.5"
  }
 },
 "nbformat": 4,
 "nbformat_minor": 5
}
