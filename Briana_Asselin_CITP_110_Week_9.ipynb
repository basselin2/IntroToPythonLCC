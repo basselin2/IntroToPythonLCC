{
 "cells": [
  {
   "cell_type": "markdown",
   "id": "05dd6692-4ac4-44a0-9090-056525248b85",
   "metadata": {},
   "source": [
    "# Ch.9 Coding Set \n",
    "(Starting Out With Python 5th Edition)\n",
    "\n",
    "Briana Asselin"
   ]
  },
  {
   "cell_type": "markdown",
   "id": "52864188-d8d2-4f09-a09a-80542abcef83",
   "metadata": {},
   "source": [
    "### Programming Exercises: Problem 2 (Capitals Quiz)\n",
    "\n",
    "**Question:** Write a program that creates a dictionary containing the U.S. states as keys, and their capitals as values. (Use the Internet to get a list of the states and their capitals.) The program should then randomly quiz the user by displaying the name of a state and asking the user to enter that state’s capital. The program should keep a count of the number of correct and incorrect responses. (As an alternative to the U.S. states, the program can use the names of countries and their capitals.)\n",
    "\n",
    "------------------------------------------------------------------------------------------------------------ \n",
    "**Overview:** This assignment requires the programmer to create a dictionary, output a key from the dictionary, get a value input from the user, compare the dictionary key:value pairs to the user's input, and output the result of the comparison (correct or incorrect). This program must also track the number of correct / incorrect user responses. The assignment does not indicate when these counts should be displayed to the user, so I am putting them on the ending screen that will appear when the user quits the game. I will use the state capitals option for this program. "
   ]
  },
  {
   "cell_type": "code",
   "execution_count": 35,
   "id": "abe26899-2f2b-4e25-944b-3b1b01c4d5e4",
   "metadata": {
    "tags": []
   },
   "outputs": [
    {
     "name": "stdout",
     "output_type": "stream",
     "text": [
      "Colorado\n"
     ]
    },
    {
     "name": "stdin",
     "output_type": "stream",
     "text": [
      "\n",
      "Enter the name of the state's capital!\n",
      "Press \"q\" to quit: \n",
      " Denver\n"
     ]
    },
    {
     "name": "stdout",
     "output_type": "stream",
     "text": [
      "\n",
      "Correct!\n",
      "\n",
      "Kentucky\n"
     ]
    },
    {
     "name": "stdin",
     "output_type": "stream",
     "text": [
      "\n",
      "Enter the name of the state's capital!\n",
      "Press \"q\" to quit: \n",
      " A place\n"
     ]
    },
    {
     "name": "stdout",
     "output_type": "stream",
     "text": [
      "\n",
      "Sorry, that is not correct!\n",
      "\n",
      "Minnesota\n"
     ]
    },
    {
     "name": "stdin",
     "output_type": "stream",
     "text": [
      "\n",
      "Enter the name of the state's capital!\n",
      "Press \"q\" to quit: \n",
      " somewhere else\n"
     ]
    },
    {
     "name": "stdout",
     "output_type": "stream",
     "text": [
      "\n",
      "Sorry, that is not correct!\n",
      "\n",
      "Idaho\n"
     ]
    },
    {
     "name": "stdin",
     "output_type": "stream",
     "text": [
      "\n",
      "Enter the name of the state's capital!\n",
      "Press \"q\" to quit: \n",
      " Boise\n"
     ]
    },
    {
     "name": "stdout",
     "output_type": "stream",
     "text": [
      "\n",
      "Correct!\n",
      "\n",
      "Arizona\n"
     ]
    },
    {
     "name": "stdin",
     "output_type": "stream",
     "text": [
      "\n",
      "Enter the name of the state's capital!\n",
      "Press \"q\" to quit: \n",
      " q\n"
     ]
    },
    {
     "ename": "UnboundLocalError",
     "evalue": "cannot access local variable 'scores' where it is not associated with a value",
     "output_type": "error",
     "traceback": [
      "\u001b[1;31m---------------------------------------------------------------------------\u001b[0m",
      "\u001b[1;31mUnboundLocalError\u001b[0m                         Traceback (most recent call last)",
      "Cell \u001b[1;32mIn[35], line 135\u001b[0m\n\u001b[0;32m    132\u001b[0m             is_game_over(scores, game_over_bool)\n\u001b[0;32m    134\u001b[0m \u001b[38;5;66;03m# Call the main() method\u001b[39;00m\n\u001b[1;32m--> 135\u001b[0m main()\n",
      "Cell \u001b[1;32mIn[35], line 72\u001b[0m, in \u001b[0;36mmain\u001b[1;34m()\u001b[0m\n\u001b[0;32m     70\u001b[0m scores \u001b[38;5;241m=\u001b[39m score_keeper(check_dictionary(state, capital))\n\u001b[0;32m     71\u001b[0m game_over_bool \u001b[38;5;241m=\u001b[39m \u001b[38;5;28;01mFalse\u001b[39;00m\n\u001b[1;32m---> 72\u001b[0m is_game_over(scores, game_over_bool)\n",
      "Cell \u001b[1;32mIn[35], line 132\u001b[0m, in \u001b[0;36mis_game_over\u001b[1;34m(score_list, some_bool)\u001b[0m\n\u001b[0;32m    130\u001b[0m scores \u001b[38;5;241m=\u001b[39m score_keeper(check_dictionary(state, capital))\n\u001b[0;32m    131\u001b[0m game_over_bool \u001b[38;5;241m=\u001b[39m \u001b[38;5;28;01mFalse\u001b[39;00m\n\u001b[1;32m--> 132\u001b[0m is_game_over(scores, game_over_bool)\n",
      "Cell \u001b[1;32mIn[35], line 132\u001b[0m, in \u001b[0;36mis_game_over\u001b[1;34m(score_list, some_bool)\u001b[0m\n\u001b[0;32m    130\u001b[0m scores \u001b[38;5;241m=\u001b[39m score_keeper(check_dictionary(state, capital))\n\u001b[0;32m    131\u001b[0m game_over_bool \u001b[38;5;241m=\u001b[39m \u001b[38;5;28;01mFalse\u001b[39;00m\n\u001b[1;32m--> 132\u001b[0m is_game_over(scores, game_over_bool)\n",
      "Cell \u001b[1;32mIn[35], line 132\u001b[0m, in \u001b[0;36mis_game_over\u001b[1;34m(score_list, some_bool)\u001b[0m\n\u001b[0;32m    130\u001b[0m scores \u001b[38;5;241m=\u001b[39m score_keeper(check_dictionary(state, capital))\n\u001b[0;32m    131\u001b[0m game_over_bool \u001b[38;5;241m=\u001b[39m \u001b[38;5;28;01mFalse\u001b[39;00m\n\u001b[1;32m--> 132\u001b[0m is_game_over(scores, game_over_bool)\n",
      "Cell \u001b[1;32mIn[35], line 128\u001b[0m, in \u001b[0;36mis_game_over\u001b[1;34m(score_list, some_bool)\u001b[0m\n\u001b[0;32m    126\u001b[0m \u001b[38;5;28;01mif\u001b[39;00m capital \u001b[38;5;241m==\u001b[39m \u001b[38;5;124m'\u001b[39m\u001b[38;5;124mq\u001b[39m\u001b[38;5;124m'\u001b[39m:\n\u001b[0;32m    127\u001b[0m     game_over_bool \u001b[38;5;241m=\u001b[39m \u001b[38;5;28;01mTrue\u001b[39;00m\n\u001b[1;32m--> 128\u001b[0m     is_game_over(scores, game_over_bool)\n\u001b[0;32m    129\u001b[0m \u001b[38;5;28;01melse\u001b[39;00m:\n\u001b[0;32m    130\u001b[0m     scores \u001b[38;5;241m=\u001b[39m score_keeper(check_dictionary(state, capital))\n",
      "\u001b[1;31mUnboundLocalError\u001b[0m: cannot access local variable 'scores' where it is not associated with a value"
     ]
    }
   ],
   "source": [
    "import random\n",
    "\n",
    "# Declare the state capitals dictionary as a global constant\n",
    "CAPITALS = {\n",
    "    \"Alabama\" : \"Montgomery\",\n",
    "    \"Alaska\" : \"Juneau\",\n",
    "    \"Arizona\" : \"Phoenix\",\n",
    "    \"Arkansas\" : \"Little Rock\",\n",
    "    \"California\" : \"Sacramento\",\n",
    "    \"Colorado\" : \"Denver\",\n",
    "    \"Connecticut\" : \"Hartford\",\n",
    "    \"Delaware\" : \"Dover\",\n",
    "    \"Florida\" : \"Tallahassee\",\n",
    "    \"Georgia\" : \"Atlanta\",\n",
    "    \"Hawaii\" : \"Honolulu\",\n",
    "    \"Idaho\" : \"Boise\",\n",
    "    \"Illinois\" : \"Springfield\",\n",
    "    \"Indiana\" : \"Indianapolis\",\n",
    "    \"Iowa\" : \"Des Moines\",\n",
    "    \"Kansas\" : \"Topeka\",\n",
    "    \"Kentucky\" : \"Frankfort\",\n",
    "    \"Louisiana\" : \"Baton Rouge\",\n",
    "    \"Maine\" : \"Augusta\",\n",
    "    \"Maryland\" : \"Annapolis\",\n",
    "    \"Massachusetts\" : \"Boston\",\n",
    "    \"Michigan\" : \"Lansing\",\n",
    "    \"Minnesota\" : \"Saint Paul\",\n",
    "    \"Mississippi\" : \"Jackson\",\n",
    "    \"Missouri\" : \"Jefferson City\",\n",
    "    \"Montana\" : \"Helena\",\n",
    "    \"Nebraska\" : \"Lincoln\",\n",
    "    \"Nevada\" : \"Carson City\",\n",
    "    \"New Hampshire\" : \"Concord\",\n",
    "    \"New Jersey\" : \"Trenton\",\n",
    "    \"New Mexico\" : \"Santa Fe\",\n",
    "    \"New York\" : \"Albany\",\n",
    "    \"North Carolina\" : \"Raleigh\",\n",
    "    \"North Dakota\" : \"Bismarck\",\n",
    "    \"Ohio\" : \"Columbus\",\n",
    "    \"Oklahoma\" : \"Oklahoma City\",\n",
    "    \"Oregon\" : \"Salem\",\n",
    "    \"Pennsylvania\" : \"Harrisburg\",\n",
    "    \"Rhode Island\" : \"Providence\",\n",
    "    \"South Carolina\" : \"Columbia\",\n",
    "    \"South Dakota\" : \"Pierre\",\n",
    "    \"Tennessee\" : \"Nashville\",\n",
    "    \"Texas\" : \"Austin\",\n",
    "    \"Utah\" : \"Salt Lake City\",\n",
    "    \"Vermont\" : \"Montpelier\",\n",
    "    \"Virginia\" : \"Richmond\",\n",
    "    \"Washington\" : \"Olympia\",\n",
    "    \"West Virginia\" : \"Charleston\",\n",
    "    \"Wisconsin\" : \"Madison\",\n",
    "    \"Wyoming\" : \"Cheyenne\"\n",
    "}\n",
    "\n",
    "# Other global variables\n",
    "#game_over_bool = False\n",
    "scores = [0, 0]\n",
    "\n",
    "# Declare the main method()\n",
    "def main():\n",
    "    scores = [0, 0]\n",
    "    state = get_random_state()    \n",
    "    capital = get_capital(state)\n",
    "    \n",
    "    if capital == 'q':\n",
    "        game_over_bool = True\n",
    "        is_game_over(scores, game_over_bool)\n",
    "    else:\n",
    "        scores = score_keeper(check_dictionary(state, capital))\n",
    "        game_over_bool = False\n",
    "        is_game_over(scores, game_over_bool)\n",
    "\n",
    "# Get a random key from the dictionary\n",
    "# Reference: https://stackoverflow.com/questions/4859292/how-can-i-get-a-random-key-value-pair-from-a-dictionary\n",
    "def get_random_state():\n",
    "    random_key = list(CAPITALS.keys())\n",
    "    return random.choice(random_key)\n",
    "\n",
    "# Gets a value from the user\n",
    "def get_capital(some_state):\n",
    "    print(some_state)\n",
    "    user_value = input('\\nEnter the name of the state\\'s capital!\\nPress \"q\" to quit: \\n')\n",
    "    return user_value\n",
    "\n",
    "# Determines whether the user value exists in CAPITALS and whether the value matches a key.\n",
    "# Returns true for correct answers and false for incorrect responses.\n",
    "# If the user selects \"quit\", calls the game over method.\n",
    "def check_dictionary(some_state, some_capital):\n",
    "    correct = False\n",
    "    \n",
    "    for key in CAPITALS:\n",
    "        if some_state == key and some_capital == CAPITALS[key]:\n",
    "            print('\\nCorrect!\\n')\n",
    "            correct = True\n",
    "            return correct\n",
    "              \n",
    "        elif some_state == key and some_capital != CAPITALS[key]:\n",
    "            print('\\nSorry, that is not correct!\\n')\n",
    "            correct = False\n",
    "            return correct\n",
    "\n",
    "# Adds 1 point to the correct or incorrect accumulator depending on the results of check_dictionary.\n",
    "# This returns the accumulators as a list.\n",
    "# Reference: https://www.geeksforgeeks.org/g-fact-41-multiple-return-values-in-python/#\n",
    "def score_keeper(score):\n",
    "    correct = 0\n",
    "    incorrect = 0\n",
    "    \n",
    "    if score == True:\n",
    "        correct += 1\n",
    "    else:\n",
    "        incorrect +=1\n",
    "    return [correct, incorrect]\n",
    "      \n",
    "# Checks whether the user has chosen to end the game.\n",
    "# If not, the game continues.\n",
    "def is_game_over(score_list, some_bool):\n",
    "    if some_bool == True:\n",
    "        print(f'\\nTotal Correct: {score_list[0]}')\n",
    "        print(f'Total Incorrect: {score_list[1]}')\n",
    "    else:\n",
    "        state = get_random_state()    \n",
    "        capital = get_capital(state)\n",
    "        \n",
    "        if capital == 'q':\n",
    "            game_over_bool = True\n",
    "            is_game_over(scores, game_over_bool)\n",
    "        else:\n",
    "            scores = score_keeper(check_dictionary(state, capital))\n",
    "            game_over_bool = False\n",
    "            is_game_over(scores, game_over_bool)\n",
    "            \n",
    "# Call the main() method\n",
    "main()"
   ]
  },
  {
   "cell_type": "code",
   "execution_count": null,
   "id": "988475ea-d3fe-485f-9e2f-1ae890043771",
   "metadata": {},
   "outputs": [],
   "source": []
  }
 ],
 "metadata": {
  "kernelspec": {
   "display_name": "Python 3 (ipykernel)",
   "language": "python",
   "name": "python3"
  },
  "language_info": {
   "codemirror_mode": {
    "name": "ipython",
    "version": 3
   },
   "file_extension": ".py",
   "mimetype": "text/x-python",
   "name": "python",
   "nbconvert_exporter": "python",
   "pygments_lexer": "ipython3",
   "version": "3.11.5"
  }
 },
 "nbformat": 4,
 "nbformat_minor": 5
}
