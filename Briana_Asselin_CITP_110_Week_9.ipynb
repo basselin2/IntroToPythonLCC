{
 "cells": [
  {
   "cell_type": "markdown",
   "id": "05dd6692-4ac4-44a0-9090-056525248b85",
   "metadata": {},
   "source": [
    "# Ch.9 Coding Set \n",
    "(Starting Out With Python 5th Edition)\n",
    "\n",
    "Briana Asselin"
   ]
  },
  {
   "cell_type": "markdown",
   "id": "52864188-d8d2-4f09-a09a-80542abcef83",
   "metadata": {},
   "source": [
    "### Programming Exercises: Problem 2 (Capitals Quiz)\n",
    "\n",
    "**Question:** Write a program that creates a dictionary containing the U.S. states as keys, and their capitals as values. (Use the Internet to get a list of the states and their capitals.) The program should then randomly quiz the user by displaying the name of a state and asking the user to enter that state’s capital. The program should keep a count of the number of correct and incorrect responses. (As an alternative to the U.S. states, the program can use the names of countries and their capitals.)\n",
    "\n",
    "------------------------------------------------------------------------------------------------------------ \n",
    "**Overview:** This assignment requires the programmer to create a dictionary, output a key from the dictionary, get a value input from the user, compare the dictionary key:value pairs to the user's input, and output the result of the comparison (correct or incorrect). This program must also track the number of correct / incorrect user responses. The assignment does not indicate when these counts should be displayed to the user, so I am putting them on the ending screen that will appear when the user quits the game. I will use the state capitals option for this program. "
   ]
  },
  {
   "cell_type": "code",
   "execution_count": null,
   "id": "abe26899-2f2b-4e25-944b-3b1b01c4d5e4",
   "metadata": {},
   "outputs": [],
   "source": [
    "# Declare the state capitals dictionary as a global constant\n",
    "CAPITALS = {\n",
    "    \"Alabama\" : \"Montgomery\",\n",
    "    \"Alaska\" : \"Juneau\",\n",
    "    \"Arizona\" : \"Phoenix\",\n",
    "    \"Arkansas\" : \"Little Rock\",\n",
    "    \"California\" : \"Sacramento\",\n",
    "    \"Colorado\" : \"Denver\",\n",
    "    \"Connecticut\" : \"Hartford\",\n",
    "    \"Delaware\" : \"Dover\",\n",
    "    \"Florida\" : \"Tallahassee\",\n",
    "    \"Georgia\" : \"Atlanta\",\n",
    "    \"Hawaii\" : \"Honolulu\",\n",
    "    \"Idaho\" : \"Boise\",\n",
    "    \"Illinois\" : \"Springfield\",\n",
    "    \"Indiana\" : \"Indianapolis\",\n",
    "    \"Iowa\" : \"Des Moines\",\n",
    "    \"Kansas\" : \"Topeka\",\n",
    "    \"\" : \"\",\n",
    "    \"\" : \"\",\n",
    "    \"\" : \"\",\n",
    "    \"\" : \"\",\n",
    "    \"\" : \"\",\n",
    "    \"\" : \"\",\n",
    "    \"\" : \"\",\n",
    "    \"\" : \"\",\n",
    "    \"\" : \"\",\n",
    "    \"\" : \"\",\n",
    "    \"\" : \"\",\n",
    "    \"\" : \"\",\n",
    "    \"\" : \"\",\n",
    "    \"\" : \"\",\n",
    "    \"\" : \"\",\n",
    "    \"\" : \"\",\n",
    "    \"\" : \"\",\n",
    "    \"\" : \"\",\n",
    "    \"\" : \"\",\n",
    "    \"\" : \"\",\n",
    "    \"\" : \"\",\n",
    "    \"\" : \"\",\n",
    "    \"\" : \"\",\n",
    "    \"\" : \"\",\n",
    "    \"\" : \"\",\n",
    "    \"\" : \"\",\n",
    "    \"\" : \"\",\n",
    "    \"\" : \"\",\n",
    "    \"\" : \"\",\n",
    "    \"\" : \"\",\n",
    "    \"\" : \"\",\n",
    "    \"\" : \"\",\n",
    "    \"\" : \"\",\n",
    "    \"\" : \"\"\n",
    "}"
   ]
  }
 ],
 "metadata": {
  "kernelspec": {
   "display_name": "Python 3 (ipykernel)",
   "language": "python",
   "name": "python3"
  },
  "language_info": {
   "codemirror_mode": {
    "name": "ipython",
    "version": 3
   },
   "file_extension": ".py",
   "mimetype": "text/x-python",
   "name": "python",
   "nbconvert_exporter": "python",
   "pygments_lexer": "ipython3",
   "version": "3.11.5"
  }
 },
 "nbformat": 4,
 "nbformat_minor": 5
}
