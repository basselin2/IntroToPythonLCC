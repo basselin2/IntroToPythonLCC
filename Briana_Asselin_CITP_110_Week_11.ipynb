{
 "cells": [
  {
   "cell_type": "markdown",
   "id": "21b73483-5686-4de5-85ee-8a6785610c42",
   "metadata": {},
   "source": [
    "# Ch.11 Coding Set \n",
    "(Starting Out With Python 5th Edition)\n",
    "\n",
    "Briana Asselin"
   ]
  },
  {
   "cell_type": "markdown",
   "id": "6baf5c30-6ea5-4bff-911d-304d030784fd",
   "metadata": {},
   "source": [
    "### Programming Exercises: Problem 1 (Employee and ProductionWorker Classes)\n",
    "\n",
    "**Question:** Write an Employee class that keeps data attributes for the Employee name and Employee number. Next, write a class named ProductionWorker that is a subclass of the Employee class. The ProductionWorker class should keep data attributes for Shift number (an integer, such as 1, 2, or 3) and Hourly pay rate. \n",
    "\n",
    "The workday is divided into two shifts: day and night. The shift attribute will hold an integer value representing the shift that the employee works. The day shift is shift 1 and the night shift is shift 2. Write the appropriate accessor and mutator methods for each class.\n",
    "\n",
    "Once you have written the classes, write a program that creates an object of the ProductionWorker class and prompts the user to enter data for each of the object’s data attributes. Store the data in the object, then use the object’s accessor methods to retrieve it and display it on the screen.\n",
    "\n",
    "------------------------------------------------------------------------------------------------------------ \n",
    "**Overview:** This assignment requires the programmer to create a superclass and a subclass with the necessary attributes and get/set methods. The program will need to be able to create a ProductionWorker object and to display the information that the user entered. "
   ]
  },
  {
   "cell_type": "code",
   "execution_count": 18,
   "id": "53ef8815-6a23-49e2-8560-c2aedeec3885",
   "metadata": {},
   "outputs": [],
   "source": [
    "# This class holds information on active employees\n",
    "class Employee:\n",
    "    \n",
    "    # Initialize the attributes\n",
    "    def __init__(self, id_num, name):\n",
    "        self.__id_num = id_num\n",
    "        self.__name = name\n",
    "    \n",
    "    # Set and get the employee ID number\n",
    "    def set_id_num(self, id_num):\n",
    "        self.__id_num = id_num\n",
    "        \n",
    "    def get_id_num(self):\n",
    "        return self.__id_num\n",
    "    \n",
    "    # Set and get the employee's name\n",
    "    def set_name(self, name):\n",
    "        self.__name = name\n",
    "        \n",
    "    def get_name(self):\n",
    "        return self.__name"
   ]
  },
  {
   "cell_type": "code",
   "execution_count": 19,
   "id": "76844102-7792-4e80-8f71-1c616cfad5b2",
   "metadata": {
    "tags": []
   },
   "outputs": [],
   "source": [
    "# This class hold information on employees with the Production Worker classification\n",
    "\n",
    "class ProductionWorker(Employee):\n",
    "    # Initialize the attributes\n",
    "    def __init__(self, id_num, name, shift_num, hourly_pay):\n",
    "        super().__init__(id_num, name)\n",
    "        self.__shift_num = shift_num\n",
    "        self.__hourly_pay = hourly_pay\n",
    "        \n",
    "   # Set and get the shift number (1 for day shift, 2 for night shift)\n",
    "    def set_shift_num(self, shift_num):\n",
    "        self.__shift_num = shift_num\n",
    "        \n",
    "    def get_shift_num(self):\n",
    "        return self.__shift_num\n",
    "    \n",
    "    # Set and get the employee's hourly pay rate\n",
    "    def set_hourly_pay(self, hourly_pay):\n",
    "        self.__hourly_pay = hourly_pay\n",
    "        \n",
    "    def get_hourly_pay(self):\n",
    "        return self.__hourly_pay    \n",
    "    \n",
    "    "
   ]
  },
  {
   "cell_type": "code",
   "execution_count": 24,
   "id": "8751f76d-222c-4d7e-b672-1e03fe4849bd",
   "metadata": {
    "tags": []
   },
   "outputs": [
    {
     "name": "stdin",
     "output_type": "stream",
     "text": [
      "Enter the employee's ID number:  12345\n",
      "Enter the employee's full name:  Obi-Wan Kenobi\n",
      "Enter the employee's shift number:  2\n",
      "Enter the employee's hourly pay rate:  14.46\n"
     ]
    },
    {
     "name": "stdout",
     "output_type": "stream",
     "text": [
      "Employee ID: 12345\n",
      "Employee Name: Obi-Wan Kenobi\n",
      "Employee Shift: 2\n",
      "Employee Pay Rate: 14.46\n",
      "--------------------------------\n"
     ]
    }
   ],
   "source": [
    "#prod_worker_1 = ProductionWorker(12345, 'Obi-Wan Kenobi', 2, 14.46 )\n",
    "\n",
    "employee_id = int(input('Enter the employee\\'s ID number: '))\n",
    "employee_name = (input('Enter the employee\\'s full name: '))\n",
    "employee_shift= int(input('Enter the employee\\'s shift number: '))\n",
    "employee_pay_rate = float(input('Enter the employee\\'s hourly pay rate: '))\n",
    "\n",
    "employee_1 = ProductionWorker(employee_id, employee_name, employee_shift, employee_pay_rate)\n",
    "\n",
    "print(f'Employee ID: {employee_1.get_id_num()}\\nEmployee Name: {employee_1.get_name()}')\n",
    "print(f'Employee Shift: {employee_1.get_shift_num()}\\nEmployee Pay Rate: {employee_1.get_hourly_pay():.2f}')\n",
    "print('--------------------------------')\n"
   ]
  },
  {
   "cell_type": "code",
   "execution_count": null,
   "id": "dc20f18b-baa0-4783-ba2d-163b8c6e5777",
   "metadata": {},
   "outputs": [],
   "source": []
  },
  {
   "cell_type": "markdown",
   "id": "26ad6cb1-c103-48a5-9f84-3c20f0070612",
   "metadata": {},
   "source": [
    "### Programming Exercises: Problem 2 (ShiftSupervisor Class)\n",
    "\n",
    "**Question:** In a particular factory, a shift supervisor is a salaried employee who supervises a shift. In addition to a salary, the shift supervisor earns a yearly bonus when his or her shift meets production goals. Write a ShiftSupervisor class that is a subclass of the Employee class you created in Programming Exercise 1. The ShiftSupervisor class should keep a data attribute for the annual salary, and a data attribute for the annual production bonus that a shift supervisor has earned. Demonstrate the class by writing a program that uses a ShiftSupervisor object.\n",
    "\n",
    "------------------------------------------------------------------------------------------------------------ \n",
    "**Overview:** This assignment requires the programmer to import the original Employee class and create another subclass of Employee. The programmer then needs to create a program that uses the subclass' attributes. I plan to make a 1-5 rating chart that will determine the supervisor's yearly bonus based on a performance rating that is entered by the user. The program will calculate the supervisor's total pay for the year and display it for the user."
   ]
  },
  {
   "cell_type": "code",
   "execution_count": null,
   "id": "5a21c74c-4982-4222-98f9-8f7627067db4",
   "metadata": {},
   "outputs": [],
   "source": []
  },
  {
   "cell_type": "code",
   "execution_count": null,
   "id": "79463765-b7fc-4b64-b40c-0df125bc1621",
   "metadata": {},
   "outputs": [],
   "source": []
  },
  {
   "cell_type": "code",
   "execution_count": null,
   "id": "fc1d2a06-a7f7-47e5-859a-0b47c738238d",
   "metadata": {},
   "outputs": [],
   "source": []
  },
  {
   "cell_type": "code",
   "execution_count": 14,
   "id": "1750f76d-678f-4783-bc10-6ab72be2f3b5",
   "metadata": {
    "tags": []
   },
   "outputs": [],
   "source": [
    "# Practice at using super() and at importing classes\n",
    "\n",
    "class Dinosaur:\n",
    "    \n",
    "    def __init__(self, species, body, era):\n",
    "        self.__species = species\n",
    "        self.__body_type = body\n",
    "        self.__era = era\n",
    "        \n",
    "    # Set and get the dinosaur species name\n",
    "    def set_species(self, species):\n",
    "        self.__species = species\n",
    "        \n",
    "    def get_species(self):\n",
    "        return self.__species \n",
    "        \n",
    "    # Set and get the body type (bipedal, quadrupedal, both)\n",
    "    def set_body_type(self, body):\n",
    "        self.__body_type = body\n",
    "        \n",
    "    def get_body_type(self):\n",
    "        return self.__body_type\n",
    "\n",
    "    # Set and get the era the dinosaur lived in (Triassic, Jurassic, Cretaceous) \n",
    "    def set_era(self, era):\n",
    "        self.__era = era\n",
    "        \n",
    "    def get_era(self):\n",
    "        return self.__era \n",
    "    "
   ]
  },
  {
   "cell_type": "code",
   "execution_count": 17,
   "id": "aa07f1a4-3969-42a0-a969-478ff87cad93",
   "metadata": {
    "tags": []
   },
   "outputs": [
    {
     "name": "stdout",
     "output_type": "stream",
     "text": [
      "The carnivorous dinosaur Spinosaurus aegyptiacus lived during the Cretaceous era.\n",
      "Spinosaurus aegyptiacus was quadrupedal and had a large sail on its back.\n"
     ]
    }
   ],
   "source": [
    "# In one of my last coding assignments, I had trouble importing a class from one cell to another.\n",
    "# According to ChatGPT, I do not need to import across cells. I just need to run the class cell before using it in another cell.\n",
    "\n",
    "# The super() practice will take place in this cell.\n",
    "\n",
    "# I had to use ChatGPT to figure out which parameters needed to go in the Carnivore __init__\n",
    "# versus the super() __init__.\n",
    "class Carnivore(Dinosaur):\n",
    "    def __init__(self, species, body, era, special_features):\n",
    "        super().__init__(species, body, era)\n",
    "        self.__special_features = special_features\n",
    "\n",
    "    # Set and get any special features of the carnivourous dinosaur    \n",
    "    def set_special_features(self, special_features):\n",
    "         self.__special_features = special_features\n",
    "        \n",
    "    def get_special_features(self):\n",
    "        return self.__special_features\n",
    "    \n",
    "\n",
    "carnivore_1 = Carnivore('Spinosaurus aegyptiacus', 'quadrupedal', 'Cretaceous', 'sail on its back')\n",
    "\n",
    "print(f'The carnivorous dinosaur {carnivore_1.get_species()} lived during the {carnivore_1.get_era()} era.')\n",
    "print(f'{carnivore_1.get_species()} was {carnivore_1.get_body_type()} and had a large {carnivore_1.get_special_features()}.')\n",
    "\n",
    "        "
   ]
  },
  {
   "cell_type": "code",
   "execution_count": null,
   "id": "15103d68-575b-4afe-b8b3-7ce409adcf19",
   "metadata": {},
   "outputs": [],
   "source": []
  }
 ],
 "metadata": {
  "kernelspec": {
   "display_name": "Python 3 (ipykernel)",
   "language": "python",
   "name": "python3"
  },
  "language_info": {
   "codemirror_mode": {
    "name": "ipython",
    "version": 3
   },
   "file_extension": ".py",
   "mimetype": "text/x-python",
   "name": "python",
   "nbconvert_exporter": "python",
   "pygments_lexer": "ipython3",
   "version": "3.11.5"
  }
 },
 "nbformat": 4,
 "nbformat_minor": 5
}
