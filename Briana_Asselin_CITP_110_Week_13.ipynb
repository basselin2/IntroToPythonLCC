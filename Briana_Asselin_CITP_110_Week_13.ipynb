{
 "cells": [
  {
   "cell_type": "markdown",
   "id": "11bcb06b-7315-4531-85c4-628adf19f05c",
   "metadata": {},
   "source": [
    "# Week 13 (Chapter 14) Coding Set \n",
    "(Starting Out With Python 5th Edition)\n",
    "\n",
    "Briana Asselin"
   ]
  },
  {
   "cell_type": "markdown",
   "id": "c395b70c-9bd2-4630-a710-b0e80949b38d",
   "metadata": {},
   "source": [
    "### Programming Exercises: Problem 2 (Phonebook Database)\n",
    "\n",
    "**Question:** Write a program that creates a database named phonebook.db. The database should have a table named Entries with columns for a person’s name and phone number. Next, write a CRUD application that lets the user add rows to the Entries table, look up a person’s phone number, change a person’s phone number, and delete specified rows.\n",
    "\n",
    "------------------------------------------------------------------------------------------------------------ \n",
    "**Overview:** This assignment requires the programmer to set up a database with one table that contains 2+ columns. I plan to split the first and last names into separate columns. The programmer must then create a program with multiple methods for adding a record to the database, looking up a record, editing a record, and deleting a record. I intend to make the deletion method a logical delete, which means that the record will still exist, but it will have a T/F column that will be used to exclude deleted records in the lookup method."
   ]
  },
  {
   "cell_type": "code",
   "execution_count": null,
   "id": "752a6101-37ef-4820-805b-9f2784209200",
   "metadata": {},
   "outputs": [],
   "source": []
  }
 ],
 "metadata": {
  "kernelspec": {
   "display_name": "Python 3 (ipykernel)",
   "language": "python",
   "name": "python3"
  },
  "language_info": {
   "codemirror_mode": {
    "name": "ipython",
    "version": 3
   },
   "file_extension": ".py",
   "mimetype": "text/x-python",
   "name": "python",
   "nbconvert_exporter": "python",
   "pygments_lexer": "ipython3",
   "version": "3.11.5"
  }
 },
 "nbformat": 4,
 "nbformat_minor": 5
}
