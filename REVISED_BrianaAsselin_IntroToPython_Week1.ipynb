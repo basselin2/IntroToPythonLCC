{
 "cells": [
  {
   "cell_type": "markdown",
   "id": "b904423b",
   "metadata": {},
   "source": [
    "# Starting Out with Python 5e - Chapter 1 Exercises"
   ]
  },
  {
   "cell_type": "markdown",
   "id": "08051a52",
   "metadata": {},
   "source": [
    "## Exercise 1"
   ]
  },
  {
   "cell_type": "code",
   "execution_count": 1,
   "id": "0fcdc099",
   "metadata": {},
   "outputs": [
    {
     "name": "stdout",
     "output_type": "stream",
     "text": [
      "This is a test of the Python interpreter.\n"
     ]
    }
   ],
   "source": [
    "# The textbook asks the reader to create and print the following string:\n",
    "print('This is a test of the Python interpreter.')"
   ]
  },
  {
   "cell_type": "markdown",
   "id": "3b8a232a",
   "metadata": {},
   "source": [
    "## Exercise 3\n",
    "\n",
    "I misunderstood what this question was asking the first time.\n",
    "The response below has been revised to include the converted binary values."
   ]
  },
  {
   "cell_type": "markdown",
   "id": "585c74d5",
   "metadata": {},
   "source": [
    "According to the textbook, the binary numbering system uses powers of 2 to encode values. \n",
    "The highest number that can be stored in one byte is 255.\n",
    "A binary byte is arranged by encoding a number as powers of 2 from right-to-left: \n",
    "2^7 + 2^6 + 2^5 + 2^4 + 2^3 + 2^2 + 2^1 + 2^0.\n",
    "\n",
    "The exercise asks the reader to convert the values 11, 65, 100, and 255 to binary. \n",
    "Below, the powers of 2 have been assigned to variables to make it easier to follow what's happening in the conversion:\n",
    "a = 1\n",
    "b = 2\n",
    "c = 4\n",
    "d = 8\n",
    "e = 16\n",
    "f = 32\n",
    "g = 64\n",
    "h = 128\n",
    "\n",
    "11 = (0*h) + (0*g) + (0*f) + (0*e) + (1*d) + (0*c) + (1*b) + (1*a) = d+b+a\n",
    "65 = (0*h) + (1*g) + (0*f) + (0*e) + (0*d) + (0*c) + (0*b) + (1*a) = g+a\n",
    "100 = (0*h) + (1*g) + (1*f) + (0*e) + (0*d) + (1*c) + (0*b) + (0*a) = g+f+c\n",
    "255 = (1*h) + (1*g) + (1*f) + (1*e) + (1*d) + (1*c) + (1*b) + (1*a) = h+g+f+e+d+c+b+a\n",
    "\n",
    "### 11 = 00001011\n",
    "### 65 = 01000001\n",
    "### 100 = 01100100\n",
    "### 255 = 11111111"
   ]
  },
  {
   "cell_type": "markdown",
   "id": "6754ab75",
   "metadata": {},
   "source": [
    "## Exercise 5"
   ]
  },
  {
   "cell_type": "markdown",
   "id": "a7bd3524",
   "metadata": {},
   "source": [
    "The exercise directs the reader to use the ASCII chart in Appendix C of the textbook (5th edition) to convert their first name into ASCII codes. The textbook indicates that different numeric codes are used for uppercase and lowercase letters in ASCII.\n",
    "\n",
    "To convert Briana, the ASCII codes are: B = 66 r = 114 i = 105 a = 97 n = 110 a = 97"
   ]
  },
  {
   "cell_type": "code",
   "execution_count": null,
   "id": "1d487e91",
   "metadata": {},
   "outputs": [],
   "source": []
  }
 ],
 "metadata": {
  "kernelspec": {
   "display_name": "Python 3 (ipykernel)",
   "language": "python",
   "name": "python3"
  },
  "language_info": {
   "codemirror_mode": {
    "name": "ipython",
    "version": 3
   },
   "file_extension": ".py",
   "mimetype": "text/x-python",
   "name": "python",
   "nbconvert_exporter": "python",
   "pygments_lexer": "ipython3",
   "version": "3.11.5"
  }
 },
 "nbformat": 4,
 "nbformat_minor": 5
}
