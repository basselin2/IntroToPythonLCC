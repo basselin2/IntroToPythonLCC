{
 "cells": [
  {
   "cell_type": "markdown",
   "id": "48798a85-e997-40d6-9ef7-c74e892f3fba",
   "metadata": {},
   "source": [
    "# Ch.7 Coding Set \n",
    "(Starting Out With Python 5th Edition)\n",
    "\n",
    "Briana Asselin"
   ]
  },
  {
   "cell_type": "markdown",
   "id": "f5102cd5-0971-4de8-85bf-2204a82a2b49",
   "metadata": {},
   "source": [
    "### Algorithm Workbench: Problem 1 (Create a List)\n",
    "\n",
    "**Question:** Write a statement that creates a list with the following strings: Einstein, Newton, Copernicus, and Kepler.\n",
    "\n",
    "------------------------------------------------------------------------------------------------------------ \n",
    "**Overview:** This question requires the programmer to create a list that is composed of the names of famous scientists. The list will contain strings."
   ]
  },
  {
   "cell_type": "code",
   "execution_count": 1,
   "id": "d5d5340d-2efe-443f-98e3-fb1661e79f01",
   "metadata": {
    "tags": []
   },
   "outputs": [
    {
     "name": "stdout",
     "output_type": "stream",
     "text": [
      "['Einstein', 'Newton', 'Copernicus', 'Kepler']\n"
     ]
    }
   ],
   "source": [
    "# Create the list variable and add values to the list\n",
    "scientists = ['Einstein', 'Newton', 'Copernicus', 'Kepler']\n",
    "\n",
    "# Print the list to verify that the values were added\n",
    "print(scientists)"
   ]
  },
  {
   "cell_type": "markdown",
   "id": "33b0969a-8644-420b-bfe6-b92f23973c65",
   "metadata": {},
   "source": [
    "### Algorithm Workbench: Problem 5 (Take in a List)\n",
    "\n",
    "**Question:** Write a function that accepts a list as an argument (assume the list contains integers) and returns the total of the values in the list.\n",
    "\n",
    "------------------------------------------------------------------------------------------------------------ \n",
    "**Overview:** This question requires the programmer to create a method that will take a list as a parameter. The method will iterate over the list and add the contents together. After the sum of the values is returned, the programmer can print it or use it in other functions."
   ]
  },
  {
   "cell_type": "code",
   "execution_count": 2,
   "id": "2356800c-dfcc-4dfd-b546-2451bcf25ccc",
   "metadata": {
    "tags": []
   },
   "outputs": [
    {
     "ename": "UnboundLocalError",
     "evalue": "cannot access local variable 'list_sum' where it is not associated with a value",
     "output_type": "error",
     "traceback": [
      "\u001b[1;31m---------------------------------------------------------------------------\u001b[0m",
      "\u001b[1;31mUnboundLocalError\u001b[0m                         Traceback (most recent call last)",
      "Cell \u001b[1;32mIn[2], line 18\u001b[0m\n\u001b[0;32m     14\u001b[0m     \u001b[38;5;28mprint\u001b[39m(list_sum)\n\u001b[0;32m     16\u001b[0m \u001b[38;5;66;03m# Call the function so it will run\u001b[39;00m\n\u001b[0;32m     17\u001b[0m \u001b[38;5;66;03m# Pass the list as a parametner\u001b[39;00m\n\u001b[1;32m---> 18\u001b[0m sum_generator(num_list)\n",
      "Cell \u001b[1;32mIn[2], line 11\u001b[0m, in \u001b[0;36msum_generator\u001b[1;34m(some_list)\u001b[0m\n\u001b[0;32m      9\u001b[0m \u001b[38;5;28;01mdef\u001b[39;00m \u001b[38;5;21msum_generator\u001b[39m(some_list): \n\u001b[0;32m     10\u001b[0m     \u001b[38;5;28;01mfor\u001b[39;00m i \u001b[38;5;129;01min\u001b[39;00m some_list:\n\u001b[1;32m---> 11\u001b[0m         list_sum \u001b[38;5;241m+\u001b[39m\u001b[38;5;241m=\u001b[39m i\n\u001b[0;32m     13\u001b[0m     \u001b[38;5;66;03m# Print the sum when the loop has finished\u001b[39;00m\n\u001b[0;32m     14\u001b[0m     \u001b[38;5;28mprint\u001b[39m(list_sum)\n",
      "\u001b[1;31mUnboundLocalError\u001b[0m: cannot access local variable 'list_sum' where it is not associated with a value"
     ]
    }
   ],
   "source": [
    "# Create the list variable\n",
    "# Add values to the list for testing purposes\n",
    "num_list = [1, 2, 3, 8, 9, 10]\n",
    "\n",
    "# Create an accumulator variable for the loop\n",
    "list_sum = 0\n",
    "\n",
    "# Define the function that takes in a parameter\n",
    "def sum_generator(some_list): \n",
    "    for i in some_list:\n",
    "        list_sum += i\n",
    "        \n",
    "    # Print the sum when the loop has finished\n",
    "    print(list_sum)\n",
    "\n",
    "# Call the function so it will run\n",
    "# Pass the list as a parametner\n",
    "sum_generator(num_list)\n"
   ]
  },
  {
   "cell_type": "code",
   "execution_count": null,
   "id": "52d6cc07-7061-449f-bf75-77ad0cd136ba",
   "metadata": {},
   "outputs": [],
   "source": [
    "# Create the list variable\n",
    "# Add values to the list for testing purposes\n",
    "num_list = [1, 2, 3, 8, 9, 10]\n",
    "\n",
    "# Create an accumulator variable for the loop\n",
    "list_sum = 0\n",
    "\n",
    "# Define the function that takes in a parameter\n",
    "def sum_generator(some_list): \n",
    "    for i in some_list:\n",
    "        list_sum += i\n",
    "        \n",
    "    # Print the sum when the loop has finished\n",
    "    print(list_sum)\n",
    "\n",
    "# Call the function so it will run\n",
    "# Pass the list as a parametner\n",
    "sum_generator(num_list)"
   ]
  },
  {
   "cell_type": "code",
   "execution_count": null,
   "id": "474d629c-bdbc-4993-a635-f92703ec2ee9",
   "metadata": {},
   "outputs": [],
   "source": []
  }
 ],
 "metadata": {
  "kernelspec": {
   "display_name": "Python 3 (ipykernel)",
   "language": "python",
   "name": "python3"
  },
  "language_info": {
   "codemirror_mode": {
    "name": "ipython",
    "version": 3
   },
   "file_extension": ".py",
   "mimetype": "text/x-python",
   "name": "python",
   "nbconvert_exporter": "python",
   "pygments_lexer": "ipython3",
   "version": "3.11.5"
  }
 },
 "nbformat": 4,
 "nbformat_minor": 5
}
