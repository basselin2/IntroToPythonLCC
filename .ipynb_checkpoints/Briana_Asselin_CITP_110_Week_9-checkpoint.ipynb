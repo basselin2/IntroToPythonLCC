{
 "cells": [
  {
   "cell_type": "markdown",
   "id": "05dd6692-4ac4-44a0-9090-056525248b85",
   "metadata": {},
   "source": [
    "# Ch.9 Coding Set \n",
    "(Starting Out With Python 5th Edition)\n",
    "\n",
    "Briana Asselin"
   ]
  },
  {
   "cell_type": "markdown",
   "id": "52864188-d8d2-4f09-a09a-80542abcef83",
   "metadata": {},
   "source": [
    "### Programming Exercises: Problem 2 (Capitals Quiz)\n",
    "\n",
    "**Question:** Write a program that creates a dictionary containing the U.S. states as keys, and their capitals as values. (Use the Internet to get a list of the states and their capitals.) The program should then randomly quiz the user by displaying the name of a state and asking the user to enter that state’s capital. The program should keep a count of the number of correct and incorrect responses. (As an alternative to the U.S. states, the program can use the names of countries and their capitals.)\n",
    "\n",
    "------------------------------------------------------------------------------------------------------------ \n",
    "**Overview:** This assignment requires the programmer to create a dictionary, output a key from the dictionary, get a value input from the user, compare the dictionary key:value pairs to the user's input, and output the result of the comparison (correct or incorrect). This program must also track the number of correct / incorrect user responses. The assignment does not indicate when these counts should be displayed to the user, so I am putting them on the ending screen that will appear when the user quits the game. I will use the state capitals option for this program. "
   ]
  },
  {
   "cell_type": "code",
   "execution_count": 24,
   "id": "abe26899-2f2b-4e25-944b-3b1b01c4d5e4",
   "metadata": {
    "tags": []
   },
   "outputs": [
    {
     "name": "stdout",
     "output_type": "stream",
     "text": [
      "Alabama\n"
     ]
    },
    {
     "name": "stdin",
     "output_type": "stream",
     "text": [
      "\n",
      "Enter the name of the state's capital!\n",
      "Press \"q\" to quit: \n",
      " Little Rock\n"
     ]
    },
    {
     "name": "stdout",
     "output_type": "stream",
     "text": [
      "Sorry, that is not correct!\n",
      "\n",
      "Ohio\n"
     ]
    },
    {
     "name": "stdin",
     "output_type": "stream",
     "text": [
      "\n",
      "Enter the name of the state's capital!\n",
      "Press \"q\" to quit: \n",
      " Columbus\n"
     ]
    },
    {
     "name": "stdout",
     "output_type": "stream",
     "text": [
      "Correct!\n",
      "\n",
      "Michigan\n"
     ]
    },
    {
     "name": "stdin",
     "output_type": "stream",
     "text": [
      "\n",
      "Enter the name of the state's capital!\n",
      "Press \"q\" to quit: \n",
      " Lansing\n"
     ]
    },
    {
     "name": "stdout",
     "output_type": "stream",
     "text": [
      "Correct!\n",
      "\n",
      "Missouri\n"
     ]
    },
    {
     "name": "stdin",
     "output_type": "stream",
     "text": [
      "\n",
      "Enter the name of the state's capital!\n",
      "Press \"q\" to quit: \n",
      " Jefferson City\n"
     ]
    },
    {
     "name": "stdout",
     "output_type": "stream",
     "text": [
      "Correct!\n",
      "\n",
      "Missouri\n"
     ]
    },
    {
     "name": "stdin",
     "output_type": "stream",
     "text": [
      "\n",
      "Enter the name of the state's capital!\n",
      "Press \"q\" to quit: \n",
      " okay\n"
     ]
    },
    {
     "name": "stdout",
     "output_type": "stream",
     "text": [
      "Sorry, that is not correct!\n",
      "\n",
      "Illinois\n"
     ]
    },
    {
     "name": "stdin",
     "output_type": "stream",
     "text": [
      "\n",
      "Enter the name of the state's capital!\n",
      "Press \"q\" to quit: \n",
      " q\n"
     ]
    },
    {
     "name": "stdout",
     "output_type": "stream",
     "text": [
      "\n",
      "Total Correct: 0\n",
      "Total Incorrect: 0\n"
     ]
    }
   ],
   "source": [
    "import random\n",
    "\n",
    "# Declare the state capitals dictionary as a global constant\n",
    "CAPITALS = {\n",
    "    \"Alabama\" : \"Montgomery\",\n",
    "    \"Alaska\" : \"Juneau\",\n",
    "    \"Arizona\" : \"Phoenix\",\n",
    "    \"Arkansas\" : \"Little Rock\",\n",
    "    \"California\" : \"Sacramento\",\n",
    "    \"Colorado\" : \"Denver\",\n",
    "    \"Connecticut\" : \"Hartford\",\n",
    "    \"Delaware\" : \"Dover\",\n",
    "    \"Florida\" : \"Tallahassee\",\n",
    "    \"Georgia\" : \"Atlanta\",\n",
    "    \"Hawaii\" : \"Honolulu\",\n",
    "    \"Idaho\" : \"Boise\",\n",
    "    \"Illinois\" : \"Springfield\",\n",
    "    \"Indiana\" : \"Indianapolis\",\n",
    "    \"Iowa\" : \"Des Moines\",\n",
    "    \"Kansas\" : \"Topeka\",\n",
    "    \"Kentucky\" : \"Frankfort\",\n",
    "    \"Louisiana\" : \"Baton Rouge\",\n",
    "    \"Maine\" : \"Augusta\",\n",
    "    \"Maryland\" : \"Annapolis\",\n",
    "    \"Massachusetts\" : \"Boston\",\n",
    "    \"Michigan\" : \"Lansing\",\n",
    "    \"Minnesota\" : \"Saint Paul\",\n",
    "    \"Mississippi\" : \"Jackson\",\n",
    "    \"Missouri\" : \"Jefferson City\",\n",
    "    \"Montana\" : \"Helena\",\n",
    "    \"Nebraska\" : \"Lincoln\",\n",
    "    \"Nevada\" : \"Carson City\",\n",
    "    \"New Hampshire\" : \"Concord\",\n",
    "    \"New Jersey\" : \"Trenton\",\n",
    "    \"New Mexico\" : \"Santa Fe\",\n",
    "    \"New York\" : \"Albany\",\n",
    "    \"North Carolina\" : \"Raleigh\",\n",
    "    \"North Dakota\" : \"Bismarck\",\n",
    "    \"Ohio\" : \"Columbus\",\n",
    "    \"Oklahoma\" : \"Oklahoma City\",\n",
    "    \"Oregon\" : \"Salem\",\n",
    "    \"Pennsylvania\" : \"Harrisburg\",\n",
    "    \"Rhode Island\" : \"Providence\",\n",
    "    \"South Carolina\" : \"Columbia\",\n",
    "    \"South Dakota\" : \"Pierre\",\n",
    "    \"Tennessee\" : \"Nashville\",\n",
    "    \"Texas\" : \"Austin\",\n",
    "    \"Utah\" : \"Salt Lake City\",\n",
    "    \"Vermont\" : \"Montpelier\",\n",
    "    \"Virginia\" : \"Richmond\",\n",
    "    \"Washington\" : \"Olympia\",\n",
    "    \"West Virginia\" : \"Charleston\",\n",
    "    \"Wisconsin\" : \"Madison\",\n",
    "    \"Wyoming\" : \"Cheyenne\"\n",
    "}\n",
    "\n",
    "# Declare the main method()\n",
    "def main():\n",
    "    state = get_random_state()    \n",
    "    capital = get_capital(state)\n",
    "    check_dictionary(state, capital, [0, 0]) #ChatGPT recommended adding a list as the third parameter to hold correct and incorrect counts\n",
    "\n",
    "# Get a random key from the dictionary\n",
    "# Reference: https://stackoverflow.com/questions/4859292/how-can-i-get-a-random-key-value-pair-from-a-dictionary\n",
    "def get_random_state():\n",
    "    random_key = list(CAPITALS.keys())\n",
    "    return random.choice(random_key)\n",
    "    \n",
    "def get_capital(some_state):\n",
    "    print(some_state)\n",
    "    user_value = input('\\nEnter the name of the state\\'s capital!\\nPress \"q\" to quit: \\n')\n",
    "    return user_value\n",
    "\n",
    "def check_dictionary(some_state, some_capital, num_list): #ChatGPT recommended adding a list as the third parameter to hold correct and incorrect counts\n",
    "    correct, incorrect = num_list  \n",
    "    game_over_bool = False\n",
    "    \n",
    "    if some_capital == 'q':\n",
    "        game_over_bool = True\n",
    "        is_game_over(game_over_bool, correct, incorrect)\n",
    "        \n",
    "    else:\n",
    "        try:\n",
    "            for key in CAPITALS:\n",
    "                if some_state == key and some_capital == CAPITALS[key]:\n",
    "                    correct += 1\n",
    "                    print('\\nCorrect!\\n')\n",
    "                    is_game_over(game_over_bool, correct, incorrect)\n",
    "              \n",
    "                elif some_state == key and some_capital != CAPITALS[key]:\n",
    "                    incorrect += 1\n",
    "                    print('\\nSorry, that is not correct!\\n')\n",
    "                    is_game_over(game_over_bool, correct, incorrect)\n",
    "                    \n",
    "        except KeyError:\n",
    "            print('There is no capital with that name. Please try again.\\n')\n",
    "\n",
    "def is_game_over(some_bool, num_correct, num_incorrect):\n",
    "    if some_bool == True:\n",
    "        print(f'\\nTotal Correct: {num_correct}')\n",
    "        print(f'Total Incorrect: {num_incorrect}')\n",
    "    else:\n",
    "        state = get_random_state()    \n",
    "        capital = get_capital(state)\n",
    "        check_dictionary(state, capital)\n",
    "            \n",
    "# Call the main() method\n",
    "main()"
   ]
  },
  {
   "cell_type": "code",
   "execution_count": null,
   "id": "988475ea-d3fe-485f-9e2f-1ae890043771",
   "metadata": {},
   "outputs": [],
   "source": []
  }
 ],
 "metadata": {
  "kernelspec": {
   "display_name": "Python 3 (ipykernel)",
   "language": "python",
   "name": "python3"
  },
  "language_info": {
   "codemirror_mode": {
    "name": "ipython",
    "version": 3
   },
   "file_extension": ".py",
   "mimetype": "text/x-python",
   "name": "python",
   "nbconvert_exporter": "python",
   "pygments_lexer": "ipython3",
   "version": "3.11.5"
  }
 },
 "nbformat": 4,
 "nbformat_minor": 5
}
