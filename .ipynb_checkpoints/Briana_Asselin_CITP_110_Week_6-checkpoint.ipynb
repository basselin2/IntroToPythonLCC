{
 "cells": [
  {
   "cell_type": "markdown",
   "id": "a9b2a033-fdc0-4e9d-ac96-e7cc1edbf9ac",
   "metadata": {},
   "source": [
    "# Ch.6 Coding Set \n",
    "(Starting Out With Python 5th Edition)\n",
    "\n",
    "Briana Asselin"
   ]
  },
  {
   "cell_type": "markdown",
   "id": "d0f0db9f-2bba-4ef0-aaef-f8a2b19778d2",
   "metadata": {},
   "source": [
    "### Algorithm Workbench: Problem 1 (Create Text File)\n",
    "\n",
    "**Question:** Write a program that opens an output file with the filename my_name.txt, writes your name to the file, then closes the file.\n",
    "\n",
    "------------------------------------------------------------------------------------------------------------ \n",
    "**Overview:** This question requires the programmer to create a new file, connect to it, write a string into the file, and close it. This can be done using the \"w\" modifier with the open() method."
   ]
  },
  {
   "cell_type": "code",
   "execution_count": 2,
   "id": "41519aa5-8908-4c11-b18f-3e94ae44b719",
   "metadata": {
    "tags": []
   },
   "outputs": [],
   "source": [
    "# Set up the variable to hold the file\n",
    "# Create and open a text file called my_name in \"write\" mode\n",
    "name_file = open('my_name.txt', 'w')\n",
    "\n",
    "# Write a string to the file\n",
    "name_file.write('Briana')\n",
    "\n",
    "# Close the file\n",
    "name_file.close()"
   ]
  },
  {
   "cell_type": "markdown",
   "id": "6ff9f057-d32f-43c1-8520-3f005f2c12bc",
   "metadata": {},
   "source": [
    "### Algorithm Workbench: Problem 3 (Create Numbers File)\n",
    "\n",
    "**Question:** Write code that does the following: opens an output file with the filename number_list.txt, uses a loop to write the numbers 1 through 100 to the file, then closes the file.\n",
    "\n",
    "------------------------------------------------------------------------------------------------------------ \n",
    "**Overview:** This question requires the programmer to create a new file, connect to it, write a string into the file, and close it. This can be done using the \"w\" modifier with the open() method."
   ]
  },
  {
   "cell_type": "code",
   "execution_count": null,
   "id": "46660916-a75f-407c-95a5-88da840b97b9",
   "metadata": {},
   "outputs": [],
   "source": []
  }
 ],
 "metadata": {
  "kernelspec": {
   "display_name": "Python 3 (ipykernel)",
   "language": "python",
   "name": "python3"
  },
  "language_info": {
   "codemirror_mode": {
    "name": "ipython",
    "version": 3
   },
   "file_extension": ".py",
   "mimetype": "text/x-python",
   "name": "python",
   "nbconvert_exporter": "python",
   "pygments_lexer": "ipython3",
   "version": "3.11.5"
  }
 },
 "nbformat": 4,
 "nbformat_minor": 5
}
