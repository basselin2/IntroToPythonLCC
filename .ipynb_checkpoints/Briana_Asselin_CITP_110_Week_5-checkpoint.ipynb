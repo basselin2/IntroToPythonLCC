{
 "cells": [
  {
   "cell_type": "markdown",
   "id": "56db6845-4878-404b-a718-0aaf5abcbd5d",
   "metadata": {},
   "source": [
    "# Ch.5 Coding Set \n",
    "(Starting Out With Python 5th Edition)\n",
    "\n",
    "Briana Asselin"
   ]
  },
  {
   "cell_type": "markdown",
   "id": "f16f66c7-1a89-4bbe-b0f9-35128c3a8f25",
   "metadata": {},
   "source": [
    "### Algorithm Workbench: Problem 1 (Times Ten)\n",
    "\n",
    "**Question:** Write a function named times_ten. The function should accept an argument and display the product of its argument multiplied times 10.\n",
    "\n",
    "------------------------------------------------------------------------------------------------------------ \n",
    "**Overview:** This question requires the programmer to define an argument variable and the function. The function can be tested by writing another method to call it."
   ]
  },
  {
   "cell_type": "code",
   "execution_count": 3,
   "id": "9010a15a-5861-4449-8793-83afde2997fd",
   "metadata": {
    "tags": []
   },
   "outputs": [
    {
     "name": "stdout",
     "output_type": "stream",
     "text": [
      "30\n"
     ]
    }
   ],
   "source": [
    "# The method that will call the times_ten function.\n",
    "# We could also call this by directly passing a value into times_ten but that's generally not useful in programs.\n",
    "def main():\n",
    "    parameter_var = 3\n",
    "    times_ten(parameter_var)\n",
    "    \n",
    "# This is the definition of the times_ten function.\n",
    "def times_ten(some_num):\n",
    "    product_var = some_num * 10\n",
    "    print(product_var)\n",
    "    \n",
    "main()"
   ]
  },
  {
   "cell_type": "markdown",
   "id": "816b7aa7-9eb0-4ae4-aba4-33cf7549da4f",
   "metadata": {},
   "source": [
    "### Algorithm Workbench: Problem 2 (Pass an Argument)\n",
    "\n",
    "**Question:** Examine the following function header, then write a statement that calls the function, passing 12 as an argument.\\\n",
    "    def show_value(quantity):\n",
    "\n",
    "------------------------------------------------------------------------------------------------------------ \n",
    "**Overview:** This question requires the programmer to add some code to the given function and write another method to call it. The programmer must also pass a value into the given function."
   ]
  },
  {
   "cell_type": "code",
   "execution_count": 4,
   "id": "8f092251-0c9b-4400-a3de-55b2cd6ce4d0",
   "metadata": {
    "tags": []
   },
   "outputs": [
    {
     "name": "stdout",
     "output_type": "stream",
     "text": [
      "The argument in this function is 12.\n"
     ]
    }
   ],
   "source": [
    "# The method that will call the show_value function\n",
    "def main():\n",
    "    var = 12\n",
    "    show_value(var)\n",
    "    \n",
    "# Adding the requested statements to the show_value function.\n",
    "def show_value(arg):\n",
    "    print(f'The argument in this function is {arg}.')\n",
    "    \n",
    "# This is the main method call that will run show_value.\n",
    "main()"
   ]
  },
  {
   "cell_type": "markdown",
   "id": "15d362e7-a22a-4edb-82cd-aadd7312fc2f",
   "metadata": {},
   "source": [
    "### Programming Exercises: Problem 1 (Kilometer Converter)\n",
    "\n",
    "**Question:** Write a program that asks the user to enter a distance in kilometers, then converts that distance to miles. The conversion formula is as follows:\\\n",
    "Miles = Kilometers x 0.6214\n",
    "            \n",
    "------------------------------------------------------------------------------------------------------------ \n",
    "**Overview:** This question asks the programmer to get input from the user and perform a calculation. It does not ask the programmer to output the calculation result but I will do that anyway so I can make sure the program is working. The question does not require that I create any functions but it will be good to practice doing them."
   ]
  },
  {
   "cell_type": "code",
   "execution_count": 6,
   "id": "8e1018dd-1640-45a2-8a3a-ceabb0a388ee",
   "metadata": {
    "tags": []
   },
   "outputs": [
    {
     "name": "stdin",
     "output_type": "stream",
     "text": [
      "Enter the number of kilometers:  5\n"
     ]
    },
    {
     "name": "stdout",
     "output_type": "stream",
     "text": [
      "5.0 kilometers is equivalent to 3.11 miles.\n"
     ]
    }
   ],
   "source": [
    "# Create the constant variable\n",
    "CONVERSION_FACTOR = 0.6214\n",
    "\n",
    "# Create the main method to call other functions.\n",
    "# I am not totally sure that I can call get_kilometers into a variable in Python. Will test and revise if needed.\n",
    "    # UPDATE: It was indeed possible to call get_kilometers this way.\n",
    "def main():\n",
    "    kilometer_var = get_kilometers()\n",
    "    convert_to_miles(kilometer_var)\n",
    "\n",
    "# Create the function to get user input\n",
    "def get_kilometers():\n",
    "    kilometers = float(input('Enter the number of kilometers: '))\n",
    "    return kilometers\n",
    "\n",
    "# Create the function that does the calculation\n",
    "def convert_to_miles(kilometer_arg):\n",
    "    miles = kilometer_arg * CONVERSION_FACTOR\n",
    "    print(f'{kilometer_arg} kilometers is equivalent to {miles :.2f} miles.')\n",
    "    \n",
    "# Call main()\n",
    "main()"
   ]
  },
  {
   "cell_type": "markdown",
   "id": "8145213f-14cc-4578-a36f-30b8434a99c2",
   "metadata": {},
   "source": [
    "### Programming Exercises: Problem 2 (Sales Tax Program Refactoring)\n",
    "\n",
    "**Question:** Programming Exercise # in Chapter 2 was the Sales Tax program. For that exercise, you were asked to write a program that calculates and displays the county and state sales tax on a purchase. If you have already written that program, redesign it so the subtasks are in functions. If you have not already written that program, write it using functions.\n",
    "\n",
    "------------------------------------------------------------------------------------------------------------ \n",
    "**Overview:** This problem requires the programmer to modify code they wrote in a previous assignment. I did that problem before so I'd like to get this practice at re-working a program. I will include all the original code in one block and the modified code in a second block."
   ]
  },
  {
   "cell_type": "code",
   "execution_count": 7,
   "id": "e99dc732-754d-4071-8a27-7bdb00356bf3",
   "metadata": {
    "tags": []
   },
   "outputs": [
    {
     "name": "stdin",
     "output_type": "stream",
     "text": [
      "Enter the amount you spent without the dollar sign:  33.72\n"
     ]
    },
    {
     "name": "stdout",
     "output_type": "stream",
     "text": [
      "\n",
      "Purchase amount: $ 33.72\n",
      "\n",
      "State sales tax is: $ 1.69\n",
      "County sales tax is: $ 0.84\n",
      "Total tax amount is: $ 2.53\n",
      "\n",
      "Total purchase price is: $ 36.25\n"
     ]
    }
   ],
   "source": [
    "# ORIGINAL PROGRAM FROM WEEK 2\n",
    "#-------------------------------\n",
    "\n",
    "# Assign constant variables\n",
    "STATE_TAX = 0.05\n",
    "COUNTY_TAX = 0.025\n",
    "\n",
    "# Get the purchase amount from the user.\n",
    "# This exercise will use an input value of 33.72\n",
    "purchase_amount = float(input('Enter the amount you spent without the dollar sign: '))\n",
    "\n",
    "# Calculate the state tax\n",
    "state_tax_amount = purchase_amount * STATE_TAX\n",
    "\n",
    "# Calculate the county tax\n",
    "county_tax_amount = purchase_amount * COUNTY_TAX\n",
    "\n",
    "# Print the purchase amount, the amount of the sales taxes, the sum of the sales taxes, and the total cost of the purchase.\n",
    "# I am printing these in separate statements due to personal preference.\n",
    "# The output values are formatted to 2 decimal places to show the correct dollar amounts.\n",
    "print('\\nPurchase amount: $',f'{purchase_amount:.2f}\\n')\n",
    "print('State sales tax is: $',f'{state_tax_amount:.2f}')\n",
    "print('County sales tax is: $',f'{county_tax_amount:.2f}')\n",
    "print('Total tax amount is: $',f'{state_tax_amount + county_tax_amount:.2f}\\n')\n",
    "print('Total purchase price is: $',f'{purchase_amount + state_tax_amount + county_tax_amount:.2f}')"
   ]
  },
  {
   "cell_type": "code",
   "execution_count": null,
   "id": "405fd935-946c-4605-aa67-47d0c7989aff",
   "metadata": {},
   "outputs": [],
   "source": [
    "# REFACTORED SALES TAX PROGRAM\n",
    "#-------------------------------\n",
    "\n",
    "# This updated program will still need constants\n",
    "STATE_TAX = 0.05\n",
    "COUNTY_TAX = 0.025\n",
    "\n"
   ]
  }
 ],
 "metadata": {
  "kernelspec": {
   "display_name": "Python 3 (ipykernel)",
   "language": "python",
   "name": "python3"
  },
  "language_info": {
   "codemirror_mode": {
    "name": "ipython",
    "version": 3
   },
   "file_extension": ".py",
   "mimetype": "text/x-python",
   "name": "python",
   "nbconvert_exporter": "python",
   "pygments_lexer": "ipython3",
   "version": "3.11.5"
  }
 },
 "nbformat": 4,
 "nbformat_minor": 5
}
