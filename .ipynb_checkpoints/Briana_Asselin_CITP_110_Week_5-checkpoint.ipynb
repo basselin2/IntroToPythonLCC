{
 "cells": [
  {
   "cell_type": "markdown",
   "id": "56db6845-4878-404b-a718-0aaf5abcbd5d",
   "metadata": {},
   "source": [
    "# Ch.5 Coding Set \n",
    "(Starting Out With Python 5th Edition)\n",
    "\n",
    "Briana Asselin"
   ]
  },
  {
   "cell_type": "markdown",
   "id": "f16f66c7-1a89-4bbe-b0f9-35128c3a8f25",
   "metadata": {},
   "source": [
    "### Algorithm Workbench: Problem 1 (Times Ten)\n",
    "\n",
    "**Question:** Write a function named times_ten. The function should accept an argument and display the product of its argument multiplied times 10.\n",
    "\n",
    "------------------------------------------------------------------------------------------------------------ \n",
    "**Overview:** This question requires the programmer to define an argument variable and the function. The function can be tested by writing another method to call it."
   ]
  },
  {
   "cell_type": "code",
   "execution_count": null,
   "id": "9010a15a-5861-4449-8793-83afde2997fd",
   "metadata": {},
   "outputs": [],
   "source": [
    "# The method that will call the times_ten function.\n",
    "# We could also call this by directly passing a value into times_ten but that's generally not useful in programs.\n",
    "def main():\n",
    "    parameter_var = 3\n",
    "    times_ten(parameter_var)\n",
    "    \n",
    "# This is the definition of the times_ten function.\n",
    "def times_ten(some_num):\n",
    "    product_var = some_num * 10\n",
    "    print(product_var)\n",
    "    "
   ]
  }
 ],
 "metadata": {
  "kernelspec": {
   "display_name": "Python 3 (ipykernel)",
   "language": "python",
   "name": "python3"
  },
  "language_info": {
   "codemirror_mode": {
    "name": "ipython",
    "version": 3
   },
   "file_extension": ".py",
   "mimetype": "text/x-python",
   "name": "python",
   "nbconvert_exporter": "python",
   "pygments_lexer": "ipython3",
   "version": "3.11.5"
  }
 },
 "nbformat": 4,
 "nbformat_minor": 5
}
