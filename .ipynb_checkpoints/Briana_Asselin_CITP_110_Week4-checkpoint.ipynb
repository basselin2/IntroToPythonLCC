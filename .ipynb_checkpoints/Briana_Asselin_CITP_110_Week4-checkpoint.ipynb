{
 "cells": [
  {
   "cell_type": "markdown",
   "id": "5c5d56c8",
   "metadata": {},
   "source": [
    "# Ch.4 Coding Set \n",
    "(Starting Out With Python 5th Edition)\n",
    "\n",
    "Briana Asselin"
   ]
  },
  {
   "cell_type": "markdown",
   "id": "e7584f63",
   "metadata": {},
   "source": [
    "### Algorithm Workbench: Problem 2 (While Loop with 2 Inputs)\n",
    "\n",
    "**Question:** Write a loop that asks the user to enter two numbers. The numbers should be added and the sum displayed. The loop should ask the user if he or she wishes to perform the operation again. If so, the loop should repeat, otherwise it should terminate.\n",
    "\n",
    "------------------------------------------------------------------------------------------------------------ \n",
    "**Overview:** This should be a fairly simple loop to program. The coder needs to get 2 inputs, perform operations on them, display the result, and use an additional input to find out whether the user wants to continue. I will use floats for this problem since most users would not just enter ints."
   ]
  },
  {
   "cell_type": "code",
   "execution_count": null,
   "id": "663f7569",
   "metadata": {},
   "outputs": [],
   "source": []
  }
 ],
 "metadata": {
  "kernelspec": {
   "display_name": "Python 3 (ipykernel)",
   "language": "python",
   "name": "python3"
  },
  "language_info": {
   "codemirror_mode": {
    "name": "ipython",
    "version": 3
   },
   "file_extension": ".py",
   "mimetype": "text/x-python",
   "name": "python",
   "nbconvert_exporter": "python",
   "pygments_lexer": "ipython3",
   "version": "3.11.5"
  }
 },
 "nbformat": 4,
 "nbformat_minor": 5
}
