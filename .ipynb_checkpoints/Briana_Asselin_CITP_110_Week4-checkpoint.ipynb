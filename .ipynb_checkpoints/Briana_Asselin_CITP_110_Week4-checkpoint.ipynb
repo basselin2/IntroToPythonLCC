{
 "cells": [
  {
   "cell_type": "markdown",
   "id": "5a4a222c",
   "metadata": {},
   "source": [
    "# Ch.4 Coding Set \n",
    "(Starting Out With Python 5th Edition)\n",
    "\n",
    "Briana Asselin"
   ]
  },
  {
   "cell_type": "markdown",
   "id": "91e954e5",
   "metadata": {},
   "source": [
    "### Algorithm Workbench: Problem 2 (While Loop with 2 Inputs)\n",
    "\n",
    "**Question:** Write a loop that asks the user to enter two numbers. The numbers should be added and the sum displayed. The loop should ask the user if he or she wishes to perform the operation again. If so, the loop should repeat, otherwise it should terminate.\n",
    "\n",
    "------------------------------------------------------------------------------------------------------------ \n",
    "**Overview:** For this loop, the coder needs to get 2 inputs, perform operations on them, display the result, and use an additional input to find out whether the user wants to continue. I will use floats for this problem since most users would not just enter ints."
   ]
  },
  {
   "cell_type": "code",
   "execution_count": 6,
   "id": "df749ebb",
   "metadata": {},
   "outputs": [
    {
     "name": "stdout",
     "output_type": "stream",
     "text": [
      "Enter the first number: 2\n",
      "Enter the second number: 7\n",
      "\n",
      "2.0 plus 7.0 equals 9.00\n",
      "Would you like to add more numbers? Enter Y to continue or N to quit: N\n"
     ]
    }
   ],
   "source": [
    "# Get 2 values from the user\n",
    "first_num = float(input('Enter the first number: '))\n",
    "second_num = float(input('Enter the second number: '))\n",
    "\n",
    "# Add the values and display the result for the user. \n",
    "user_sum = first_num + second_num\n",
    "print('\\n'f'{first_num} plus {second_num} equals {user_sum:.2f}')\n",
    "\n",
    "# Ask the user whether to continue. If yes, run the same process again.\n",
    "response = input('Would you like to add more numbers? Enter Y to continue or N to quit: ')\n",
    "\n",
    "while response == 'Y':\n",
    "    first_num = float(input('Enter the first number: '))\n",
    "    second_num = float(input('Enter the second number: '))\n",
    "    user_sum = first_num + second_num\n",
    "    print('\\n'f'{first_num} plus {second_num} equals {user_sum}')\n",
    "    response = input('Would you like to add more numbers? Enter Y to continue or N to quit: ')\n"
   ]
  },
  {
   "cell_type": "markdown",
   "id": "bc3aa95a",
   "metadata": {},
   "source": [
    "### Algorithm Workbench: Problem 3 (For loop 0-1000)\n",
    "\n",
    "**Question:** Write a for loop that displays the following set of numbers: \n",
    "                \n",
    "              0, 10, 20, 30, 40, 50, ... 1000\n",
    "\n",
    "------------------------------------------------------------------------------------------------------------ \n",
    "**Overview:** For this loop, the programmer needs to ensure that the loop outputs zero first. Then, the loop will need to add 10 each time it iterates and print each 10th value until 1000 is reached."
   ]
  },
  {
   "cell_type": "code",
   "execution_count": null,
   "id": "98622665",
   "metadata": {},
   "outputs": [],
   "source": []
  }
 ],
 "metadata": {
  "kernelspec": {
   "display_name": "Python 3 (ipykernel)",
   "language": "python",
   "name": "python3"
  },
  "language_info": {
   "codemirror_mode": {
    "name": "ipython",
    "version": 3
   },
   "file_extension": ".py",
   "mimetype": "text/x-python",
   "name": "python",
   "nbconvert_exporter": "python",
   "pygments_lexer": "ipython3",
   "version": "3.11.5"
  }
 },
 "nbformat": 4,
 "nbformat_minor": 5
}
