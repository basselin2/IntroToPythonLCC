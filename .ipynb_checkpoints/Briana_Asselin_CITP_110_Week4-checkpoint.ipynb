{
 "cells": [
  {
   "cell_type": "markdown",
   "id": "bf14c3f9",
   "metadata": {},
   "source": [
    "# Ch.4 Coding Set \n",
    "(Starting Out With Python 5th Edition)\n",
    "\n",
    "Briana Asselin"
   ]
  },
  {
   "cell_type": "markdown",
   "id": "568d96dc",
   "metadata": {},
   "source": [
    "### Algorithm Workbench: Problem 2 (While Loop with 2 Inputs)\n",
    "\n",
    "**Question:** Write a loop that asks the user to enter two numbers. The numbers should be added and the sum displayed. The loop should ask the user if he or she wishes to perform the operation again. If so, the loop should repeat, otherwise it should terminate.\n",
    "\n",
    "------------------------------------------------------------------------------------------------------------ \n",
    "**Overview:** This should be a fairly simple loop to program. The coder needs to get 2 inputs, perform operations on them, display the result, and use an additional input to find out whether the user wants to continue. I will use floats for this problem since most users would not just enter ints."
   ]
  },
  {
   "cell_type": "code",
   "execution_count": 1,
   "id": "a661ca59",
   "metadata": {},
   "outputs": [
    {
     "name": "stdout",
     "output_type": "stream",
     "text": [
      "Enter the first number: 5\n",
      "Enter the second number: 7\n"
     ]
    },
    {
     "ename": "NameError",
     "evalue": "name 'response' is not defined",
     "output_type": "error",
     "traceback": [
      "\u001b[1;31m---------------------------------------------------------------------------\u001b[0m",
      "\u001b[1;31mNameError\u001b[0m                                 Traceback (most recent call last)",
      "Cell \u001b[1;32mIn[1], line 7\u001b[0m\n\u001b[0;32m      4\u001b[0m second_num \u001b[38;5;241m=\u001b[39m \u001b[38;5;28mfloat\u001b[39m(\u001b[38;5;28minput\u001b[39m(\u001b[38;5;124m'\u001b[39m\u001b[38;5;124mEnter the second number: \u001b[39m\u001b[38;5;124m'\u001b[39m))\n\u001b[0;32m      6\u001b[0m \u001b[38;5;66;03m# Add the values and display the result for the user. Ask the user whether to continue.\u001b[39;00m\n\u001b[1;32m----> 7\u001b[0m \u001b[38;5;28;01mwhile\u001b[39;00m response \u001b[38;5;241m==\u001b[39m \u001b[38;5;124m'\u001b[39m\u001b[38;5;124mY\u001b[39m\u001b[38;5;124m'\u001b[39m:\n\u001b[0;32m      8\u001b[0m     user_sum \u001b[38;5;241m=\u001b[39m first_num \u001b[38;5;241m+\u001b[39m second_num\n\u001b[0;32m      9\u001b[0m     \u001b[38;5;28mprint\u001b[39m(\u001b[38;5;124m'\u001b[39m\u001b[38;5;130;01m\\n\u001b[39;00m\u001b[38;5;124m'\u001b[39m\u001b[38;5;124mf\u001b[39m\u001b[38;5;124m'\u001b[39m\u001b[38;5;132;01m{\u001b[39;00mfirst_num\u001b[38;5;132;01m}\u001b[39;00m\u001b[38;5;124m plus \u001b[39m\u001b[38;5;132;01m{\u001b[39;00msecond_num\u001b[38;5;132;01m}\u001b[39;00m\u001b[38;5;124m equals \u001b[39m\u001b[38;5;132;01m{\u001b[39;00muser_sum\u001b[38;5;132;01m}\u001b[39;00m\u001b[38;5;124m.2f\u001b[39m\u001b[38;5;124m'\u001b[39m)\n",
      "\u001b[1;31mNameError\u001b[0m: name 'response' is not defined"
     ]
    }
   ],
   "source": [
    "# Get 2 values from the user\n",
    "first_num = float(input('Enter the first number: '))\n",
    "second_num = float(input('Enter the second number: '))\n",
    "\n",
    "# Add the values and display the result for the user. \n",
    "user_sum = first_num + second_num\n",
    "print('\\n'f'{first_num} plus {second_num} equals {user_sum}.2f')\n",
    "\n",
    "# Ask the user whether to continue. If yes, run the same process again.\n",
    "response = input('Would you like to add more numbers? Enter Y to continue or N to quit: ')\n",
    "\n",
    "while response == 'Y':\n",
    "    first_num = float(input('Enter the first number: '))\n",
    "    second_num = float(input('Enter the second number: '))\n",
    "    user_sum = first_num + second_num\n",
    "    print('\\n'f'{first_num} plus {second_num} equals {user_sum}.2f')\n",
    "    response = input('Would you like to add more numbers? Enter Y to continue or N to quit: ')\n"
   ]
  },
  {
   "cell_type": "code",
   "execution_count": null,
   "id": "594d5c48",
   "metadata": {},
   "outputs": [],
   "source": []
  }
 ],
 "metadata": {
  "kernelspec": {
   "display_name": "Python 3 (ipykernel)",
   "language": "python",
   "name": "python3"
  },
  "language_info": {
   "codemirror_mode": {
    "name": "ipython",
    "version": 3
   },
   "file_extension": ".py",
   "mimetype": "text/x-python",
   "name": "python",
   "nbconvert_exporter": "python",
   "pygments_lexer": "ipython3",
   "version": "3.11.5"
  }
 },
 "nbformat": 4,
 "nbformat_minor": 5
}
