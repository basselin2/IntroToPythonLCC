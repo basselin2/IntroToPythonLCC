{
 "cells": [
  {
   "cell_type": "markdown",
   "id": "21b73483-5686-4de5-85ee-8a6785610c42",
   "metadata": {},
   "source": [
    "# Ch.11 Coding Set \n",
    "(Starting Out With Python 5th Edition)\n",
    "\n",
    "Briana Asselin"
   ]
  },
  {
   "cell_type": "markdown",
   "id": "6baf5c30-6ea5-4bff-911d-304d030784fd",
   "metadata": {},
   "source": [
    "### Programming Exercises: Problem 1 (Employee and ProductionWorker Classes)\n",
    "\n",
    "**Question:** Write an Employee class that keeps data attributes for the Employee name and Employee number. Next, write a class named ProductionWorker that is a subclass of the Employee class. The ProductionWorker class should keep data attributes for Shift number (an integer, such as 1, 2, or 3) and Hourly pay rate.\\\\ \n",
    "\n",
    "The workday is divided into two shifts: day and night. The shift attribute will hold an integer value representing the shift that the employee works. The day shift is shift 1 and the night shift is shift 2. Write the appropriate accessor and mutator methods for each class.\\\\ Once you have written the classes, write a program that creates an object of the ProductionWorker class and prompts the user to enter data for each of the object’s data attributes. Store the data in the object, then use the object’s accessor methods to retrieve it and display it on the screen.\n",
    "\n",
    "------------------------------------------------------------------------------------------------------------ \n",
    "**Overview:** This assignment requires the programmer to create a superclass and a subclass with the necessary attributes and get/set methods. The program will need to be able to create a ProductionWorker object and to display the information that the user entered. "
   ]
  },
  {
   "cell_type": "code",
   "execution_count": null,
   "id": "53ef8815-6a23-49e2-8560-c2aedeec3885",
   "metadata": {},
   "outputs": [],
   "source": []
  },
  {
   "cell_type": "markdown",
   "id": "26ad6cb1-c103-48a5-9f84-3c20f0070612",
   "metadata": {},
   "source": [
    "### Programming Exercises: Problem 2 (ShiftSupervisor Class)\n",
    "\n",
    "**Question:** In a particular factory, a shift supervisor is a salaried employee who supervises a shift. In addition to a salary, the shift supervisor earns a yearly bonus when his or her shift meets production goals. Write a ShiftSupervisor class that is a subclass of the Employee class you created in Programming Exercise 1. The ShiftSupervisor class should keep a data attribute for the annual salary, and a data attribute for the annual production bonus that a shift supervisor has earned. Demonstrate the class by writing a program that uses a ShiftSupervisor object.\n",
    "\n",
    "------------------------------------------------------------------------------------------------------------ \n",
    "**Overview:** This assignment requires the programmer to import the original Employee class and create another subclass of Employee. The programmer then needs to create a program that uses the subclass' attributes. I plan to make a 1-5 rating chart that will determine the supervisor's yearly bonus based on a performance rating that is entered by the user. The program will calculate the supervisor's total pay for the year and display it for the user."
   ]
  },
  {
   "cell_type": "code",
   "execution_count": null,
   "id": "fc1d2a06-a7f7-47e5-859a-0b47c738238d",
   "metadata": {},
   "outputs": [],
   "source": []
  }
 ],
 "metadata": {
  "kernelspec": {
   "display_name": "Python 3 (ipykernel)",
   "language": "python",
   "name": "python3"
  },
  "language_info": {
   "codemirror_mode": {
    "name": "ipython",
    "version": 3
   },
   "file_extension": ".py",
   "mimetype": "text/x-python",
   "name": "python",
   "nbconvert_exporter": "python",
   "pygments_lexer": "ipython3",
   "version": "3.11.5"
  }
 },
 "nbformat": 4,
 "nbformat_minor": 5
}
