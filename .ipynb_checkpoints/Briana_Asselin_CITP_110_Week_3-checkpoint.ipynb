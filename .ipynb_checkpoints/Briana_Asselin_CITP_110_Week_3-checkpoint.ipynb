{
 "cells": [
  {
   "cell_type": "markdown",
   "id": "6999159d-4451-438f-8fbb-82affdf9c04e",
   "metadata": {},
   "source": [
    "# Ch.3 Coding Set \n",
    "(Starting Out With Python 5th Edition)\n",
    "\n",
    "Briana Asselin"
   ]
  },
  {
   "cell_type": "markdown",
   "id": "f35b76a3-954d-48c9-b8c2-ceff15ec4a55",
   "metadata": {},
   "source": [
    "### Algorithm Workbench: Problem 4 (Align If-Then Statements)\n",
    "\n",
    "**Question:** The following code contains several nested  statements. Unfortunately, it was written without proper alignment and indentation. Rewrite the code and use the proper conventions of alignment and indentation.\n",
    "            \n",
    "if score >= A_score:\\\n",
    "print('Your grade is A.')\\\n",
    "else:\\\n",
    "if score >= B_score:\\\n",
    "print('Your grade is B.')\\\n",
    "else:\\\n",
    "if score >= C_score:\\\n",
    "print('Your grade is C.')\\\n",
    "else:\\\n",
    "if score >= D_score:\\\n",
    "print('Your grade is D.')\\\n",
    "else:\\\n",
    "if score >= F_score:\\\n",
    "print('Your grade is F.')\n",
    "\n",
    "------------------------------------------------------------------------------------------------------------ \n",
    "**Overview:** Python if-then statements will have errors if they are not indented in a certain way. This question asks the programmer to correctly indent the code provided above. This code will not run without variable assignments, so the indentation will be done in a markdown cell. \n",
    "**REVISED:** Markdown didn't keep the indents. Will switch to coding cell even though it will error."
   ]
  },
  {
   "cell_type": "code",
   "execution_count": 2,
   "id": "3e765e2d-2657-4baa-b68e-c176dfadf842",
   "metadata": {
    "tags": []
   },
   "outputs": [
    {
     "ename": "NameError",
     "evalue": "name 'score' is not defined",
     "output_type": "error",
     "traceback": [
      "\u001b[1;31m---------------------------------------------------------------------------\u001b[0m",
      "\u001b[1;31mNameError\u001b[0m                                 Traceback (most recent call last)",
      "Cell \u001b[1;32mIn[2], line 5\u001b[0m\n\u001b[0;32m      1\u001b[0m \u001b[38;5;66;03m# Adding comments:\u001b[39;00m\n\u001b[0;32m      2\u001b[0m \u001b[38;5;66;03m# If-else statements need to be vertically aligned to count as part of the same loop.\u001b[39;00m\n\u001b[0;32m      3\u001b[0m \u001b[38;5;66;03m# The statements that will be carried out by an if (or an else) must be indented once inside the parent statement.\u001b[39;00m\n\u001b[0;32m      4\u001b[0m \u001b[38;5;66;03m# Nested if-else statements can result in a large number of indents.\u001b[39;00m\n\u001b[1;32m----> 5\u001b[0m \u001b[38;5;28;01mif\u001b[39;00m score \u001b[38;5;241m>\u001b[39m\u001b[38;5;241m=\u001b[39m A_score:\n\u001b[0;32m      6\u001b[0m     \u001b[38;5;28mprint\u001b[39m(\u001b[38;5;124m'\u001b[39m\u001b[38;5;124mYour grade is A.\u001b[39m\u001b[38;5;124m'\u001b[39m)\n\u001b[0;32m      7\u001b[0m \u001b[38;5;28;01melse\u001b[39;00m:\n",
      "\u001b[1;31mNameError\u001b[0m: name 'score' is not defined"
     ]
    }
   ],
   "source": [
    "# Adding comments:\n",
    "# If-else statements need to be vertically aligned to count as part of the same loop.\n",
    "# The statements that will be carried out by an if (or an else) must be indented once inside the parent statement.\n",
    "# Nested if-else statements can result in a large number of indents.\n",
    "if score >= A_score:\n",
    "    print('Your grade is A.')\n",
    "else:\n",
    "    if score >= B_score:\n",
    "        print('Your grade is B.')\n",
    "    else:\n",
    "        if score >= C_score:\n",
    "            print('Your grade is C.')\n",
    "        else:\n",
    "            if score >= D_score:\n",
    "                print('Your grade is D.')\n",
    "            else:\n",
    "                if score >= F_score:\n",
    "                    print('Your grade is F.')"
   ]
  },
  {
   "cell_type": "markdown",
   "id": "2e9b2227-b692-4492-bfed-6cf174b5885b",
   "metadata": {},
   "source": [
    "### Algorithm Workbench: Problem 5 (Write Nested Statements)\n",
    "\n",
    "**Question:** Write nested decision structures that perform the following: If amount1 is greater than 10 and amount2 is less than 100, display the greater of amount1 and amount2.\n",
    "\n",
    "------------------------------------------------------------------------------------------------------------ \n",
    "**Overview:** This question asks the programmer to write structures that will compare two values and print the larger of the two. This can be accomplished using nested if-else statements. I will assign the variables multiple times to test whether the code is working as intended. **Note that this problem says \"AND\", which means both values must meet the requirements in order for the larger value to be printed.** "
   ]
  },
  {
   "cell_type": "code",
   "execution_count": 4,
   "id": "0d24aeda-2937-4601-8d2a-e75b8f5c4f61",
   "metadata": {
    "tags": []
   },
   "outputs": [
    {
     "name": "stdout",
     "output_type": "stream",
     "text": [
      "amount1 is too low.\n",
      "The larger value is  29\n"
     ]
    }
   ],
   "source": [
    "# The max() function can be used to determine the larger of two values and will be used here.\n",
    "# https://www.w3schools.com/python/ref_func_max.asp\n",
    "\n",
    "# Initialize the variable that will hold the higher value as a global variable \n",
    "# so it can be used by all methods in this file.\n",
    "maxVar = 0\n",
    "\n",
    "# First variable assignment\n",
    "amount1 = 4\n",
    "amount2 = 15\n",
    "\n",
    "# Write the nested if statements and the print statement\n",
    "# Assign the larger value if applicable\n",
    "if amount1 > 10:\n",
    "    if amount2 < 100:\n",
    "        maxVar = max(amount1, amount2)\n",
    "        print('The larger value is ', maxVar)\n",
    "    else:\n",
    "        print('amount2 is too high.')\n",
    "else:\n",
    "    print('amount1 is too low.')\n",
    "    \n",
    "    \n",
    "# Second variable assignment\n",
    "amount1 = 29\n",
    "amount2 = 7\n",
    "\n",
    "# Write the nested if statements and the print statement\n",
    "# Assign the larger value if applicable\n",
    "if amount1 > 10:\n",
    "    if amount2 < 100:\n",
    "        maxVar = max(amount1, amount2)\n",
    "        print('The larger value is', maxVar,'.')\n",
    "    else:\n",
    "        print('amount2 is too high.')\n",
    "else:\n",
    "    print('amount1 is too low.')"
   ]
  },
  {
   "cell_type": "code",
   "execution_count": null,
   "id": "31ca95c4-4931-4849-9ae7-6290383cf701",
   "metadata": {},
   "outputs": [],
   "source": []
  }
 ],
 "metadata": {
  "kernelspec": {
   "display_name": "Python 3 (ipykernel)",
   "language": "python",
   "name": "python3"
  },
  "language_info": {
   "codemirror_mode": {
    "name": "ipython",
    "version": 3
   },
   "file_extension": ".py",
   "mimetype": "text/x-python",
   "name": "python",
   "nbconvert_exporter": "python",
   "pygments_lexer": "ipython3",
   "version": "3.11.5"
  }
 },
 "nbformat": 4,
 "nbformat_minor": 5
}
