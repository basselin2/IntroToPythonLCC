{
 "cells": [
  {
   "cell_type": "markdown",
   "id": "6999159d-4451-438f-8fbb-82affdf9c04e",
   "metadata": {},
   "source": [
    "# Ch.3 Coding Set \n",
    "(Starting Out With Python 5th Edition)\n",
    "\n",
    "Briana Asselin"
   ]
  },
  {
   "cell_type": "markdown",
   "id": "f35b76a3-954d-48c9-b8c2-ceff15ec4a55",
   "metadata": {},
   "source": [
    "### Algorithm Workbench: Problem 4 (Align If-Then Statements)\n",
    "\n",
    "**Question:** The following code contains several nested  statements. Unfortunately, it was written without proper alignment and indentation. Rewrite the code and use the proper conventions of alignment and indentation.\n",
    "            \n",
    "    if score >= A_score:\n",
    "    print('Your grade is A.')\n",
    "    else:\n",
    "    if score >= B_score:\n",
    "    print('Your grade is B.')\n",
    "    else:\n",
    "    if score >= C_score:\n",
    "    print('Your grade is C.')\n",
    "    else:\n",
    "    if score >= D_score:\n",
    "    print('Your grade is D.')\n",
    "    else:\n",
    "    if score >= F_score:\n",
    "    print('Your grade is F.')\n",
    "\n",
    "------------------------------------------------------------------------------------------------------------ \n",
    "**Overview:** Python if-then statements will have errors if they are not indented in a certain way. This question asks the programmer to correctly indent the code provided above. This code will not run without variable assignments, so the indentation will be done in a markdown cell."
   ]
  },
  {
   "cell_type": "markdown",
   "id": "3c556b2a-fb31-4419-911c-c3be18473499",
   "metadata": {},
   "source": [
    "if score >= A_score:\n",
    "print('Your grade is A.')\n",
    "else:\n",
    "if score >= B_score:\n",
    "print('Your grade is B.')\n",
    "else:\n",
    "if score >= C_score:\n",
    "print('Your grade is C.')\n",
    "else:\n",
    "if score >= D_score:\n",
    "print('Your grade is D.')\n",
    "else:\n",
    "if score >= F_score:\n",
    "print('Your grade is F.')"
   ]
  }
 ],
 "metadata": {
  "kernelspec": {
   "display_name": "Python 3 (ipykernel)",
   "language": "python",
   "name": "python3"
  },
  "language_info": {
   "codemirror_mode": {
    "name": "ipython",
    "version": 3
   },
   "file_extension": ".py",
   "mimetype": "text/x-python",
   "name": "python",
   "nbconvert_exporter": "python",
   "pygments_lexer": "ipython3",
   "version": "3.11.5"
  }
 },
 "nbformat": 4,
 "nbformat_minor": 5
}
