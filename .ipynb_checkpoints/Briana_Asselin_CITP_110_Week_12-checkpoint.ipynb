{
  "cells": [
    {
      "cell_type": "markdown",
      "id": "00f2c177-6698-49ab-b714-572bcea146e9",
      "metadata": {
        "id": "00f2c177-6698-49ab-b714-572bcea146e9"
      },
      "source": [
        "# Ch.12 Coding Set\n",
        "(Starting Out With Python 5th Edition)\n",
        "\n",
        "Briana Asselin"
      ]
    },
    {
      "cell_type": "markdown",
      "id": "d383f2de-94d1-4178-8a14-e9a89b2eba88",
      "metadata": {
        "id": "d383f2de-94d1-4178-8a14-e9a89b2eba88"
      },
      "source": [
        "### Programming Exercises: Problem 4 (Celcius to Fahrenheit)\n",
        "\n",
        "**Question:** Write a GUI program that converts Celsius temperatures to Fahrenheit temperatures. The user should be able to enter a Celsius temperature, click a button, then see the equivalent Fahrenheit temperature. Use the following formula to make the conversion:\n",
        "\n",
        "F = 9/5C + 32\n",
        "\n",
        "F is the Fahrenheit temperature, and C is the Celsius temperature.\n",
        "\n",
        "------------------------------------------------------------------------------------------------------------\n",
        "**Overview:** This assignment requires the programmer to get a number from the user, convert it to a float type, do a calculation, and then display the converted temperature. The widgets that will be needed for this program are TBD, but there should be something like a textbox that receives the user input when a button component is clicked. There will also need to be something like a textbox for displaying the conversion result."
      ]
    },
    {
      "cell_type": "code",
      "execution_count": null,
      "id": "68f39162-cd37-4e2d-931f-69c28963e740",
      "metadata": {
        "id": "68f39162-cd37-4e2d-931f-69c28963e740",
        "outputId": "ec22bfe0-fd45-4469-a9b2-79170bc4da8c"
      },
      "outputs": [
        {
          "ename": "SyntaxError",
          "evalue": "expected '(' (223948654.py, line 21)",
          "output_type": "error",
          "traceback": [
            "\u001b[1;36m  Cell \u001b[1;32mIn[3], line 21\u001b[1;36m\u001b[0m\n\u001b[1;33m    def main:\u001b[0m\n\u001b[1;37m            ^\u001b[0m\n\u001b[1;31mSyntaxError\u001b[0m\u001b[1;31m:\u001b[0m expected '('\n"
          ]
        }
      ],
      "source": [
        "import tkinter\n",
        "\n",
        "class Celcius_Converter:\n",
        "    def __init__(self):\n",
        "        # Display GUI window\n",
        "        self.window = tkinter.Tk()\n",
        "\n",
        "        # GUI window title\n",
        "        self.window.title('Celcius Converter')\n",
        "\n",
        "        # This label contains instructions for the user\n",
        "        self.instruction_label = tkinter.Label(self.window, text='Enter a Celcius temperature in the box and click \\\"Convert\\\".')\n",
        "\n",
        "\n",
        "\n",
        "if __name__ == '__main__':\n",
        "    c_converter = Celcius_Converter()\n",
        "\n"
      ]
    },
    {
      "cell_type": "code",
      "execution_count": null,
      "id": "54a6e499-539b-43ec-ab8b-0a295474bbe1",
      "metadata": {
        "id": "54a6e499-539b-43ec-ab8b-0a295474bbe1"
      },
      "outputs": [],
      "source": []
    }
  ],
  "metadata": {
    "kernelspec": {
      "display_name": "Python 3 (ipykernel)",
      "language": "python",
      "name": "python3"
    },
    "language_info": {
      "codemirror_mode": {
        "name": "ipython",
        "version": 3
      },
      "file_extension": ".py",
      "mimetype": "text/x-python",
      "name": "python",
      "nbconvert_exporter": "python",
      "pygments_lexer": "ipython3",
      "version": "3.11.5"
    },
    "colab": {
      "provenance": []
    }
  },
  "nbformat": 4,
  "nbformat_minor": 5
}