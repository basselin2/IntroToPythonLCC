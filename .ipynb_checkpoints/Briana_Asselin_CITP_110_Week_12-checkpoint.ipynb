{
 "cells": [
  {
   "cell_type": "markdown",
   "id": "00f2c177-6698-49ab-b714-572bcea146e9",
   "metadata": {},
   "source": [
    "# Ch.12 Coding Set \n",
    "(Starting Out With Python 5th Edition)\n",
    "\n",
    "Briana Asselin"
   ]
  },
  {
   "cell_type": "markdown",
   "id": "d383f2de-94d1-4178-8a14-e9a89b2eba88",
   "metadata": {},
   "source": [
    "### Programming Exercises: Problem 4 (Celcius to Fahrenheit)\n",
    "\n",
    "**Question:** Write a GUI program that converts Celsius temperatures to Fahrenheit temperatures. The user should be able to enter a Celsius temperature, click a button, then see the equivalent Fahrenheit temperature. Use the following formula to make the conversion:\n",
    "\n",
    "F = 9/5C + 32\n",
    "\n",
    "F is the Fahrenheit temperature, and C is the Celsius temperature.\n",
    "\n",
    "------------------------------------------------------------------------------------------------------------ \n",
    "**Overview:** This assignment requires the programmer to get a number from the user, convert it to a float type, do a calculation, and then display the converted temperature. The widgets that will be needed for this program are TBD, but there should be something like a textbox that receives the user input when a button component is clicked. There will also need to be something like a textbox for displaying the conversion result. "
   ]
  },
  {
   "cell_type": "code",
   "execution_count": 3,
   "id": "68f39162-cd37-4e2d-931f-69c28963e740",
   "metadata": {},
   "outputs": [
    {
     "ename": "RuntimeError",
     "evalue": "Too early to run the main loop: no default root window",
     "output_type": "error",
     "traceback": [
      "\u001b[1;31m---------------------------------------------------------------------------\u001b[0m",
      "\u001b[1;31mRuntimeError\u001b[0m                              Traceback (most recent call last)",
      "Cell \u001b[1;32mIn[3], line 3\u001b[0m\n\u001b[0;32m      1\u001b[0m \u001b[38;5;28;01mimport\u001b[39;00m \u001b[38;5;21;01mtkinter\u001b[39;00m\n\u001b[1;32m----> 3\u001b[0m \u001b[38;5;28;01mclass\u001b[39;00m \u001b[38;5;21;01mCelcius_Converter\u001b[39;00m:\n\u001b[0;32m      4\u001b[0m     \u001b[38;5;28;01mdef\u001b[39;00m \u001b[38;5;21m__init__\u001b[39m(\u001b[38;5;28mself\u001b[39m):\n\u001b[0;32m      5\u001b[0m         \u001b[38;5;66;03m# Display GUI window\u001b[39;00m\n\u001b[0;32m      6\u001b[0m         \u001b[38;5;28mself\u001b[39m\u001b[38;5;241m.\u001b[39mwindow \u001b[38;5;241m=\u001b[39m tkinter\u001b[38;5;241m.\u001b[39mTk()\n",
      "Cell \u001b[1;32mIn[3], line 14\u001b[0m, in \u001b[0;36mCelcius_Converter\u001b[1;34m()\u001b[0m\n\u001b[0;32m      8\u001b[0m     \u001b[38;5;66;03m# GUI window title\u001b[39;00m\n\u001b[0;32m      9\u001b[0m     \u001b[38;5;66;03m#self.window.title('Celcius Converter')\u001b[39;00m\n\u001b[0;32m     10\u001b[0m     \n\u001b[0;32m     11\u001b[0m     \u001b[38;5;66;03m# This label contains instructions for the user\u001b[39;00m\n\u001b[0;32m     12\u001b[0m     \u001b[38;5;28mself\u001b[39m\u001b[38;5;241m.\u001b[39minstruction_label \u001b[38;5;241m=\u001b[39m tkinter\u001b[38;5;241m.\u001b[39mLabel(\u001b[38;5;28mself\u001b[39m\u001b[38;5;241m.\u001b[39mwindow, text\u001b[38;5;241m=\u001b[39m\u001b[38;5;124m'\u001b[39m\u001b[38;5;124mEnter a Celcius temperature in the box and click \u001b[39m\u001b[38;5;130;01m\\\"\u001b[39;00m\u001b[38;5;124mConvert\u001b[39m\u001b[38;5;130;01m\\\"\u001b[39;00m\u001b[38;5;124m.\u001b[39m\u001b[38;5;124m'\u001b[39m)\u001b[38;5;241m.\u001b[39mpack()\n\u001b[1;32m---> 14\u001b[0m tkinter\u001b[38;5;241m.\u001b[39mmainloop()\n",
      "File \u001b[1;32m~\\anaconda3\\Lib\\tkinter\\__init__.py:650\u001b[0m, in \u001b[0;36mmainloop\u001b[1;34m(n)\u001b[0m\n\u001b[0;32m    648\u001b[0m \u001b[38;5;28;01mdef\u001b[39;00m \u001b[38;5;21mmainloop\u001b[39m(n\u001b[38;5;241m=\u001b[39m\u001b[38;5;241m0\u001b[39m):\n\u001b[0;32m    649\u001b[0m \u001b[38;5;250m    \u001b[39m\u001b[38;5;124;03m\"\"\"Run the main loop of Tcl.\"\"\"\u001b[39;00m\n\u001b[1;32m--> 650\u001b[0m     _get_default_root(\u001b[38;5;124m'\u001b[39m\u001b[38;5;124mrun the main loop\u001b[39m\u001b[38;5;124m'\u001b[39m)\u001b[38;5;241m.\u001b[39mtk\u001b[38;5;241m.\u001b[39mmainloop(n)\n",
      "File \u001b[1;32m~\\anaconda3\\Lib\\tkinter\\__init__.py:319\u001b[0m, in \u001b[0;36m_get_default_root\u001b[1;34m(what)\u001b[0m\n\u001b[0;32m    317\u001b[0m \u001b[38;5;28;01mif\u001b[39;00m _default_root \u001b[38;5;129;01mis\u001b[39;00m \u001b[38;5;28;01mNone\u001b[39;00m:\n\u001b[0;32m    318\u001b[0m     \u001b[38;5;28;01mif\u001b[39;00m what:\n\u001b[1;32m--> 319\u001b[0m         \u001b[38;5;28;01mraise\u001b[39;00m \u001b[38;5;167;01mRuntimeError\u001b[39;00m(\u001b[38;5;124mf\u001b[39m\u001b[38;5;124m\"\u001b[39m\u001b[38;5;124mToo early to \u001b[39m\u001b[38;5;132;01m{\u001b[39;00mwhat\u001b[38;5;132;01m}\u001b[39;00m\u001b[38;5;124m: no default root window\u001b[39m\u001b[38;5;124m\"\u001b[39m)\n\u001b[0;32m    320\u001b[0m     root \u001b[38;5;241m=\u001b[39m Tk()\n\u001b[0;32m    321\u001b[0m     \u001b[38;5;28;01massert\u001b[39;00m _default_root \u001b[38;5;129;01mis\u001b[39;00m root\n",
      "\u001b[1;31mRuntimeError\u001b[0m: Too early to run the main loop: no default root window"
     ]
    }
   ],
   "source": [
    "import tkinter\n",
    "\n",
    "class Celcius_Converter:\n",
    "    def __init__(self):\n",
    "        # Display GUI window\n",
    "        self.window = tkinter.Tk()\n",
    "        \n",
    "        # GUI window title\n",
    "        #self.window.title('Celcius Converter')\n",
    "        \n",
    "        # This label contains instructions for the user\n",
    "        self.instruction_label = tkinter.Label(self.window, text='Enter a Celcius temperature in the box and click \\\"Convert\\\".').pack()\n",
    "\n",
    "    tkinter.mainloop()\n",
    "\n",
    "if __name__ == '__main__':\n",
    "    c_converter = Celcius_Converter()\n"
   ]
  },
  {
   "cell_type": "code",
   "execution_count": 7,
   "id": "54a6e499-539b-43ec-ab8b-0a295474bbe1",
   "metadata": {},
   "outputs": [
    {
     "ename": "AttributeError",
     "evalue": "'KiloConverter' object has no attribute 'tk'",
     "output_type": "error",
     "traceback": [
      "\u001b[1;31m---------------------------------------------------------------------------\u001b[0m",
      "\u001b[1;31mAttributeError\u001b[0m                            Traceback (most recent call last)",
      "Cell \u001b[1;32mIn[7], line 33\u001b[0m\n\u001b[0;32m     29\u001b[0m         tkinter\u001b[38;5;241m.\u001b[39mmessagebox\u001b[38;5;241m.\u001b[39mshowinfo(\u001b[38;5;124mf\u001b[39m\u001b[38;5;124m'\u001b[39m\u001b[38;5;124mConversion: \u001b[39m\u001b[38;5;132;01m{\u001b[39;00mmiles\u001b[38;5;132;01m:\u001b[39;00m\u001b[38;5;124m.2f\u001b[39m\u001b[38;5;132;01m}\u001b[39;00m\u001b[38;5;124m miles\u001b[39m\u001b[38;5;124m'\u001b[39m)\n\u001b[0;32m     32\u001b[0m \u001b[38;5;28;01mif\u001b[39;00m \u001b[38;5;18m__name__\u001b[39m \u001b[38;5;241m==\u001b[39m \u001b[38;5;124m'\u001b[39m\u001b[38;5;124m__main__\u001b[39m\u001b[38;5;124m'\u001b[39m:\n\u001b[1;32m---> 33\u001b[0m     kilo_conv \u001b[38;5;241m=\u001b[39m KiloConverter()\n",
      "Cell \u001b[1;32mIn[7], line 7\u001b[0m, in \u001b[0;36mKiloConverter.__init__\u001b[1;34m(self)\u001b[0m\n\u001b[0;32m      5\u001b[0m \u001b[38;5;28;01mdef\u001b[39;00m \u001b[38;5;21m__init__\u001b[39m(\u001b[38;5;28mself\u001b[39m):\n\u001b[0;32m      6\u001b[0m     \u001b[38;5;28mself\u001b[39m\u001b[38;5;241m.\u001b[39mwindow \u001b[38;5;241m=\u001b[39m tkinter\u001b[38;5;241m.\u001b[39mTk()\n\u001b[1;32m----> 7\u001b[0m     \u001b[38;5;28mself\u001b[39m\u001b[38;5;241m.\u001b[39mupper \u001b[38;5;241m=\u001b[39m tkinter\u001b[38;5;241m.\u001b[39mFrame(\u001b[38;5;28mself\u001b[39m, \u001b[38;5;28mself\u001b[39m\u001b[38;5;241m.\u001b[39mwindow)\n\u001b[0;32m      8\u001b[0m     \u001b[38;5;28mself\u001b[39m\u001b[38;5;241m.\u001b[39mlower \u001b[38;5;241m=\u001b[39m tkinter\u001b[38;5;241m.\u001b[39mFrame(\u001b[38;5;28mself\u001b[39m, \u001b[38;5;28mself\u001b[39m\u001b[38;5;241m.\u001b[39mwindow)\n\u001b[0;32m     10\u001b[0m     \u001b[38;5;28mself\u001b[39m\u001b[38;5;241m.\u001b[39mprompt \u001b[38;5;241m=\u001b[39m tkinter\u001b[38;5;241m.\u001b[39mLabel(\u001b[38;5;28mself\u001b[39m\u001b[38;5;241m.\u001b[39mupper, text\u001b[38;5;241m=\u001b[39m\u001b[38;5;124m'\u001b[39m\u001b[38;5;124mEnter kilomters:\u001b[39m\u001b[38;5;124m'\u001b[39m)\n",
      "File \u001b[1;32m~\\anaconda3\\Lib\\tkinter\\__init__.py:3190\u001b[0m, in \u001b[0;36mFrame.__init__\u001b[1;34m(self, master, cnf, **kw)\u001b[0m\n\u001b[0;32m   3188\u001b[0m     extra \u001b[38;5;241m=\u001b[39m (\u001b[38;5;124m'\u001b[39m\u001b[38;5;124m-class\u001b[39m\u001b[38;5;124m'\u001b[39m, cnf[\u001b[38;5;124m'\u001b[39m\u001b[38;5;124mclass\u001b[39m\u001b[38;5;124m'\u001b[39m])\n\u001b[0;32m   3189\u001b[0m     \u001b[38;5;28;01mdel\u001b[39;00m cnf[\u001b[38;5;124m'\u001b[39m\u001b[38;5;124mclass\u001b[39m\u001b[38;5;124m'\u001b[39m]\n\u001b[1;32m-> 3190\u001b[0m Widget\u001b[38;5;241m.\u001b[39m\u001b[38;5;21m__init__\u001b[39m(\u001b[38;5;28mself\u001b[39m, master, \u001b[38;5;124m'\u001b[39m\u001b[38;5;124mframe\u001b[39m\u001b[38;5;124m'\u001b[39m, cnf, {}, extra)\n",
      "File \u001b[1;32m~\\anaconda3\\Lib\\tkinter\\__init__.py:2622\u001b[0m, in \u001b[0;36mBaseWidget.__init__\u001b[1;34m(self, master, widgetName, cnf, kw, extra)\u001b[0m\n\u001b[0;32m   2620\u001b[0m     cnf \u001b[38;5;241m=\u001b[39m _cnfmerge((cnf, kw))\n\u001b[0;32m   2621\u001b[0m \u001b[38;5;28mself\u001b[39m\u001b[38;5;241m.\u001b[39mwidgetName \u001b[38;5;241m=\u001b[39m widgetName\n\u001b[1;32m-> 2622\u001b[0m \u001b[38;5;28mself\u001b[39m\u001b[38;5;241m.\u001b[39m_setup(master, cnf)\n\u001b[0;32m   2623\u001b[0m \u001b[38;5;28;01mif\u001b[39;00m \u001b[38;5;28mself\u001b[39m\u001b[38;5;241m.\u001b[39m_tclCommands \u001b[38;5;129;01mis\u001b[39;00m \u001b[38;5;28;01mNone\u001b[39;00m:\n\u001b[0;32m   2624\u001b[0m     \u001b[38;5;28mself\u001b[39m\u001b[38;5;241m.\u001b[39m_tclCommands \u001b[38;5;241m=\u001b[39m []\n",
      "File \u001b[1;32m~\\anaconda3\\Lib\\tkinter\\__init__.py:2591\u001b[0m, in \u001b[0;36mBaseWidget._setup\u001b[1;34m(self, master, cnf)\u001b[0m\n\u001b[0;32m   2589\u001b[0m     master \u001b[38;5;241m=\u001b[39m _get_default_root()\n\u001b[0;32m   2590\u001b[0m \u001b[38;5;28mself\u001b[39m\u001b[38;5;241m.\u001b[39mmaster \u001b[38;5;241m=\u001b[39m master\n\u001b[1;32m-> 2591\u001b[0m \u001b[38;5;28mself\u001b[39m\u001b[38;5;241m.\u001b[39mtk \u001b[38;5;241m=\u001b[39m master\u001b[38;5;241m.\u001b[39mtk\n\u001b[0;32m   2592\u001b[0m name \u001b[38;5;241m=\u001b[39m \u001b[38;5;28;01mNone\u001b[39;00m\n\u001b[0;32m   2593\u001b[0m \u001b[38;5;28;01mif\u001b[39;00m \u001b[38;5;124m'\u001b[39m\u001b[38;5;124mname\u001b[39m\u001b[38;5;124m'\u001b[39m \u001b[38;5;129;01min\u001b[39;00m cnf:\n",
      "\u001b[1;31mAttributeError\u001b[0m: 'KiloConverter' object has no attribute 'tk'"
     ]
    }
   ],
   "source": [
    "import tkinter\n",
    "import tkinter.messagebox\n",
    "\n",
    "class KiloConverter:\n",
    "    def __init__(self):\n",
    "        self.window = tkinter.Tk()\n",
    "        self.upper = tkinter.Frame(self, self.window)\n",
    "        self.lower = tkinter.Frame(self, self.window)\n",
    "        \n",
    "        self.prompt = tkinter.Label(self.upper, text='Enter kilomters:')\n",
    "        self.input = tkinter.Entry(self.upper, width=10)\n",
    "        \n",
    "        self.prompt.pack(side='left')\n",
    "        self.input.pack(side='left')\n",
    "        \n",
    "        self.convert_btn = tkinter.Button(self.lower, text='Convert', command=self.convert)\n",
    "        self.quit_btn = tkinter.Button(self.lower, text='Quit', command=self.window.destroy)\n",
    "        \n",
    "        self.convert_btn.pack(side='left')\n",
    "        self.quit_btn.pack(side='left')\n",
    "        \n",
    "        tkinter.mainloop()\n",
    "        \n",
    "    def convert(self):\n",
    "        kilo = float(self.input.get())\n",
    "        \n",
    "        miles = kilo * 0.6214\n",
    "        \n",
    "        tkinter.messagebox.showinfo(f'Conversion: {miles:.2f} miles')\n",
    "        \n",
    "\n",
    "if __name__ == '__main__':\n",
    "    kilo_conv = KiloConverter()"
   ]
  },
  {
   "cell_type": "code",
   "execution_count": null,
   "id": "2d69e991-cb24-434c-8390-942ecc2443c8",
   "metadata": {},
   "outputs": [],
   "source": []
  }
 ],
 "metadata": {
  "kernelspec": {
   "display_name": "Python 3 (ipykernel)",
   "language": "python",
   "name": "python3"
  },
  "language_info": {
   "codemirror_mode": {
    "name": "ipython",
    "version": 3
   },
   "file_extension": ".py",
   "mimetype": "text/x-python",
   "name": "python",
   "nbconvert_exporter": "python",
   "pygments_lexer": "ipython3",
   "version": "3.11.5"
  }
 },
 "nbformat": 4,
 "nbformat_minor": 5
}
