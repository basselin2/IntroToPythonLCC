{
 "cells": [
  {
   "cell_type": "markdown",
   "id": "a9b2a033-fdc0-4e9d-ac96-e7cc1edbf9ac",
   "metadata": {},
   "source": [
    "# Ch.6 Coding Set \n",
    "(Starting Out With Python 5th Edition)\n",
    "\n",
    "Briana Asselin"
   ]
  },
  {
   "cell_type": "markdown",
   "id": "d0f0db9f-2bba-4ef0-aaef-f8a2b19778d2",
   "metadata": {},
   "source": [
    "### Algorithm Workbench: Problem 1 (Create Text File)\n",
    "\n",
    "**Question:** Write a program that opens an output file with the filename my_name.txt, writes your name to the file, then closes the file.\n",
    "\n",
    "------------------------------------------------------------------------------------------------------------ \n",
    "**Overview:** This question requires the programmer to create a new file, connect to it, write a string into the file, and close it. This can be done using the \"w\" modifier with the open() method."
   ]
  },
  {
   "cell_type": "code",
   "execution_count": 3,
   "id": "41519aa5-8908-4c11-b18f-3e94ae44b719",
   "metadata": {
    "tags": []
   },
   "outputs": [],
   "source": [
    "# Set up the variable to hold the file\n",
    "# Create and open a text file called my_name in \"write\" mode\n",
    "name_file = open('my_name.txt', 'w')\n",
    "\n",
    "# Write a string to the file\n",
    "name_file.write('Briana')\n",
    "\n",
    "# Close the file\n",
    "name_file.close()"
   ]
  },
  {
   "cell_type": "markdown",
   "id": "6ff9f057-d32f-43c1-8520-3f005f2c12bc",
   "metadata": {},
   "source": [
    "### Algorithm Workbench: Problem 3 (Create Numbers File)\n",
    "\n",
    "**Question:** Write code that does the following: opens an output file with the filename number_list.txt, uses a loop to write the numbers 1 through 100 to the file, then closes the file.\n",
    "\n",
    "------------------------------------------------------------------------------------------------------------ \n",
    "**Overview:** This question requires the programmer to create a new file, connect to it, create a loop that will write a series of strings into the file, and close it. This problem can also be done using the \"w\" modifier with the open() method."
   ]
  },
  {
   "cell_type": "code",
   "execution_count": 4,
   "id": "46660916-a75f-407c-95a5-88da840b97b9",
   "metadata": {
    "tags": []
   },
   "outputs": [
    {
     "ename": "SyntaxError",
     "evalue": "expected ':' (397986714.py, line 6)",
     "output_type": "error",
     "traceback": [
      "\u001b[1;36m  Cell \u001b[1;32mIn[4], line 6\u001b[1;36m\u001b[0m\n\u001b[1;33m    for num in range(1, 101)\u001b[0m\n\u001b[1;37m                            ^\u001b[0m\n\u001b[1;31mSyntaxError\u001b[0m\u001b[1;31m:\u001b[0m expected ':'\n"
     ]
    }
   ],
   "source": [
    "# Set up the variable to hold the file\n",
    "# Create and open a text file called number_list in \"write\" mode\n",
    "num_file = open('number_list.txt', 'w')\n",
    "\n",
    "# Convert the numbers to strings and write them to the file\n",
    "for num in range(1, 101)\n",
    "    num_file.write(str(num))\n",
    "\n",
    "# Close the file\n",
    "num_file.close()"
   ]
  },
  {
   "cell_type": "code",
   "execution_count": 6,
   "id": "c28364e4-e47d-48db-8ef1-c79d925f67c0",
   "metadata": {
    "tags": []
   },
   "outputs": [],
   "source": [
    "# Set up the variable to hold the file\n",
    "# Create and open a text file called number_list in \"write\" mode\n",
    "num_file = open('number_list.txt', 'w')\n",
    "\n",
    "# Convert the numbers to strings and write them to the file.\n",
    "# The previous version of the loop output the numbers with no spacing;\n",
    "# but this version will do so.\n",
    "for num in range(1, 101):\n",
    "    num_file.write(str(num) + '\\n')\n",
    "\n",
    "# Close the file\n",
    "num_file.close()"
   ]
  },
  {
   "cell_type": "markdown",
   "id": "36829792-d01c-4112-a7f3-caee1fdd43d3",
   "metadata": {},
   "source": [
    "### Programming Exercises: Problem 1 (File Display)\n",
    "\n",
    "**Question:** Assume a file containing a series of integers is named numbers.txt and exists on the computer’s disk. Write a program that displays all of the numbers in the file.\n",
    "\n",
    "------------------------------------------------------------------------------------------------------------ \n",
    "**Overview:** This question requires the programmer to write code that opens a file at a specific location on a computer. I will not actually create such a file to avoid providing a file path that references my own computer, as this is not secure. After the hypothetical file is opened, the code must read through the file until the end and print all contents of the file."
   ]
  },
  {
   "cell_type": "code",
   "execution_count": null,
   "id": "9cd5b977-21ed-44b6-ada1-4698dc37b948",
   "metadata": {},
   "outputs": [],
   "source": [
    "# This code simulates opening a locally saved file in read mode\n",
    "file_var = open(r'C:\\Documents\\numbers.txt, 'r')\n",
    "                \n"
   ]
  }
 ],
 "metadata": {
  "kernelspec": {
   "display_name": "Python 3 (ipykernel)",
   "language": "python",
   "name": "python3"
  },
  "language_info": {
   "codemirror_mode": {
    "name": "ipython",
    "version": 3
   },
   "file_extension": ".py",
   "mimetype": "text/x-python",
   "name": "python",
   "nbconvert_exporter": "python",
   "pygments_lexer": "ipython3",
   "version": "3.11.5"
  }
 },
 "nbformat": 4,
 "nbformat_minor": 5
}
