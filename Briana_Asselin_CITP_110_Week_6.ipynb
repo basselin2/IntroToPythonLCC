{
 "cells": [
  {
   "cell_type": "markdown",
   "id": "a9b2a033-fdc0-4e9d-ac96-e7cc1edbf9ac",
   "metadata": {},
   "source": [
    "# Ch.6 Coding Set \n",
    "(Starting Out With Python 5th Edition)\n",
    "\n",
    "Briana Asselin"
   ]
  },
  {
   "cell_type": "markdown",
   "id": "d0f0db9f-2bba-4ef0-aaef-f8a2b19778d2",
   "metadata": {},
   "source": [
    "### Algorithm Workbench: Problem 1 (Create Text File)\n",
    "\n",
    "**Question:** Write a program that opens an output file with the filename my_name.txt, writes your name to the file, then closes the file.\n",
    "\n",
    "------------------------------------------------------------------------------------------------------------ \n",
    "**Overview:** This question requires the programmer to create a new file, connect to it, write a string into the file, and close it. This can be done using the \"w\" modifier with the open() method."
   ]
  },
  {
   "cell_type": "code",
   "execution_count": 3,
   "id": "41519aa5-8908-4c11-b18f-3e94ae44b719",
   "metadata": {
    "tags": []
   },
   "outputs": [],
   "source": [
    "# Set up the variable to hold the file\n",
    "# Create and open a text file called my_name in \"write\" mode\n",
    "name_file = open('my_name.txt', 'w')\n",
    "\n",
    "# Write a string to the file\n",
    "name_file.write('Briana')\n",
    "\n",
    "# Close the file\n",
    "name_file.close()"
   ]
  },
  {
   "cell_type": "markdown",
   "id": "6ff9f057-d32f-43c1-8520-3f005f2c12bc",
   "metadata": {},
   "source": [
    "### Algorithm Workbench: Problem 3 (Create Numbers File)\n",
    "\n",
    "**Question:** Write code that does the following: opens an output file with the filename number_list.txt, uses a loop to write the numbers 1 through 100 to the file, then closes the file.\n",
    "\n",
    "------------------------------------------------------------------------------------------------------------ \n",
    "**Overview:** This question requires the programmer to create a new file, connect to it, create a loop that will write a series of strings into the file, and close it. This problem can also be done using the \"w\" modifier with the open() method."
   ]
  },
  {
   "cell_type": "code",
   "execution_count": 4,
   "id": "46660916-a75f-407c-95a5-88da840b97b9",
   "metadata": {
    "tags": []
   },
   "outputs": [
    {
     "ename": "SyntaxError",
     "evalue": "expected ':' (397986714.py, line 6)",
     "output_type": "error",
     "traceback": [
      "\u001b[1;36m  Cell \u001b[1;32mIn[4], line 6\u001b[1;36m\u001b[0m\n\u001b[1;33m    for num in range(1, 101)\u001b[0m\n\u001b[1;37m                            ^\u001b[0m\n\u001b[1;31mSyntaxError\u001b[0m\u001b[1;31m:\u001b[0m expected ':'\n"
     ]
    }
   ],
   "source": [
    "# Set up the variable to hold the file\n",
    "# Create and open a text file called number_list in \"write\" mode\n",
    "num_file = open('number_list.txt', 'w')\n",
    "\n",
    "# Convert the numbers to strings and write them to the file\n",
    "for num in range(1, 101)\n",
    "    num_file.write(str(num))\n",
    "\n",
    "# Close the file\n",
    "num_file.close()"
   ]
  },
  {
   "cell_type": "code",
   "execution_count": 6,
   "id": "c28364e4-e47d-48db-8ef1-c79d925f67c0",
   "metadata": {
    "tags": []
   },
   "outputs": [],
   "source": [
    "# Set up the variable to hold the file\n",
    "# Create and open a text file called number_list in \"write\" mode\n",
    "num_file = open('number_list.txt', 'w')\n",
    "\n",
    "# Convert the numbers to strings and write them to the file.\n",
    "# The previous version of the loop output the numbers with no spacing;\n",
    "# but this version will do so.\n",
    "for num in range(1, 101):\n",
    "    num_file.write(str(num) + '\\n')\n",
    "\n",
    "# Close the file\n",
    "num_file.close()"
   ]
  },
  {
   "cell_type": "markdown",
   "id": "36829792-d01c-4112-a7f3-caee1fdd43d3",
   "metadata": {},
   "source": [
    "### Programming Exercises: Problem 1 (File Display)\n",
    "\n",
    "**Question:** Assume a file containing a series of integers is named numbers.txt and exists on the computer’s disk. Write a program that displays all of the numbers in the file.\n",
    "\n",
    "------------------------------------------------------------------------------------------------------------ \n",
    "**Overview:** This question requires the programmer to write code that opens a file at a specific location on a computer. I will not actually create such a file to avoid providing a file path that references my own computer, as this is not secure. After the hypothetical file is opened, the code must read through the file until the end and print all contents of the file."
   ]
  },
  {
   "cell_type": "code",
   "execution_count": null,
   "id": "9cd5b977-21ed-44b6-ada1-4698dc37b948",
   "metadata": {},
   "outputs": [],
   "source": [
    "# This code simulates opening a locally saved file in read mode\n",
    "file_var = open(r'C:\\Documents\\numbers.txt, 'r')\n",
    "                \n",
    "# Test whether the file contains any data\n",
    "line = file_var.readline()\n",
    "                \n",
    "# Use a \"while\" loop to continue reading lines out of the file until\n",
    "# the line variable comes back as an empty string.\n",
    "while line != '':\n",
    "    # Convert the file contents from string format to a numeric format\n",
    "    num = int(line)\n",
    "                \n",
    "    # Since I am not testing this code, I will not worry about formatting the print line\n",
    "    print(num)\n",
    "                \n",
    "    # Read the next line in the file\n",
    "    line = file_var.readline()\n",
    "                \n",
    "# Close the file\n",
    "file_var.close()"
   ]
  },
  {
   "cell_type": "markdown",
   "id": "67427d74-05e4-4456-8505-d416509a7fff",
   "metadata": {},
   "source": [
    "### Programming Exercises: Problem 6 (Average of Numbers)\n",
    "\n",
    "**Question:** Assume a file containing a series of integers is named numbers.txt and exists on the computer’s disk. Write a program that calculates the average of all the numbers stored in the file.\n",
    " \n",
    "------------------------------------------------------------------------------------------------------------ \n",
    "**Overview:** This question requires the programmer to follow a similar process to the previous problem. The simulated file must be opened and read. The numbers in the file must be converted from the string type to the int type. Then, the computer will be able to perform the necessary calculations. Finally, the file must be closed to avoid hogging memory."
   ]
  },
  {
   "cell_type": "code",
   "execution_count": null,
   "id": "b83b9c58-09ce-4217-904f-4ee25a9794fa",
   "metadata": {},
   "outputs": [],
   "source": [
    "# This code simulates opening a locally saved file in read mode\n",
    "file_var = open(r'C:\\Documents\\numbers.txt, 'r')\n",
    "                \n",
    "# Test whether the file contains any data\n",
    "line = file_var.readline()\n",
    "             \n",
    "# Set up an accumulator variable (to be used in the average calculation) outside of the loop\n",
    "num_holder = 0\n",
    "\n",
    "# Set up an accumulator variable to count number of times the while loop runs\n",
    "counter = 0\n",
    "           \n",
    "# Use a \"while\" loop to continue reading lines out of the file until\n",
    "# the line variable comes back as an empty string.\n",
    "while line != '':      \n",
    "    # Convert the file contents from string format to a numeric format\n",
    "    file_num = int(line)\n",
    "                \n",
    "    # Read the next line in the file\n",
    "    # Increment the counter var\n",
    "    line = file_var.readline()\n",
    "    counter += 1\n",
    "    \n",
    "    # Add each number from the file into the average var. until the while loop ends\n",
    "    for i in range(counter + 1):\n",
    "        num_holder += file_num\n",
    "        \n",
    "# Calculate the average outside of the loop\n",
    "calculation = num_holder / counter               \n",
    "                \n",
    "# Close the file\n",
    "file_var.close()"
   ]
  },
  {
   "cell_type": "markdown",
   "id": "0bfec0c6-034c-45c4-937b-0934dcca704a",
   "metadata": {},
   "source": [
    "### Programming Exercises: Problem 9 (Exception Handling)\n",
    "\n",
    "**Question:** Modify the program that you wrote for Exercise 6 so it handles the following exceptions:\n",
    " \n",
    "         - It should handle any IOError exceptions that are raised when the file is opened and data is read from it.\n",
    "         - It should handle any ValueError exceptions that are raised when the items that are read from the file are converted to a number.\n",
    " \n",
    "------------------------------------------------------------------------------------------------------------ \n",
    "**Overview:** This question requires the programmer to use the try/except statements to handle two kinds of input exceptions. The programmer is to use the code from the previous problem for this purpose."
   ]
  },
  {
   "cell_type": "code",
   "execution_count": null,
   "id": "64bd8796-58bf-408a-870b-3ed168b80442",
   "metadata": {},
   "outputs": [],
   "source": [
    "# Set up an accumulator variable (to be used in the average calculation) outside of the loop\n",
    "num_holder = 0\n",
    "\n",
    "# Set up an accumulator variable to count number of times the while loop runs\n",
    "counter = 0\n",
    "\n",
    "try:\n",
    "    # This code simulates opening a locally saved file in read mode\n",
    "    file_var = open(r'C:\\Documents\\numbers.txt, 'r')\n",
    "                \n",
    "    # Test whether the file contains any data\n",
    "    line = file_var.readline()\n",
    "           \n",
    "    # Use a \"while\" loop to continue reading lines out of the file until\n",
    "    # the line variable comes back as an empty string.\n",
    "    while line != '': \n",
    "        try:\n",
    "            # Convert the file contents from string format to a numeric format\n",
    "            file_num = int(line)\n",
    "                \n",
    "            # Read the next line in the file\n",
    "            # Increment the counter var\n",
    "            line = file_var.readline()\n",
    "            counter += 1\n",
    "        except ValueError:\n",
    "            print('File contains an invalid value.')        \n",
    "    \n",
    "        # Add each number from the file into the average var. until the while loop ends\n",
    "        for i in range(counter + 1):\n",
    "            num_holder += file_num\n",
    "        \n",
    "    # Calculate the average outside of the loop\n",
    "    calculation = num_holder / counter               \n",
    "                \n",
    "    # Close the file\n",
    "    file_var.close()\n",
    "                    \n",
    "except IOError:\n",
    "    print('Unable to read file.')                   "
   ]
  },
  {
   "cell_type": "markdown",
   "id": "d606e5e4-1b6c-44ed-867c-1df64fd282f8",
   "metadata": {},
   "source": [
    "### Programming Exercises: Problem 2 (File Head Display)\n",
    "\n",
    "**Question:** Write a program that asks the user for the name of a file. The program should display only the first five lines of the file’s contents. If the file contains less than five lines, it should display the file’s entire contents.\n",
    " \n",
    "------------------------------------------------------------------------------------------------------------ \n",
    "**Overview:** This question requires the programmer to get input from the user and locate a file name that matches the user's input. The program must then output 5 or fewer lines of content from the file."
   ]
  },
  {
   "cell_type": "code",
   "execution_count": null,
   "id": "7b51af51-d7f5-4135-b278-78f814e436e8",
   "metadata": {},
   "outputs": [],
   "source": [
    "# Set up the iterator variable\n",
    "counter = 5\n",
    "\n",
    "# Get the filename from the user\n",
    "filename = input('What is the name of the file?: ')\n",
    "\n",
    "#Try to open the user's file; if the file is not found, notify the user.\n",
    "try:\n",
    "    infile = open(f'{filename}.txt', 'r')\n",
    "    \n",
    "    # Test whether the file contains any data\n",
    "    line = file_var.readline()\n",
    "    \n",
    "    while line != '': \n",
    "        # Use the counter to control the number of lines the loops output\n",
    "        while counter != 0:\n",
    "            print(line)\n",
    "            counter -= 1\n",
    "    \n",
    "except IOError:\n",
    "    print('File not found.') \n",
    "    \n"
   ]
  }
 ],
 "metadata": {
  "kernelspec": {
   "display_name": "Python 3 (ipykernel)",
   "language": "python",
   "name": "python3"
  },
  "language_info": {
   "codemirror_mode": {
    "name": "ipython",
    "version": 3
   },
   "file_extension": ".py",
   "mimetype": "text/x-python",
   "name": "python",
   "nbconvert_exporter": "python",
   "pygments_lexer": "ipython3",
   "version": "3.11.5"
  }
 },
 "nbformat": 4,
 "nbformat_minor": 5
}
