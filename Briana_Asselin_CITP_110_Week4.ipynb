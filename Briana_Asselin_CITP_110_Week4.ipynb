{
 "cells": [
  {
   "cell_type": "markdown",
   "id": "e767abb5",
   "metadata": {},
   "source": [
    "# Ch.4 Coding Set \n",
    "(Starting Out With Python 5th Edition)\n",
    "\n",
    "Briana Asselin"
   ]
  },
  {
   "cell_type": "markdown",
   "id": "c210f64f",
   "metadata": {},
   "source": [
    "### Algorithm Workbench: Problem 2 (While Loop with 2 Inputs)\n",
    "\n",
    "**Question:** Write a loop that asks the user to enter two numbers. The numbers should be added and the sum displayed. The loop should ask the user if he or she wishes to perform the operation again. If so, the loop should repeat, otherwise it should terminate.\n",
    "\n",
    "------------------------------------------------------------------------------------------------------------ \n",
    "**Overview:** For this loop, the coder needs to get 2 inputs, perform operations on them, display the result, and use an additional input to find out whether the user wants to continue. I will use floats for this problem since most users would not just enter ints."
   ]
  },
  {
   "cell_type": "code",
   "execution_count": 6,
   "id": "10fb3b50",
   "metadata": {},
   "outputs": [
    {
     "name": "stdout",
     "output_type": "stream",
     "text": [
      "Enter the first number: 2\n",
      "Enter the second number: 7\n",
      "\n",
      "2.0 plus 7.0 equals 9.00\n",
      "Would you like to add more numbers? Enter Y to continue or N to quit: N\n"
     ]
    }
   ],
   "source": [
    "# Get 2 values from the user\n",
    "first_num = float(input('Enter the first number: '))\n",
    "second_num = float(input('Enter the second number: '))\n",
    "\n",
    "# Add the values and display the result for the user. \n",
    "user_sum = first_num + second_num\n",
    "print('\\n'f'{first_num} plus {second_num} equals {user_sum:.2f}')\n",
    "\n",
    "# Ask the user whether to continue. If yes, run the same process again.\n",
    "response = input('Would you like to add more numbers? Enter Y to continue or N to quit: ')\n",
    "\n",
    "while response == 'Y':\n",
    "    first_num = float(input('Enter the first number: '))\n",
    "    second_num = float(input('Enter the second number: '))\n",
    "    user_sum = first_num + second_num\n",
    "    print('\\n'f'{first_num} plus {second_num} equals {user_sum}')\n",
    "    response = input('Would you like to add more numbers? Enter Y to continue or N to quit: ')\n"
   ]
  },
  {
   "cell_type": "markdown",
   "id": "e659e7e2",
   "metadata": {},
   "source": [
    "### Algorithm Workbench: Problem 3 (For loop 0-1000)\n",
    "\n",
    "**Question:** Write a for loop that displays the following set of numbers: \n",
    "                \n",
    "              0, 10, 20, 30, 40, 50, ... 1000\n",
    "\n",
    "------------------------------------------------------------------------------------------------------------ \n",
    "**Overview:** For this loop, the programmer needs to ensure that the loop outputs zero first. Then, the loop will need to add 10 each time it iterates and print each 10th value until 1000 is reached."
   ]
  },
  {
   "cell_type": "code",
   "execution_count": 7,
   "id": "812a9c3b",
   "metadata": {},
   "outputs": [
    {
     "ename": "SyntaxError",
     "evalue": "invalid syntax (2629652310.py, line 8)",
     "output_type": "error",
     "traceback": [
      "\u001b[1;36m  Cell \u001b[1;32mIn[7], line 8\u001b[1;36m\u001b[0m\n\u001b[1;33m    for each val in range(0, 1001, 10)\u001b[0m\n\u001b[1;37m             ^\u001b[0m\n\u001b[1;31mSyntaxError\u001b[0m\u001b[1;31m:\u001b[0m invalid syntax\n"
     ]
    }
   ],
   "source": [
    "# This loop will need to use the range function.\n",
    "# The first number, 0, is the starting value of the loop.\n",
    "# The second number, 1001, is the end limit. \n",
    "# If I understand the range function correctly, providing an end limit of 1000 would prevent the 1000\n",
    "# from printing because the end limit is not inclusive.\n",
    "# The final number, 10, is the step value. This will increment the loop by positive 10 with each iteration.\n",
    "\n",
    "for each val in range(0, 1001, 10)\n",
    "    print(val)"
   ]
  },
  {
   "cell_type": "code",
   "execution_count": 8,
   "id": "0f8fa9ea",
   "metadata": {},
   "outputs": [
    {
     "ename": "SyntaxError",
     "evalue": "invalid syntax (3309865951.py, line 8)",
     "output_type": "error",
     "traceback": [
      "\u001b[1;36m  Cell \u001b[1;32mIn[8], line 8\u001b[1;36m\u001b[0m\n\u001b[1;33m    for each num in range(0, 1001, 10)\u001b[0m\n\u001b[1;37m             ^\u001b[0m\n\u001b[1;31mSyntaxError\u001b[0m\u001b[1;31m:\u001b[0m invalid syntax\n"
     ]
    }
   ],
   "source": [
    "# This loop will need to use the range function.\n",
    "# The first number, 0, is the starting value of the loop.\n",
    "# The second number, 1001, is the end limit. \n",
    "# If I understand the range function correctly, providing an end limit of 1000 would prevent the 1000\n",
    "# from printing because the end limit is not inclusive.\n",
    "# The final number, 10, is the step value. This will increment the loop by positive 10 with each iteration.\n",
    "\n",
    "for each num in range(0, 1001, 10)\n",
    "    print(num)"
   ]
  },
  {
   "cell_type": "code",
   "execution_count": 9,
   "id": "290132dd",
   "metadata": {},
   "outputs": [
    {
     "ename": "SyntaxError",
     "evalue": "invalid syntax (548836754.py, line 10)",
     "output_type": "error",
     "traceback": [
      "\u001b[1;36m  Cell \u001b[1;32mIn[9], line 10\u001b[1;36m\u001b[0m\n\u001b[1;33m    for each val in range(0, 1001, 10):\u001b[0m\n\u001b[1;37m             ^\u001b[0m\n\u001b[1;31mSyntaxError\u001b[0m\u001b[1;31m:\u001b[0m invalid syntax\n"
     ]
    }
   ],
   "source": [
    "# REMEMBER THE COLONS\n",
    "\n",
    "# This loop will need to use the range function.\n",
    "# The first number, 0, is the starting value of the loop.\n",
    "# The second number, 1001, is the end limit. \n",
    "# If I understand the range function correctly, providing an end limit of 1000 would prevent the 1000\n",
    "# from printing because the end limit is not inclusive.\n",
    "# The final number, 10, is the step value. This will increment the loop by positive 10 with each iteration.\n",
    "\n",
    "for each val in range(0, 1001, 10):\n",
    "    print(val)"
   ]
  },
  {
   "cell_type": "code",
   "execution_count": 10,
   "id": "f2738a31",
   "metadata": {},
   "outputs": [
    {
     "name": "stdout",
     "output_type": "stream",
     "text": [
      "0\n",
      "10\n",
      "20\n",
      "30\n",
      "40\n",
      "50\n",
      "60\n",
      "70\n",
      "80\n",
      "90\n",
      "100\n",
      "110\n",
      "120\n",
      "130\n",
      "140\n",
      "150\n",
      "160\n",
      "170\n",
      "180\n",
      "190\n",
      "200\n",
      "210\n",
      "220\n",
      "230\n",
      "240\n",
      "250\n",
      "260\n",
      "270\n",
      "280\n",
      "290\n",
      "300\n",
      "310\n",
      "320\n",
      "330\n",
      "340\n",
      "350\n",
      "360\n",
      "370\n",
      "380\n",
      "390\n",
      "400\n",
      "410\n",
      "420\n",
      "430\n",
      "440\n",
      "450\n",
      "460\n",
      "470\n",
      "480\n",
      "490\n",
      "500\n",
      "510\n",
      "520\n",
      "530\n",
      "540\n",
      "550\n",
      "560\n",
      "570\n",
      "580\n",
      "590\n",
      "600\n",
      "610\n",
      "620\n",
      "630\n",
      "640\n",
      "650\n",
      "660\n",
      "670\n",
      "680\n",
      "690\n",
      "700\n",
      "710\n",
      "720\n",
      "730\n",
      "740\n",
      "750\n",
      "760\n",
      "770\n",
      "780\n",
      "790\n",
      "800\n",
      "810\n",
      "820\n",
      "830\n",
      "840\n",
      "850\n",
      "860\n",
      "870\n",
      "880\n",
      "890\n",
      "900\n",
      "910\n",
      "920\n",
      "930\n",
      "940\n",
      "950\n",
      "960\n",
      "970\n",
      "980\n",
      "990\n",
      "1000\n"
     ]
    }
   ],
   "source": [
    "# It's also good to remember that different programming languages handle loops differently.\n",
    "# I'm used to using \"for each\" loops to do these kinds of tasks since I mostly work in C#.\n",
    "\n",
    "# REMEMBER THE COLONS\n",
    "\n",
    "# This loop will need to use the range function.\n",
    "# The first number, 0, is the starting value of the loop.\n",
    "# The second number, 1001, is the end limit. \n",
    "# If I understand the range function correctly, providing an end limit of 1000 would prevent the 1000\n",
    "# from printing because the end limit is not inclusive.\n",
    "# The final number, 10, is the step value. This will increment the loop by positive 10 with each iteration.\n",
    "\n",
    "for val in range(0, 1001, 10):\n",
    "    print(val)"
   ]
  },
  {
   "cell_type": "markdown",
   "id": "d70f2ef1",
   "metadata": {},
   "source": [
    "### Programming Exercises: Problem 1 (Bug Collector)\n",
    "\n",
    "**Question:** A bug collector collects bugs every day for five days. Write a program that keeps a running total of the number of bugs collected during the five days. The loop should ask for the number of bugs collected for each day, and when the loop is finished, the program should display the total number of bugs collected.\n",
    "\n",
    "------------------------------------------------------------------------------------------------------------ \n",
    "**Overview:** For this program, the coder needs get the same type of input from the user 5 times. Each time input is received, that number is added to the previous total. After 5 inputs have been received, the loops needs to end and output the \"grand\" total. Since this program is counting a specific number of bugs, integers should be used."
   ]
  },
  {
   "cell_type": "code",
   "execution_count": null,
   "id": "1cec6f88",
   "metadata": {},
   "outputs": [],
   "source": [
    "# This variable is a constant to control how long the loop will run\n",
    "NUM_DAYS = 5\n",
    "\n",
    "# This variable will be used to total up the number of bugs in each loop iteration\n",
    "total_bugs = 0\n",
    "\n",
    "# Get the user inputs and add the totals\n",
    "for days in range(NUM_DAYS):\n",
    "    num_bugs = int(input('How many bugs were collected today?: '))\n",
    "    total_bugs += num_bugs\n",
    "\n",
    "# After the loop has run 5 times, output the final total\n",
    "print(f'{total_bugs} bugs were collected in total.')"
   ]
  }
 ],
 "metadata": {
  "kernelspec": {
   "display_name": "Python 3 (ipykernel)",
   "language": "python",
   "name": "python3"
  },
  "language_info": {
   "codemirror_mode": {
    "name": "ipython",
    "version": 3
   },
   "file_extension": ".py",
   "mimetype": "text/x-python",
   "name": "python",
   "nbconvert_exporter": "python",
   "pygments_lexer": "ipython3",
   "version": "3.11.5"
  }
 },
 "nbformat": 4,
 "nbformat_minor": 5
}
