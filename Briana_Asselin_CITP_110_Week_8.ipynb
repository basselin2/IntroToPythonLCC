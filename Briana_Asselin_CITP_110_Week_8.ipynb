{
 "cells": [
  {
   "cell_type": "markdown",
   "id": "2beeff27-f405-4c4c-bb3a-3e647a141890",
   "metadata": {},
   "source": [
    "# Ch.8 Coding Set \n",
    "(Starting Out With Python 5th Edition)\n",
    "\n",
    "Briana Asselin"
   ]
  },
  {
   "cell_type": "markdown",
   "id": "a621a3b5-05af-4250-a2db-97165494eab3",
   "metadata": {},
   "source": [
    "### Algorithm Workbench: Problem 6 (Convert to Uppercase)\n",
    "\n",
    "**Question:** Write code that makes a copy of a string with all occurrences of the lowercase letter 't' converted to uppercase.\n",
    "\n",
    "------------------------------------------------------------------------------------------------------------ \n",
    "**Overview:** This question requires the programmer to iterate over a string, find all the instances of lowercase t, and convert them to uppercase T's. I'm planning to start by trying a combination of the replace() function and the upper() function. If that doesn't work, I'll iterate through the string and copy one letter at a time into a new string. When 't' is reached, it will be converted to 'T' and added to the new string."
   ]
  },
  {
   "cell_type": "code",
   "execution_count": 4,
   "id": "50f3d2bb-c27e-4cf3-8ccc-24a13c6b6d98",
   "metadata": {
    "tags": []
   },
   "outputs": [
    {
     "ename": "NameError",
     "evalue": "name 'replace' is not defined",
     "output_type": "error",
     "traceback": [
      "\u001b[1;31m---------------------------------------------------------------------------\u001b[0m",
      "\u001b[1;31mNameError\u001b[0m                                 Traceback (most recent call last)",
      "Cell \u001b[1;32mIn[4], line 8\u001b[0m\n\u001b[0;32m      6\u001b[0m \u001b[38;5;28;01mfor\u001b[39;00m char \u001b[38;5;129;01min\u001b[39;00m string_to_convert:\n\u001b[0;32m      7\u001b[0m     \u001b[38;5;28;01mif\u001b[39;00m char \u001b[38;5;241m==\u001b[39m \u001b[38;5;124m'\u001b[39m\u001b[38;5;124mt\u001b[39m\u001b[38;5;124m'\u001b[39m:\n\u001b[1;32m----> 8\u001b[0m         converted_string \u001b[38;5;241m=\u001b[39m replace(char, upper(char))\n\u001b[0;32m     10\u001b[0m \u001b[38;5;66;03m# Check the changes in the string\u001b[39;00m\n\u001b[0;32m     11\u001b[0m \u001b[38;5;28mprint\u001b[39m(converted_string)\n",
      "\u001b[1;31mNameError\u001b[0m: name 'replace' is not defined"
     ]
    }
   ],
   "source": [
    "## This attempt did not seem to work:\n",
    "\n",
    "# Create a string with t's in it to convert\n",
    "string_to_convert = 'this was a triumph. I\\'m making a note here: huge success. It\\'s hard to overstate my satisfaction. (pretend this has music)'\n",
    "converted_string = ''\n",
    "# Iterate through the string\n",
    "# Where there is a 't', replace it with 'T'\n",
    "for char in string_to_convert:\n",
    "    if char == 't':\n",
    "        converted_string = replace(char, upper(char))\n",
    "\n",
    "# Check the changes in the string\n",
    "print(converted_string)"
   ]
  },
  {
   "cell_type": "code",
   "execution_count": 6,
   "id": "4876c9cd-4076-4935-a584-b6df217ed293",
   "metadata": {
    "tags": []
   },
   "outputs": [
    {
     "ename": "NameError",
     "evalue": "name 'upper' is not defined",
     "output_type": "error",
     "traceback": [
      "\u001b[1;31m---------------------------------------------------------------------------\u001b[0m",
      "\u001b[1;31mNameError\u001b[0m                                 Traceback (most recent call last)",
      "Cell \u001b[1;32mIn[6], line 10\u001b[0m\n\u001b[0;32m      8\u001b[0m \u001b[38;5;28;01mfor\u001b[39;00m char \u001b[38;5;129;01min\u001b[39;00m string_to_convert:\n\u001b[0;32m      9\u001b[0m     \u001b[38;5;28;01mif\u001b[39;00m char \u001b[38;5;241m==\u001b[39m \u001b[38;5;124m'\u001b[39m\u001b[38;5;124mt\u001b[39m\u001b[38;5;124m'\u001b[39m:\n\u001b[1;32m---> 10\u001b[0m         converted_string \u001b[38;5;241m=\u001b[39m converted_string \u001b[38;5;241m+\u001b[39m upper(char)\n\u001b[0;32m     11\u001b[0m     \u001b[38;5;28;01melse\u001b[39;00m:\n\u001b[0;32m     12\u001b[0m         converted_string \u001b[38;5;241m=\u001b[39m converted_string \u001b[38;5;241m+\u001b[39m char\n",
      "\u001b[1;31mNameError\u001b[0m: name 'upper' is not defined"
     ]
    }
   ],
   "source": [
    "## This also did not work with the way I was using upper():\n",
    "\n",
    "# Create a string with t's in it to convert\n",
    "string_to_convert = 'this was a triumph. I\\'m making a note here: huge success. It\\'s hard to overstate my satisfaction. (pretend this has music)'\n",
    "converted_string = ''\n",
    "# Iterate through the string\n",
    "# Where there is a 't', it with 'T'\n",
    "for char in string_to_convert:\n",
    "    if char == 't':\n",
    "        converted_string = converted_string + upper(char)\n",
    "    else:\n",
    "        converted_string = converted_string + char\n",
    "\n",
    "# Check the changes in the string\n",
    "print(converted_string)"
   ]
  },
  {
   "cell_type": "code",
   "execution_count": 7,
   "id": "9241c946-5880-4303-9d18-0f177ab90a26",
   "metadata": {
    "tags": []
   },
   "outputs": [
    {
     "name": "stdout",
     "output_type": "stream",
     "text": [
      "This was a Triumph. I'm making a noTe here: huge success. IT's hard To oversTaTe my saTisfacTion. (preTend This has music)\n"
     ]
    }
   ],
   "source": [
    "# Create a string with t's in it to convert\n",
    "string_to_convert = 'this was a triumph. I\\'m making a note here: huge success. It\\'s hard to overstate my satisfaction. (pretend this has music)'\n",
    "converted_string = ''\n",
    "# Iterate through the string\n",
    "# Where there is a 't', it with 'T'\n",
    "for char in string_to_convert:\n",
    "    if char == 't':\n",
    "        converted_string = converted_string + char.upper()\n",
    "    else:\n",
    "        converted_string = converted_string + char\n",
    "\n",
    "# Check the changes in the string\n",
    "print(converted_string)"
   ]
  },
  {
   "cell_type": "markdown",
   "id": "30983a8c-2a22-48a7-bf20-618c40aac320",
   "metadata": {},
   "source": [
    "### Algorithm Workbench: Problem 8 (Slice a String)\n",
    "\n",
    "**Question:** Assume mystring references a string. Write a statement that uses a slicing expression and displays the first 3 characters in the string.\n",
    "\n",
    "------------------------------------------------------------------------------------------------------------ \n",
    "**Overview:** This question requires the programmer to get only the first three chars in a string and output them. I will do this by slicing and assigning the substring to a different variable, then printing it. "
   ]
  },
  {
   "cell_type": "code",
   "execution_count": 8,
   "id": "798e0d0d-625e-4eda-87dc-1ce0df9cb5d0",
   "metadata": {
    "tags": []
   },
   "outputs": [
    {
     "name": "stdout",
     "output_type": "stream",
     "text": [
      "i\n"
     ]
    }
   ],
   "source": [
    "# Create the string to be sliced\n",
    "my_string = 'Going to chop up this string.'\n",
    "\n",
    "# Slice the string and assign it to a new variable\n",
    "# This will get the first 3 characters in the string because 0 is the starting index and 2 is the index\n",
    "# of the third character.\n",
    "sub_string = my_string[2]   # I forgot the : \n",
    "\n",
    "# Output sub_string\n",
    "print(sub_string)"
   ]
  },
  {
   "cell_type": "code",
   "execution_count": 9,
   "id": "dd32e818-4088-4a89-8a8f-930764281122",
   "metadata": {
    "tags": []
   },
   "outputs": [
    {
     "name": "stdout",
     "output_type": "stream",
     "text": [
      "Go\n"
     ]
    }
   ],
   "source": [
    "# That way^ did not work correctly because I did not include the : in the splicer\n",
    "\n",
    "# Create the string to be sliced\n",
    "my_string = 'Going to chop up this string.'\n",
    "\n",
    "# Slice the string and assign it to a new variable\n",
    "# This will get the first 3 characters in the string because 0 is the starting index and 2 is the index\n",
    "# of the third character.\n",
    "sub_string = my_string[0:2]  # I included the zero this time for clarity. Also, I should read better because \n",
    "                             # the ending index is not inclusive in the slicer.\n",
    "\n",
    "# Output sub_string\n",
    "print(sub_string)"
   ]
  },
  {
   "cell_type": "code",
   "execution_count": 10,
   "id": "a091e7e1-63f6-4087-a633-e671d75da19a",
   "metadata": {
    "tags": []
   },
   "outputs": [
    {
     "name": "stdout",
     "output_type": "stream",
     "text": [
      "Goi\n"
     ]
    }
   ],
   "source": [
    "# Third time's the charm?\n",
    "\n",
    "# Create the string to be sliced\n",
    "my_string = 'Going to chop up this string.'\n",
    "\n",
    "# Slice the string and assign it to a new variable\n",
    "# This will get the first 3 characters in the string because 0 is the starting index and 2 is the index\n",
    "# of the third character.\n",
    "sub_string = my_string[0:3]  # Should be correct now\n",
    "\n",
    "# Output sub_string\n",
    "print(sub_string)"
   ]
  },
  {
   "cell_type": "markdown",
   "id": "af48cb0d-750d-471a-9b31-13625a5335a2",
   "metadata": {},
   "source": [
    "### Programming Exercises: Problem 1 (Initials)\n",
    "\n",
    "**Question:** Write a program that gets a string containing a person’s first, middle, and last names, and displays their first, middle, and last initials. For example, if the user enters John William Smith, the program should display J. W. S.\n",
    "\n",
    "------------------------------------------------------------------------------------------------------------ \n",
    "**Overview:** This question requires the programmer to get 3 inputs from the user. The program will need to get the first char from each input, such as using indexing or slicing, and then concatenate those chars with periods in a new variable. The program must then output the initials."
   ]
  },
  {
   "cell_type": "code",
   "execution_count": 12,
   "id": "f7dbf4d7-c880-4c72-8355-ce6a607649b0",
   "metadata": {
    "tags": []
   },
   "outputs": [
    {
     "name": "stdin",
     "output_type": "stream",
     "text": [
      "What is the first name?:  Fluffy\n",
      "What is the middle name?:  The\n",
      "What is the last name?:  Cat\n"
     ]
    },
    {
     "name": "stdout",
     "output_type": "stream",
     "text": [
      "The initials are: F.T.C.\n"
     ]
    }
   ],
   "source": [
    "# Get three user inputs\n",
    "first_name = input('What is the first name?: ')\n",
    "middle_name = input('What is the middle name?: ')\n",
    "last_name = input('What is the last name?: ')\n",
    "\n",
    "# Take the first char from each name\n",
    "first_initial = first_name[0]\n",
    "middle_initial = middle_name[0]\n",
    "last_initial = last_name[0]\n",
    "\n",
    "# Output the three initials\n",
    "print(f'The initials are: {first_initial}.{middle_initial}.{last_initial}.')"
   ]
  },
  {
   "cell_type": "markdown",
   "id": "fb322556-a380-413b-867c-0851fe1da77f",
   "metadata": {},
   "source": [
    "### Programming Exercises: Problem 2 (Sum of Digits)\n",
    "\n",
    "**Question:** Write a program that asks the user to enter a series of single-digit numbers with nothing separating them. The program should display the sum of all the single digit numbers in the string. For example, if the user enters 2514, the method should return 12, which is the sum of 2, 5, 1, and 4.\n",
    "\n",
    "------------------------------------------------------------------------------------------------------------ \n",
    "**Overview:** This question requires the programmer to get string input from the user and convert it to integers so the numbers can be added. The program will need to output the sum of the number entered by the user. I will try iterating through the string and converting each digit as it is copied to a list. I will then iterate through the list to add all the numbers together before printing them."
   ]
  },
  {
   "cell_type": "code",
   "execution_count": null,
   "id": "f4d2a2ff-8755-4582-bf64-2bf5b4235362",
   "metadata": {},
   "outputs": [],
   "source": [
    "# Get numbers from the user\n",
    "user_string = input('Enter a multi-digit number: ')\n",
    "\n",
    "# Make an empty list to append numbers to\n",
    "num_list = []\n",
    "\n",
    "# Check whether the user_string contains the correct type of input\n",
    "if user_string.isdigit():\n",
    "    \n",
    "    # If true, convert each number in the string into the int type\n",
    "    # Add each int to the list\n",
    "    for char in user_string:\n",
    "        num = int(char)\n",
    "        num_list.append(num)\n",
    "        \n",
    "    print(num_list)  # Test whether the list was populated correctly\n",
    "        \n",
    "else:\n",
    "    print('The number was not entered correctly.')\n",
    "\n",
    "\n",
    "\n"
   ]
  },
  {
   "cell_type": "markdown",
   "id": "839ab23c-e413-4073-a30f-9799f749e0db",
   "metadata": {},
   "source": [
    "### Programming Exercises: Problem 3 (Date Converter)\n",
    "\n",
    "**Question:** Write a program that reads a string from the user containing a date in the form mm/dd/yyyy. It should print the date in the format March 12, 2018.\n",
    "\n",
    "------------------------------------------------------------------------------------------------------------ \n",
    "**Overview:** This question requires the programmer to get string input from the user and split the input apart based on the / character. The mm segment will need to be compared to a set of months to locate the matching month and add it to a new string variable. The dd segment will need any leading zeroes stripped off and the remaining number(s) will be added to the new string along with a comma. The yyyy segment can be added to the new string as-is. Finally, the result must be displayed using the print() function."
   ]
  },
  {
   "cell_type": "markdown",
   "id": "a02f7e33-c338-4abf-9aee-7ad4ea0bd0e9",
   "metadata": {},
   "source": [
    "### Programming Exercises: Problem 4 (Morse Code Converter)\n",
    "\n",
    "**Question:** Morse code is a code where each letter of the English alphabet, each digit, and various punctuation characters are represented by a series of dots and dashes. Table 8-4 shows part of the code. Write a program that asks the user to enter a string, then converts that string to Morse code.\n",
    "\n",
    "------------------------------------------------------------------------------------------------------------ \n",
    "**Overview:** This question requires the programmer to iterate over a string, identify specific characters, and add each Morse code equivalent to another string. The new string should be output so the result can be viewed. I am aware that Python has a data structure called a dictionary and I will try using one here to hold the character / Morse code pairs."
   ]
  },
  {
   "cell_type": "code",
   "execution_count": null,
   "id": "cb68292e-2557-4fc9-aa68-6a06051c2b3c",
   "metadata": {},
   "outputs": [],
   "source": []
  }
 ],
 "metadata": {
  "kernelspec": {
   "display_name": "Python 3 (ipykernel)",
   "language": "python",
   "name": "python3"
  },
  "language_info": {
   "codemirror_mode": {
    "name": "ipython",
    "version": 3
   },
   "file_extension": ".py",
   "mimetype": "text/x-python",
   "name": "python",
   "nbconvert_exporter": "python",
   "pygments_lexer": "ipython3",
   "version": "3.11.5"
  }
 },
 "nbformat": 4,
 "nbformat_minor": 5
}
