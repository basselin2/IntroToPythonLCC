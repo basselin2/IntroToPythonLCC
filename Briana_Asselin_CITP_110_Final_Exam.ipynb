{
 "cells": [
  {
   "cell_type": "markdown",
   "id": "68c58614-2ded-4c2d-a692-e41d19b438de",
   "metadata": {},
   "source": [
    "# Final Exam Practical\n",
    "(Starting Out With Python 5th Edition)\n",
    "\n",
    "Briana Asselin"
   ]
  },
  {
   "cell_type": "code",
   "execution_count": null,
   "id": "efc4df1a-143e-4973-bbca-1f6db9b3b4c4",
   "metadata": {},
   "outputs": [],
   "source": []
  }
 ],
 "metadata": {
  "kernelspec": {
   "display_name": "Python 3 (ipykernel)",
   "language": "python",
   "name": "python3"
  },
  "language_info": {
   "codemirror_mode": {
    "name": "ipython",
    "version": 3
   },
   "file_extension": ".py",
   "mimetype": "text/x-python",
   "name": "python",
   "nbconvert_exporter": "python",
   "pygments_lexer": "ipython3",
   "version": "3.11.5"
  }
 },
 "nbformat": 4,
 "nbformat_minor": 5
}
