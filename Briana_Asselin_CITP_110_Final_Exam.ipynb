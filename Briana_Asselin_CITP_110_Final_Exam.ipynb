{
 "cells": [
  {
   "cell_type": "markdown",
   "id": "68c58614-2ded-4c2d-a692-e41d19b438de",
   "metadata": {},
   "source": [
    "# Final Exam Practical\n",
    "(Starting Out With Python 5th Edition)\n",
    "\n",
    "Briana Asselin"
   ]
  },
  {
   "cell_type": "markdown",
   "id": "f42fb4f3-626b-49a1-ad05-3e408e25a52b",
   "metadata": {},
   "source": [
    "### Question 1: \n",
    "\n",
    "Please paste the following line of Python code in your coding environment:\n",
    "greeting = \"  Hello, little people of Earth!      \"\n",
    "\n",
    "Perform the following operations using a combination of Python functions, string methods, and math capabilities.\n",
    "\n",
    "    - Determine the length of the string.\n",
    "    - Determine if this length is evenly divisible by 5.\n",
    "    - Create and store a new version of the string in a newly named variable that removes any spaces at the end or the beginning of the string.\n",
    "    - Using the string you created in step 2, store the first 5 characters of the string in a new variable.\n",
    "    - Using the string you created in step 4, append 59 'o' characters to the string and print out the result."
   ]
  },
  {
   "cell_type": "code",
   "execution_count": 31,
   "id": "0ace48f6-4de7-4711-93a2-3387cb6882a7",
   "metadata": {
    "tags": []
   },
   "outputs": [
    {
     "name": "stdout",
     "output_type": "stream",
     "text": [
      "Helloooooooooooooooooooooooooooooooooooooooooooooooooooooooooooo\n",
      "64\n"
     ]
    }
   ],
   "source": [
    "# Begin with this string\n",
    "greeting = \"  Hello, little people of Earth!      \"\n",
    "\n",
    "# 1. Determine the length of the string.\n",
    "greeting_length = len(greeting)\n",
    "\n",
    "# 2. Determine if this length is evenly divisible by 5.\n",
    "remainder = greeting_length % 5\n",
    "\n",
    "# 3. Create and store a new version of the string in a newly named variable that removes any spaces at the end or the beginning of the string.\n",
    "shorter_greeting = greeting.lstrip()\n",
    "\n",
    "# 4. Using the string you created in step 3, store the first 5 characters of the string in a new variable.\n",
    "five_chars = shorter_greeting[0:5]\n",
    "\n",
    "# 5. Using the string you created in step 4, append 59 'o' characters to the string and print out the result.\n",
    "append_string = 'o' * 59\n",
    "print(five_chars + append_string)\n",
    "\n",
    "# Used for testing length of appended string: \n",
    "len_check = len(five_chars + append_string)\n",
    "print(len_check)"
   ]
  },
  {
   "cell_type": "markdown",
   "id": "1a870221-b70e-4452-ae29-bcdb33923df4",
   "metadata": {},
   "source": [
    "### Question 2:\n",
    "\n",
    "Please define a function named super_duper that accepts a number and then returns one of the following values:\n",
    "\n",
    "    - The function returns \"super\" if the number is evenly divisible by 3.\n",
    "    - The function returns \"duper\" if the number is evenly divisible by 7.\n",
    "    - The function returns \"superduper\" if the number is evenly divisible by 3 and 7.\n",
    "    - The function returns the number it was originally passed if the number is not divisible by either 3 or 7.\n",
    "    - Finally, please define a main function that loops through numbers 51 through 99 (inclusive) as inputs to the super_duper function and prints each of the results. Your instructor will call this main method to test your solution."
   ]
  },
  {
   "cell_type": "code",
   "execution_count": 52,
   "id": "db7527a4-a19e-4471-b81c-bc6ee04d9846",
   "metadata": {
    "tags": []
   },
   "outputs": [
    {
     "name": "stdout",
     "output_type": "stream",
     "text": [
      "super\n",
      "52\n",
      "53\n",
      "super\n",
      "55\n",
      "duper\n",
      "super\n",
      "58\n",
      "59\n",
      "super\n",
      "61\n",
      "62\n",
      "superduper\n",
      "64\n",
      "65\n",
      "super\n",
      "67\n",
      "68\n",
      "super\n",
      "duper\n",
      "71\n",
      "super\n",
      "73\n",
      "74\n",
      "super\n",
      "76\n",
      "duper\n",
      "super\n",
      "79\n",
      "80\n",
      "super\n",
      "82\n",
      "83\n",
      "superduper\n",
      "85\n",
      "86\n",
      "super\n",
      "88\n",
      "89\n",
      "super\n",
      "duper\n",
      "92\n",
      "super\n",
      "94\n",
      "95\n",
      "super\n",
      "97\n",
      "duper\n",
      "super\n"
     ]
    }
   ],
   "source": [
    "# Definition of main() method\n",
    "def main():\n",
    "    for i in range(51, 100):\n",
    "        print(super_duper(i))\n",
    "\n",
    "\n",
    "def super_duper(some_number):\n",
    "    \n",
    "    # Return \"superduper\" if the number is evenly divisible by 3 and 7.\n",
    "    if (some_number % 3 == 0 and some_number % 7 == 0):\n",
    "        return 'superduper'\n",
    "   \n",
    "    # Return \"duper\" if the number is evenly divisible by 7.\n",
    "    elif (some_number % 7 == 0):\n",
    "        return 'duper'\n",
    "    \n",
    "    # Return \"super\" if the number is evenly divisible by 3.\n",
    "    elif (some_number % 3 == 0):\n",
    "        return 'super'\n",
    "    \n",
    "    # Return the original value if none of the other conditions are met\n",
    "    else:\n",
    "        return some_number\n",
    "\n",
    "    \n",
    "# Call main()\n",
    "if __name__ == '__main__':\n",
    "    main()"
   ]
  },
  {
   "cell_type": "code",
   "execution_count": 44,
   "id": "8cc42fc0-d32b-426b-b5f7-45685651ae1b",
   "metadata": {
    "tags": []
   },
   "outputs": [
    {
     "name": "stdout",
     "output_type": "stream",
     "text": [
      "True\n"
     ]
    }
   ],
   "source": [
    "val = 21\n",
    "\n",
    "if (val % 3 == 0 and val % 7 == 0):\n",
    "    print('True')\n",
    "else:\n",
    "    print('False')"
   ]
  },
  {
   "cell_type": "markdown",
   "id": "78eea2ba-6de5-4931-a27d-8bfb3c20d38d",
   "metadata": {},
   "source": [
    "### Question 3:"
   ]
  },
  {
   "cell_type": "markdown",
   "id": "024bdd3f-130c-4914-afaa-917490398c24",
   "metadata": {},
   "source": [
    "Please create two classes that implement all of the names, data attributes, and methods reflected in the following UML diagram. These classes will be used within an inventory management system for ACME Eyewear.\n",
    "\n",
    "The __str__() method in both classes should create a reasonable string representation for use in calls to the Python print() function."
   ]
  },
  {
   "cell_type": "code",
   "execution_count": 55,
   "id": "e2180743-1072-49df-a501-ee60d9d8b7de",
   "metadata": {
    "tags": []
   },
   "outputs": [],
   "source": [
    "# This class holds information on glasses types\n",
    "class Glasses:\n",
    "    \n",
    "    # Initialize the attributes\n",
    "    def __init__(self, color, price, prescription):\n",
    "        self.__price = price\n",
    "        self.__prescription = prescription\n",
    "    \n",
    "    # Set and get the price\n",
    "    def set_price(self, price):\n",
    "        self.__price = price\n",
    "        \n",
    "    def get_price(self):\n",
    "        return self.__price\n",
    "    \n",
    "    # Set and get the glasses prescription\n",
    "    def set_prescription(self, prescription):\n",
    "        self.__prescription = prescription\n",
    "        \n",
    "    def get_prescription(self):\n",
    "        return self.__prescription\n",
    "    \n",
    "    # __str__() method to be used by the print() function\n",
    "    def __str__(self):\n",
    "        return f'Color: {self.__color}\\nPrice: {self.__price}\\nPrescription: {self.__prescription}'\n",
    "    \n",
    "    \n",
    "# This class holds information on the Bifocals subclass of the Glasses class\n",
    "class Bifocals(Glasses):\n",
    "    # Initialize the attributes\n",
    "    def __init__(self, color, price, prescription, reading_script):\n",
    "        super().__init__(color, price, prescription)\n",
    "        self.__reading_script = reading_script\n",
    "        \n",
    "   # Set and get the reading prescription\n",
    "    def set_reading_script(self, reading_script):\n",
    "        self.__reading_script = reading_script\n",
    "        \n",
    "    def get_reading_script(self):\n",
    "        return self.__reading_script\n",
    "    \n",
    "    def __str__(self):\n",
    "        return f'Color: {self.__color}\\nPrice: {self.__price}\\nPrescription: {self.__prescription}\\nReading Prescription: {self.__reading_script}'"
   ]
  },
  {
   "cell_type": "code",
   "execution_count": null,
   "id": "e3eaadb6-8443-4b1b-8359-ec2c90d7bf9d",
   "metadata": {},
   "outputs": [],
   "source": []
  }
 ],
 "metadata": {
  "kernelspec": {
   "display_name": "Python 3 (ipykernel)",
   "language": "python",
   "name": "python3"
  },
  "language_info": {
   "codemirror_mode": {
    "name": "ipython",
    "version": 3
   },
   "file_extension": ".py",
   "mimetype": "text/x-python",
   "name": "python",
   "nbconvert_exporter": "python",
   "pygments_lexer": "ipython3",
   "version": "3.11.5"
  }
 },
 "nbformat": 4,
 "nbformat_minor": 5
}
