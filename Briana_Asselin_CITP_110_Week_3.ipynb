{
 "cells": [
  {
   "cell_type": "markdown",
   "id": "6999159d-4451-438f-8fbb-82affdf9c04e",
   "metadata": {},
   "source": [
    "# Ch.3 Coding Set \n",
    "(Starting Out With Python 5th Edition)\n",
    "\n",
    "Briana Asselin"
   ]
  },
  {
   "cell_type": "markdown",
   "id": "f35b76a3-954d-48c9-b8c2-ceff15ec4a55",
   "metadata": {},
   "source": [
    "### Algorithm Workbench: Problem 4 (Align If-Then Statements)\n",
    "\n",
    "**Question:** The following code contains several nested  statements. Unfortunately, it was written without proper alignment and indentation. Rewrite the code and use the proper conventions of alignment and indentation.\n",
    "            \n",
    "if score >= A_score:\\\n",
    "print('Your grade is A.')\\\n",
    "else:\\\n",
    "if score >= B_score:\\\n",
    "print('Your grade is B.')\\\n",
    "else:\\\n",
    "if score >= C_score:\\\n",
    "print('Your grade is C.')\\\n",
    "else:\\\n",
    "if score >= D_score:\\\n",
    "print('Your grade is D.')\\\n",
    "else:\\\n",
    "if score >= F_score:\\\n",
    "print('Your grade is F.')\n",
    "\n",
    "------------------------------------------------------------------------------------------------------------ \n",
    "**Overview:** Python if-then statements will have errors if they are not indented in a certain way. This question asks the programmer to correctly indent the code provided above. This code will not run without variable assignments, so the indentation will be done in a markdown cell. \n",
    "**REVISED:** Markdown didn't keep the indents. Will switch to coding cell even though it will error."
   ]
  },
  {
   "cell_type": "code",
   "execution_count": 1,
   "id": "3e765e2d-2657-4baa-b68e-c176dfadf842",
   "metadata": {
    "tags": []
   },
   "outputs": [
    {
     "ename": "NameError",
     "evalue": "name 'score' is not defined",
     "output_type": "error",
     "traceback": [
      "\u001b[1;31m---------------------------------------------------------------------------\u001b[0m",
      "\u001b[1;31mNameError\u001b[0m                                 Traceback (most recent call last)",
      "Cell \u001b[1;32mIn[1], line 1\u001b[0m\n\u001b[1;32m----> 1\u001b[0m \u001b[38;5;28;01mif\u001b[39;00m score \u001b[38;5;241m>\u001b[39m\u001b[38;5;241m=\u001b[39m A_score:\n\u001b[0;32m      2\u001b[0m     \u001b[38;5;28mprint\u001b[39m(\u001b[38;5;124m'\u001b[39m\u001b[38;5;124mYour grade is A.\u001b[39m\u001b[38;5;124m'\u001b[39m)\n\u001b[0;32m      3\u001b[0m \u001b[38;5;28;01melse\u001b[39;00m:\n",
      "\u001b[1;31mNameError\u001b[0m: name 'score' is not defined"
     ]
    }
   ],
   "source": [
    "if score >= A_score:\n",
    "    print('Your grade is A.')\n",
    "else:\n",
    "    if score >= B_score:\n",
    "        print('Your grade is B.')\n",
    "    else:\n",
    "        if score >= C_score:\n",
    "            print('Your grade is C.')\n",
    "        else:\n",
    "            if score >= D_score:\n",
    "                print('Your grade is D.')\n",
    "            else:\n",
    "                if score >= F_score:\n",
    "                    print('Your grade is F.')"
   ]
  },
  {
   "cell_type": "code",
   "execution_count": null,
   "id": "009f967f-f24f-4b1a-9acf-70900babf814",
   "metadata": {},
   "outputs": [],
   "source": []
  }
 ],
 "metadata": {
  "kernelspec": {
   "display_name": "Python 3 (ipykernel)",
   "language": "python",
   "name": "python3"
  },
  "language_info": {
   "codemirror_mode": {
    "name": "ipython",
    "version": 3
   },
   "file_extension": ".py",
   "mimetype": "text/x-python",
   "name": "python",
   "nbconvert_exporter": "python",
   "pygments_lexer": "ipython3",
   "version": "3.11.5"
  }
 },
 "nbformat": 4,
 "nbformat_minor": 5
}
