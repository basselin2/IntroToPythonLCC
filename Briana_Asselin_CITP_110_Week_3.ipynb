{
 "cells": [
  {
   "cell_type": "markdown",
   "id": "6999159d-4451-438f-8fbb-82affdf9c04e",
   "metadata": {},
   "source": [
    "# Ch.3 Coding Set \n",
    "(Starting Out With Python 5th Edition)\n",
    "\n",
    "Briana Asselin"
   ]
  },
  {
   "cell_type": "markdown",
   "id": "f35b76a3-954d-48c9-b8c2-ceff15ec4a55",
   "metadata": {},
   "source": [
    "### Algorithm Workbench: Problem 4 (Align If-Then Statements)\n",
    "\n",
    "**Question:** The following code contains several nested  statements. Unfortunately, it was written without proper alignment and indentation. Rewrite the code and use the proper conventions of alignment and indentation.\n",
    "            \n",
    "if score >= A_score:\\\n",
    "print('Your grade is A.')\\\n",
    "else:\\\n",
    "if score >= B_score:\\\n",
    "print('Your grade is B.')\\\n",
    "else:\\\n",
    "if score >= C_score:\\\n",
    "print('Your grade is C.')\\\n",
    "else:\\\n",
    "if score >= D_score:\\\n",
    "print('Your grade is D.')\\\n",
    "else:\\\n",
    "if score >= F_score:\\\n",
    "print('Your grade is F.')\n",
    "\n",
    "------------------------------------------------------------------------------------------------------------ \n",
    "**Overview:** Python if-then statements will have errors if they are not indented in a certain way. This question asks the programmer to correctly indent the code provided above. This code will not run without variable assignments, so the indentation will be done in a markdown cell. \n",
    "**REVISED:** Markdown didn't keep the indents. Will switch to coding cell even though it will error."
   ]
  },
  {
   "cell_type": "code",
   "execution_count": 1,
   "id": "3e765e2d-2657-4baa-b68e-c176dfadf842",
   "metadata": {
    "tags": []
   },
   "outputs": [
    {
     "ename": "NameError",
     "evalue": "name 'score' is not defined",
     "output_type": "error",
     "traceback": [
      "\u001b[1;31m---------------------------------------------------------------------------\u001b[0m",
      "\u001b[1;31mNameError\u001b[0m                                 Traceback (most recent call last)",
      "Cell \u001b[1;32mIn[1], line 5\u001b[0m\n\u001b[0;32m      1\u001b[0m \u001b[38;5;66;03m# Adding comments:\u001b[39;00m\n\u001b[0;32m      2\u001b[0m \u001b[38;5;66;03m# If-else statements need to be vertically aligned to count as part of the same loop.\u001b[39;00m\n\u001b[0;32m      3\u001b[0m \u001b[38;5;66;03m# The statements that will be carried out by an if (or an else) must be indented once inside the parent statement.\u001b[39;00m\n\u001b[0;32m      4\u001b[0m \u001b[38;5;66;03m# Nested if-else statements can result in a large number of indents.\u001b[39;00m\n\u001b[1;32m----> 5\u001b[0m \u001b[38;5;28;01mif\u001b[39;00m score \u001b[38;5;241m>\u001b[39m\u001b[38;5;241m=\u001b[39m A_score:\n\u001b[0;32m      6\u001b[0m     \u001b[38;5;28mprint\u001b[39m(\u001b[38;5;124m'\u001b[39m\u001b[38;5;124mYour grade is A.\u001b[39m\u001b[38;5;124m'\u001b[39m)\n\u001b[0;32m      7\u001b[0m \u001b[38;5;28;01melse\u001b[39;00m:\n",
      "\u001b[1;31mNameError\u001b[0m: name 'score' is not defined"
     ]
    }
   ],
   "source": [
    "# Adding comments:\n",
    "# If-else statements need to be vertically aligned to count as part of the same loop.\n",
    "# The statements that will be carried out by an if (or an else) must be indented once inside the parent statement.\n",
    "# Nested if-else statements can result in a large number of indents.\n",
    "if score >= A_score:\n",
    "    print('Your grade is A.')\n",
    "else:\n",
    "    if score >= B_score:\n",
    "        print('Your grade is B.')\n",
    "    else:\n",
    "        if score >= C_score:\n",
    "            print('Your grade is C.')\n",
    "        else:\n",
    "            if score >= D_score:\n",
    "                print('Your grade is D.')\n",
    "            else:\n",
    "                if score >= F_score:\n",
    "                    print('Your grade is F.')"
   ]
  },
  {
   "cell_type": "markdown",
   "id": "2e9b2227-b692-4492-bfed-6cf174b5885b",
   "metadata": {},
   "source": [
    "### Algorithm Workbench: Problem 5 (Write Nested Statements)\n",
    "\n",
    "**Question:** Write nested decision structures that perform the following: If amount1 is greater than 10 and amount2 is less than 100, display the greater of amount1 and amount2.\n",
    "\n",
    "------------------------------------------------------------------------------------------------------------ \n",
    "**Overview:** This question asks the programmer to write structures that will compare two values and print the larger of the two. This can be accomplished using nested if-else statements. I will assign the variables multiple times to test whether the code is working as intended. **Note that this problem says \"AND\", which means both values must meet the requirements in order for the larger value to be printed.** "
   ]
  },
  {
   "cell_type": "code",
   "execution_count": null,
   "id": "0d24aeda-2937-4601-8d2a-e75b8f5c4f61",
   "metadata": {
    "tags": []
   },
   "outputs": [],
   "source": [
    "# The max() function can be used to determine the larger of two values and will be used here.\n",
    "# https://www.w3schools.com/python/ref_func_max.asp\n",
    "\n",
    "# Initialize the variable that will hold the higher value as a global variable \n",
    "# so it can be used by all methods in this file.\n",
    "maxVar = 0\n",
    "\n",
    "# First variable assignment\n",
    "amount1 = 4\n",
    "amount2 = 15\n",
    "\n",
    "# Write the nested if statements and the print statement\n",
    "# Assign the larger value if applicable\n",
    "if amount1 > 10:\n",
    "    if amount2 < 100:\n",
    "        maxVar = max(amount1, amount2)\n",
    "        print(f'The larger value is {maxVar}.')\n",
    "    else:\n",
    "        print('amount2 is too high.')\n",
    "else:\n",
    "    print('amount1 is too low.')\n",
    "    \n",
    "    \n",
    "# Second variable assignment\n",
    "amount1 = 29\n",
    "amount2 = 7\n",
    "\n",
    "# Write the nested if statements and the print statement\n",
    "# Assign the larger value if applicable\n",
    "if amount1 > 10:\n",
    "    if amount2 < 100:\n",
    "        maxVar = max(amount1, amount2)\n",
    "        print(f'The larger value is {maxVar}.')\n",
    "    else:\n",
    "        print('amount2 is too high.')\n",
    "else:\n",
    "    print('amount1 is too low.')\n",
    "    \n",
    "    \n",
    "# Third variable assignment\n",
    "amount1 = 29\n",
    "amount2 = 700\n",
    "\n",
    "# Write the nested if statements and the print statement\n",
    "# Assign the larger value if applicable\n",
    "if amount1 > 10:\n",
    "    if amount2 < 100:\n",
    "        maxVar = max(amount1, amount2)\n",
    "        print(f'The larger value is {maxVar}.')\n",
    "    else:\n",
    "        print('amount2 is too high.')\n",
    "else:\n",
    "    print('amount1 is too low.')"
   ]
  },
  {
   "cell_type": "markdown",
   "id": "77317fa9-a87b-4753-b2dd-9f4a9bfb2caa",
   "metadata": {},
   "source": [
    "### Programming Exercises: Problem 1 (Day of the Week)\n",
    "\n",
    "**Question:** Write a program that asks the user for a number in the range of 1 through 7. The program should display the corresponding day of the week, where 1 = Monday, 2 = Tuesday, 3 = Wednesday, 4 = Thursday, 5 = Friday, 6 = Saturday, and 7 = Sunday. The program should display an error message if the user enters a number that is outside the range of 1 through 7.\n",
    " \n",
    "------------------------------------------------------------------------------------------------------------ \n",
    "**Overview:** This question asks the programmer to assign variables, take in user input, and output a result based on the input. The code must verify that the user has provided a correct input. Normally I would add additional error handling to ensure the user's input is an int since Python can reassign variable types, but we haven't learned how to do that yet."
   ]
  },
  {
   "cell_type": "code",
   "execution_count": 4,
   "id": "1d858aaa-c521-456d-81d5-c625487005c4",
   "metadata": {
    "tags": []
   },
   "outputs": [
    {
     "ename": "SyntaxError",
     "evalue": "expected ':' (1883965177.py, line 11)",
     "output_type": "error",
     "traceback": [
      "\u001b[1;36m  Cell \u001b[1;32mIn[4], line 11\u001b[1;36m\u001b[0m\n\u001b[1;33m    else if: user_input == 1\u001b[0m\n\u001b[1;37m         ^\u001b[0m\n\u001b[1;31mSyntaxError\u001b[0m\u001b[1;31m:\u001b[0m expected ':'\n"
     ]
    }
   ],
   "source": [
    "# Get a number from the user in the 1-7 range)\n",
    "user_input= int(input('Enter a number between 1-7: '))\n",
    "\n",
    "# Check the user's input against the 1-7 range.\n",
    "# If the user did not enter a correct input, ask for a new input.\n",
    "if user_input < 1 or user_input > 7:\n",
    "    print('Incorrect input.')\n",
    "    user_input= int(input('Enter a number between 1-7: '))\n",
    "    \n",
    "# I am using else-if statement here instead of nesting many ifs.\n",
    "else if: user_input == 1\n",
    "    print('Monday')\n",
    "else if: user_input == 2\n",
    "    print('Tuesday')\n",
    "else if: user_input == 3\n",
    "    print('Wednesday')\n",
    "else if: user_input == 4\n",
    "    print('Thursday')\n",
    "else if: user_input == 5\n",
    "    print('Friday')\n",
    "else if: user_input == 6\n",
    "    print('Saturday')\n",
    "else if: user_input == 7\n",
    "    print('Sunday')\n",
    "\n",
    "#This loop technically doesn't need an else due to the error handling above,\n",
    "# but computers make mistakes sometimes.\n",
    "else:\n",
    "    print('I don\\'t know how you got here...')"
   ]
  },
  {
   "cell_type": "code",
   "execution_count": 5,
   "id": "b7cad5ff-fa7b-4881-93a0-ed51f6f33904",
   "metadata": {
    "tags": []
   },
   "outputs": [
    {
     "name": "stdin",
     "output_type": "stream",
     "text": [
      "Enter a number between 1-7:  9\n"
     ]
    },
    {
     "name": "stdout",
     "output_type": "stream",
     "text": [
      "Incorrect input.\n"
     ]
    },
    {
     "name": "stdin",
     "output_type": "stream",
     "text": [
      "Enter a number between 1-7:  -1\n"
     ]
    }
   ],
   "source": [
    "# NOTE: Here is one way to run into trouble when programming!\n",
    "# Other languages such as C# use \"else if\", while Python uses \"elif\".\n",
    "# The interpreter recognizes \"else if\" as keywords, \n",
    "# so I did not initially realize that I wrote the elif wrong.\n",
    "# Fixed it below!\n",
    "\n",
    "# Get a number from the user in the 1-7 range)\n",
    "user_input= int(input('Enter a number between 1-7: '))\n",
    "\n",
    "# Check the user's input against the 1-7 range.\n",
    "# If the user did not enter a correct input, ask for a new input.\n",
    "if user_input < 1 or user_input > 7:\n",
    "    print('Incorrect input.')\n",
    "    user_input= int(input('Enter a number between 1-7: '))\n",
    "    \n",
    "# I am using else-if statement here instead of nesting many ifs.\n",
    "elif user_input == 1:\n",
    "    print('Monday')\n",
    "elif user_input == 2:\n",
    "    print('Tuesday')\n",
    "elif user_input == 3:\n",
    "    print('Wednesday')\n",
    "elif user_input == 4:\n",
    "    print('Thursday')\n",
    "elif user_input == 5:\n",
    "    print('Friday')\n",
    "elif user_input == 6:\n",
    "    print('Saturday')\n",
    "elif user_input == 7:\n",
    "    print('Sunday')\n",
    "\n",
    "#This loop technically doesn't need an else due to the error handling above,\n",
    "# but computers make mistakes sometimes.\n",
    "else:\n",
    "    print('I don\\'t know how you got here...')"
   ]
  },
  {
   "cell_type": "code",
   "execution_count": 7,
   "id": "4c659981-c9b5-4635-89ff-ca58780b9685",
   "metadata": {
    "tags": []
   },
   "outputs": [
    {
     "name": "stdin",
     "output_type": "stream",
     "text": [
      "Enter a number between 1-7:  11\n"
     ]
    },
    {
     "name": "stdout",
     "output_type": "stream",
     "text": [
      "Incorrect input.\n"
     ]
    },
    {
     "name": "stdin",
     "output_type": "stream",
     "text": [
      "Enter a number between 1-7:  4\n"
     ]
    }
   ],
   "source": [
    "# The interpreter got confused when I tried to enter a negative number.\n",
    "# I don't know how Python handles those so I'm ignoring it for now.\n",
    "\n",
    "# Get a number from the user in the 1-7 range)\n",
    "user_input= int(input('Enter a number between 1-7: '))\n",
    "\n",
    "# Check the user's input against the 1-7 range.\n",
    "# If the user did not enter a correct input, ask for a new input.\n",
    "if user_input < 1 or user_input > 7:\n",
    "    print('Incorrect input.')\n",
    "    user_input= int(input('Enter a number between 1-7: '))\n",
    "    \n",
    "# I am using else-if statement here instead of nesting many ifs.\n",
    "elif user_input == 1:\n",
    "    print('Monday')\n",
    "elif user_input == 2:\n",
    "    print('Tuesday')\n",
    "elif user_input == 3:\n",
    "    print('Wednesday')\n",
    "elif user_input == 4:\n",
    "    print('Thursday')\n",
    "elif user_input == 5:\n",
    "    print('Friday')\n",
    "elif user_input == 6:\n",
    "    print('Saturday')\n",
    "elif user_input == 7:\n",
    "    print('Sunday')\n",
    "\n",
    "#This loop technically doesn't need an else due to the error handling above,\n",
    "# but computers make mistakes sometimes.\n",
    "else:\n",
    "    print('I don\\'t know how you got here...')"
   ]
  },
  {
   "cell_type": "code",
   "execution_count": 10,
   "id": "ac90253b-3d57-4bde-9e89-0e7cdd5bf73e",
   "metadata": {
    "tags": []
   },
   "outputs": [
    {
     "name": "stdin",
     "output_type": "stream",
     "text": [
      "Enter a number between 1-7:  3\n"
     ]
    },
    {
     "name": "stdout",
     "output_type": "stream",
     "text": [
      "Wednesday\n"
     ]
    }
   ],
   "source": [
    "# There is a problem somewhere. Time to debug.\n",
    "# UPDATE: The method printed a day correctly when the second user input request was removed.\n",
    "\n",
    "# Get a number from the user in the 1-7 range)\n",
    "user_input= int(input('Enter a number between 1-7: '))\n",
    "\n",
    "# Check the user's input against the 1-7 range.\n",
    "# If the user did not enter a correct input, ask for a new input.\n",
    "if user_input < 1 or user_input > 7:\n",
    "    print('Incorrect input.')\n",
    "    # I am commenting out this line because I think it's causing the problem.\n",
    "    # user_input= int(input('Enter a number between 1-7: '))  \n",
    "    \n",
    "# I am using else-if statement here instead of nesting many ifs.\n",
    "elif user_input == 1:\n",
    "    print('Monday')\n",
    "elif user_input == 2:\n",
    "    print('Tuesday')\n",
    "elif user_input == 3:\n",
    "    print('Wednesday')\n",
    "elif user_input == 4:\n",
    "    print('Thursday')\n",
    "elif user_input == 5:\n",
    "    print('Friday')\n",
    "elif user_input == 6:\n",
    "    print('Saturday')\n",
    "elif user_input == 7:\n",
    "    print('Sunday')\n",
    "\n",
    "#This loop technically doesn't need an else due to the error handling above,\n",
    "# but computers make mistakes sometimes.\n",
    "else:\n",
    "    print('I don\\'t know how you got here...')"
   ]
  },
  {
   "cell_type": "markdown",
   "id": "58870431-9f12-4e07-b8b1-955a9a51c0eb",
   "metadata": {},
   "source": [
    "### Algorithm Workbench: Problem 3 (Assign Variables)\n",
    "\n",
    "**Question:** Scientists measure an object’s mass in kilograms and its weight in newtons. If you know the amount of mass of an object in kilograms, you can calculate its weight in newtons with the following formula:  \n",
    "\n",
    "weight (newtons) = mass (kilograms) x 9.8 m/s<sup>2</sup>\n",
    "\n",
    "(I know the problem didn't give us the units but I've had it drummed into me so much it feels weird to leave them off!) \n",
    "\n",
    "Write a program that asks the user to enter an object’s mass, then calculates its weight. If the object weighs more than 500 newtons, display a message indicating that it is too heavy. If the object weighs less than 100 newtons, display a message indicating that it is too light.\n",
    " \n",
    "------------------------------------------------------------------------------------------------------------ \n",
    "**Overview:** This question asks the programmer to get input from the user, do some math, and display different outputs depending on the results of the calculations. This is pretty straightforward since we don't need to actually mess with converting between different units. If we did, this would be a more complex problem.\n"
   ]
  },
  {
   "cell_type": "code",
   "execution_count": 11,
   "id": "21231858-1a68-4a9f-9163-10ed16b6ee6b",
   "metadata": {
    "tags": []
   },
   "outputs": [
    {
     "ename": "SyntaxError",
     "evalue": "'(' was never closed (2263915016.py, line 7)",
     "output_type": "error",
     "traceback": [
      "\u001b[1;36m  Cell \u001b[1;32mIn[11], line 7\u001b[1;36m\u001b[0m\n\u001b[1;33m    mass = float(input('Enter the mass of the object in kilograms: ')\u001b[0m\n\u001b[1;37m                ^\u001b[0m\n\u001b[1;31mSyntaxError\u001b[0m\u001b[1;31m:\u001b[0m '(' was never closed\n"
     ]
    }
   ],
   "source": [
    "# Create the variables\n",
    "GRAV_CONSTANT = 9.8\n",
    "weight = 0\n",
    "mass = 0\n",
    "\n",
    "# Get the mass from the user and convert it to a float\n",
    "mass = float(input('Enter the mass of the object in kilograms: ')\n",
    "             \n",
    "# Use the mass to do the calculation\n",
    "weight = mass * GRAV_CONSTANT\n",
    "             \n",
    "if weight < 100:\n",
    "    print('The object is too light.')\n",
    "else if weight > 500:\n",
    "    print('The object is too heavy.')\n",
    "else:\n",
    "    print('The object is just right.')"
   ]
  },
  {
   "cell_type": "code",
   "execution_count": 12,
   "id": "776f3921-7ef7-45bb-b127-dcb92b82bc8a",
   "metadata": {
    "tags": []
   },
   "outputs": [
    {
     "ename": "SyntaxError",
     "evalue": "expected ':' (1888896059.py, line 16)",
     "output_type": "error",
     "traceback": [
      "\u001b[1;36m  Cell \u001b[1;32mIn[12], line 16\u001b[1;36m\u001b[0m\n\u001b[1;33m    else if weight > 500:\u001b[0m\n\u001b[1;37m         ^\u001b[0m\n\u001b[1;31mSyntaxError\u001b[0m\u001b[1;31m:\u001b[0m expected ':'\n"
     ]
    }
   ],
   "source": [
    "# Missing parens added, trying again.\n",
    "\n",
    "# Create the variables\n",
    "GRAV_CONSTANT = 9.8\n",
    "weight = 0\n",
    "mass = 0\n",
    "\n",
    "# Get the mass from the user and convert it to a float\n",
    "mass = float(input('Enter the mass of the object in kilograms: '))\n",
    "             \n",
    "# Use the mass to do the calculation\n",
    "weight = mass * GRAV_CONSTANT\n",
    "             \n",
    "if weight < 100:\n",
    "    print('The object is too light.')\n",
    "else if weight > 500:\n",
    "    print('The object is too heavy.')\n",
    "else:\n",
    "    print('The object is just right.')"
   ]
  },
  {
   "cell_type": "code",
   "execution_count": 13,
   "id": "ade6fe11-8897-4432-bc5e-8abea332afcf",
   "metadata": {
    "tags": []
   },
   "outputs": [
    {
     "name": "stdin",
     "output_type": "stream",
     "text": [
      "Enter the mass of the object in kilograms:  99\n"
     ]
    },
    {
     "name": "stdout",
     "output_type": "stream",
     "text": [
      "The object is too heavy.\n"
     ]
    }
   ],
   "source": [
    "# I did \"else if\" instead of \"elif\" again.\n",
    "\n",
    "# Create the variables\n",
    "GRAV_CONSTANT = 9.8\n",
    "weight = 0\n",
    "mass = 0\n",
    "\n",
    "# Get the mass from the user and convert it to a float\n",
    "mass = float(input('Enter the mass of the object in kilograms: '))\n",
    "             \n",
    "# Use the mass to do the calculation\n",
    "weight = mass * GRAV_CONSTANT\n",
    "             \n",
    "if weight < 100:\n",
    "    print('The object is too light.')\n",
    "elif weight > 500:\n",
    "    print('The object is too heavy.')\n",
    "else:\n",
    "    print('The object is just right.')"
   ]
  },
  {
   "cell_type": "code",
   "execution_count": 14,
   "id": "6adfe16c-9ef6-4c9a-82c7-2d52883c2124",
   "metadata": {
    "tags": []
   },
   "outputs": [
    {
     "name": "stdin",
     "output_type": "stream",
     "text": [
      "Enter the mass of the object in kilograms:  27\n"
     ]
    },
    {
     "name": "stdout",
     "output_type": "stream",
     "text": [
      "The object is 264.6 newtons.\n",
      "The object is just right.\n"
     ]
    }
   ],
   "source": [
    "# Adding a way to see the calcuation result for testing purposes.\n",
    "\n",
    "# Create the variables\n",
    "GRAV_CONSTANT = 9.8\n",
    "weight = 0\n",
    "mass = 0\n",
    "\n",
    "# Get the mass from the user and convert it to a float\n",
    "mass = float(input('Enter the mass of the object in kilograms: '))\n",
    "             \n",
    "# Use the mass to do the calculation\n",
    "weight = mass * GRAV_CONSTANT\n",
    "print(f'The object is {weight} newtons.')\n",
    "\n",
    "if weight < 100:\n",
    "    print('The object is too light.')\n",
    "elif weight > 500:\n",
    "    print('The object is too heavy.')\n",
    "else:\n",
    "    print('The object is just right.')"
   ]
  },
  {
   "cell_type": "code",
   "execution_count": null,
   "id": "542fcb48-c1dc-45a0-9c31-a5b49eae9a6b",
   "metadata": {},
   "outputs": [],
   "source": []
  }
 ],
 "metadata": {
  "kernelspec": {
   "display_name": "Python 3 (ipykernel)",
   "language": "python",
   "name": "python3"
  },
  "language_info": {
   "codemirror_mode": {
    "name": "ipython",
    "version": 3
   },
   "file_extension": ".py",
   "mimetype": "text/x-python",
   "name": "python",
   "nbconvert_exporter": "python",
   "pygments_lexer": "ipython3",
   "version": "3.11.5"
  }
 },
 "nbformat": 4,
 "nbformat_minor": 5
}
