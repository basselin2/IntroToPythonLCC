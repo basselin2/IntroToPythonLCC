{
 "cells": [
  {
   "cell_type": "markdown",
   "id": "293937cb",
   "metadata": {},
   "source": [
    "# Ch. 2 Coding Set\n",
    "\n",
    "Completed by Briana Asselin"
   ]
  },
  {
   "cell_type": "markdown",
   "id": "940a3a85",
   "metadata": {},
   "source": [
    "### Algorithm Workbench: Problem 3 (Assign Variables)\n",
    "\n",
    "**Question:** Write assignment statements that perform the following operations with the variables a, b, and c: \n",
    "                \n",
    "     a. Adds 2 to a and assigns the result to b \n",
    "     b. Multiplies b times 4 and assigns the result to a \n",
    "     c. Divides a by 3.14 and assigns the result to b \n",
    "     d. Subtracts 8 from b and assigns the result to a\n",
    " \n",
    "------------------------------------------------------------------------------------------------------------ \n",
    "**Overview:** This question asks the programmer to assign and re-assign variables a and b with short math expressions, and the results are below. a and b were semi-randomly assigned so that the code block would run. The results could have been formatted but that was not the point of this exercise.\n",
    "\n",
    "While the question states that c will also be used as a variable, none of the parts of the question used c."
   ]
  },
  {
   "cell_type": "code",
   "execution_count": 1,
   "id": "8be0db4a",
   "metadata": {},
   "outputs": [
    {
     "name": "stdout",
     "output_type": "stream",
     "text": [
      "11\n",
      "44\n",
      "14.012738853503183\n",
      "6.012738853503183\n"
     ]
    }
   ],
   "source": [
    "# Random-ish number assignments:\n",
    "a = 9\n",
    "b = 4\n",
    "\n",
    "# In the first assignment, b will be reassigned with 11:\n",
    "b = a + 2\n",
    "# Output to show that the assignment worked\n",
    "print(b)\n",
    "\n",
    "# In the second assignment, a will be reassigned with 44:\n",
    "a = b * 4\n",
    "# Output to show that the assignment worked\n",
    "print(a)\n",
    "\n",
    "# In the third assignment, b will be reassigned with 14.0127...:\n",
    "b = a / 3.14\n",
    "# Output to show that the assignment worked\n",
    "print(b)\n",
    "\n",
    "# In the fourth assignment, a will be reassigned with 6.0127...:\n",
    "a = b - 8\n",
    "# Output to show that the assignment worked\n",
    "print(a)\n"
   ]
  },
  {
   "cell_type": "markdown",
   "id": "05dd2cad",
   "metadata": {},
   "source": [
    "### Programming Exercises: Problem 6 (Sales Tax)\n",
    "\n",
    "**Question:** Write a program that will ask the user to enter the amount of a purchase. The program should then compute the state and county sales tax. Assume the state sales tax is 5 percent and the county sales tax is 2.5 percent. The program should display the amount of the purchase, the state sales tax, the county sales tax, the total sales tax, and the total of the sale (which is the sum of the amount of purchase plus the total sales tax).\n",
    " \n",
    "------------------------------------------------------------------------------------------------------------ \n",
    "**Overview:** This question asks the programmer to get a specific type of input from the user. The input function takes in strings, so the user value needs to be converted a float. After getting the input, calculations need to be made using two types of sales tax and the user-entered value.\n",
    "\n",
    "I assumed that each type of sales tax is levied against the full purchase amount. These values will not change, so they were assigned as constants."
   ]
  },
  {
   "cell_type": "code",
   "execution_count": 2,
   "id": "337c3323",
   "metadata": {},
   "outputs": [
    {
     "name": "stdout",
     "output_type": "stream",
     "text": [
      "Enter the amount you spent without the dollar sign: 33.72\n",
      "Purchase amount: $ 33.72\n",
      "State sales tax is: $ 1.69\n",
      "County sales tax is: $ 0.84\n",
      "Total tax amount is: $ 2.53\n",
      "Total purchase price is: $ 36.25\n"
     ]
    }
   ],
   "source": [
    "# Assign constant variables\n",
    "STATE_TAX = 0.05\n",
    "COUNTY_TAX = 0.025\n",
    "\n",
    "# Get the purchase amount from the user.\n",
    "# This exercise will use an input value of 33.72\n",
    "purchase_amount = float(input('Enter the amount you spent without the dollar sign: '))\n",
    "\n",
    "# Calculate the state tax\n",
    "state_tax_amount = purchase_amount * STATE_TAX\n",
    "\n",
    "# Calculate the county tax\n",
    "county_tax_amount = purchase_amount * COUNTY_TAX\n",
    "\n",
    "# Print the purchase amount, the amount of the sales taxes, the sum of the sales taxes, and the total cost of the purchase.\n",
    "# I am printing these in separate statements due to personal preference.\n",
    "# The output values are formatted to 2 decimal places to show the correct dollar amounts.\n",
    "print('Purchase amount: $', f'{purchase_amount:.2f}')\n",
    "print('State sales tax is: $', f'{state_tax_amount:.2f}')\n",
    "print('County sales tax is: $', f'{county_tax_amount:.2f}')\n",
    "print('Total tax amount is: $', f'{state_tax_amount + county_tax_amount:.2f}')\n",
    "print('Total purchase price is: $', f'{purchase_amount + state_tax_amount + county_tax_amount:.2f}')\n"
   ]
  },
  {
   "cell_type": "code",
   "execution_count": 3,
   "id": "cda41300",
   "metadata": {},
   "outputs": [
    {
     "ename": "SyntaxError",
     "evalue": "unexpected character after line continuation character (73093515.py, line 22)",
     "output_type": "error",
     "traceback": [
      "\u001b[1;36m  Cell \u001b[1;32mIn[3], line 22\u001b[1;36m\u001b[0m\n\u001b[1;33m    print('Purchase amount: $',f'{purchase_amount:.2f}'\\n)\u001b[0m\n\u001b[1;37m                                                        ^\u001b[0m\n\u001b[1;31mSyntaxError\u001b[0m\u001b[1;31m:\u001b[0m unexpected character after line continuation character\n"
     ]
    }
   ],
   "source": [
    "# Error 1 ^:\n",
    "# There was a space between the dollar signs and the output values. That has been corrected below. \n",
    "# I also added spaces between some of the outputs to make them easier to read.\n",
    "# ------------------------------------------------------------------------------------------------\n",
    "\n",
    "# Assign constant variables\n",
    "STATE_TAX = 0.05\n",
    "COUNTY_TAX = 0.025\n",
    "\n",
    "# Get the purchase amount from the user.\n",
    "# This exercise will use an input value of 33.72\n",
    "purchase_amount = float(input('Enter the amount you spent without the dollar sign: '))\n",
    "\n",
    "# Calculate the state tax\n",
    "state_tax_amount = purchase_amount * STATE_TAX\n",
    "\n",
    "# Calculate the county tax\n",
    "county_tax_amount = purchase_amount * COUNTY_TAX\n",
    "\n",
    "# Print the purchase amount, the amount of the sales taxes, the sum of the sales taxes, and the total cost of the purchase.\n",
    "# I am printing these in separate statements due to personal preference.\n",
    "# The output values are formatted to 2 decimal places to show the correct dollar amounts.\n",
    "print('Purchase amount: $',f'{purchase_amount:.2f}'\\n)\n",
    "print('State sales tax is: $',f'{state_tax_amount:.2f}')\n",
    "print('County sales tax is: $',f'{county_tax_amount:.2f}')\n",
    "print('Total tax amount is: $',f'{state_tax_amount + county_tax_amount:.2f}'\\n)\n",
    "print('Total purchase price is: $',f'{purchase_amount + state_tax_amount + county_tax_amount:.2f}')"
   ]
  },
  {
   "cell_type": "code",
   "execution_count": 7,
   "id": "919ed193",
   "metadata": {},
   "outputs": [
    {
     "name": "stdout",
     "output_type": "stream",
     "text": [
      "Enter the amount you spent without the dollar sign: 33.72\n",
      "\n",
      "Purchase amount: $ 33.72\n",
      "\n",
      "State sales tax is: $ 1.69\n",
      "County sales tax is: $ 0.84\n",
      "Total tax amount is: $ 2.53\n",
      "\n",
      "Total purchase price is: $ 36.25\n"
     ]
    }
   ],
   "source": [
    "# Error 2 ^:\n",
    "# Oops, the \\n needs to be inside the quotation marks!\n",
    "# I tried a placing the new lines in a few different ways to see which ones I liked.\n",
    "# ------------------------------------------------------------------------------------------------\n",
    "\n",
    "# Error 1:\n",
    "# There was a space between the dollar signs and the output values. That has been corrected below. \n",
    "# I also added spaces between some of the outputs to make them easier to read.\n",
    "# ------------------------------------------------------------------------------------------------\n",
    "\n",
    "# Assign constant variables\n",
    "STATE_TAX = 0.05\n",
    "COUNTY_TAX = 0.025\n",
    "\n",
    "# Get the purchase amount from the user.\n",
    "# This exercise will use an input value of 33.72\n",
    "purchase_amount = float(input('Enter the amount you spent without the dollar sign: '))\n",
    "\n",
    "# Calculate the state tax\n",
    "state_tax_amount = purchase_amount * STATE_TAX\n",
    "\n",
    "# Calculate the county tax\n",
    "county_tax_amount = purchase_amount * COUNTY_TAX\n",
    "\n",
    "# Print the purchase amount, the amount of the sales taxes, the sum of the sales taxes, and the total cost of the purchase.\n",
    "# I am printing these in separate statements due to personal preference.\n",
    "# The output values are formatted to 2 decimal places to show the correct dollar amounts.\n",
    "print('\\nPurchase amount: $',f'{purchase_amount:.2f}\\n')\n",
    "print('State sales tax is: $',f'{state_tax_amount:.2f}')\n",
    "print('County sales tax is: $',f'{county_tax_amount:.2f}')\n",
    "print('Total tax amount is: $',f'{state_tax_amount + county_tax_amount:.2f}\\n')\n",
    "print('Total purchase price is: $',f'{purchase_amount + state_tax_amount + county_tax_amount:.2f}')"
   ]
  },
  {
   "cell_type": "markdown",
   "id": "052505d6",
   "metadata": {},
   "source": [
    "### Programming Exercises: Problem 13 (Planting Grapevines)\n",
    "\n",
    "**Question:**  \n",
    "A vineyard owner is planting several new rows of grapevines, and needs to know how many grapevines to plant in each row. She has determined that after measuring the length of a future row, she can use the following formula to calculate the number of vines that will fit in the row, along with the trellis end-post assemblies that will need to be constructed at each end of the row:\n",
    "\n",
    "V = (R-2E) / S\n",
    "\n",
    "The terms in the formula are:\n",
    "\n",
    "       - V is the number of grapevines that will fit in the row.\n",
    "       - R is the length of the row, in feet.\n",
    "       - E is the amount of space, in feet, used by an end-post assembly.\n",
    "       - S is the space between vines, in feet.\n",
    "        \n",
    "Write a program that makes the calculation for the vineyard owner. The program should ask the user to input the following:\n",
    "                \n",
    "       - The length of the row, in feet\n",
    "       - The amount of space used by an end-post assembly, in feet\n",
    "       - The amount of space between the vines, in feet\n",
    "                \n",
    "Once the input data has been entered, the program should calculate and display the number of grapevines that will fit in the row.\n",
    " \n",
    "------------------------------------------------------------------------------------------------------------ \n",
    "**Overview:** \n",
    "This question asks the programmer to get three values from the user and make calculations based on those values. The input function takes in strings, so the values need to be converted to floats. We can't assume that the values will be whole number amounts, so converting to ints would be inappropriate. All input values use \"feet\" as the units. The formula will not work unless the user enters the values in feet.\n",
    "\n",
    "Once the values are converted, the calculations can be carried out and the total number of grapevines (represented by variable V) can be output."
   ]
  },
  {
   "cell_type": "code",
   "execution_count": 8,
   "id": "356f6991",
   "metadata": {},
   "outputs": [
    {
     "name": "stdout",
     "output_type": "stream",
     "text": [
      "Enter the length of the row in units of feet: 10\n",
      "\n",
      "Enter the length of the space needed by the end-post assembly in units of feet: 0.5\n",
      "\n",
      "Enter the width of the spaces between each row in units of feet: 1\n",
      "\n",
      "\n",
      "The total number of grapevines that can be planted is:  9.0\n"
     ]
    }
   ],
   "source": [
    "# These three variables will get input from the user and be converted to floats.\n",
    "\n",
    "# Formula variable R:\n",
    "row_length = float(input('Enter the length of the row in units of feet: '))\n",
    "\n",
    "# Formula variable E:\n",
    "end_post_length = float(input('\\nEnter the length of the space needed by the ' \n",
    "                              'end-post assembly in units of feet: '))\n",
    "# Formula variable S:\n",
    "vine_spacing_width = float(input('\\nEnter the width of the spaces between each row in units of feet: '))\n",
    "\n",
    "\n",
    "# Formula variable V: \n",
    "# This will hold the value of the calculation when it is completed.\n",
    "# If we were concerned about null errors, having an initial value in the variable would prevent them.\n",
    "total_grapevines = 0\n",
    "\n",
    "\n",
    "# In this section, the calculation will assign a value to total_grapevines and the value will be displayed.\n",
    "total_grapevines = (row_length - (2 * end_post_length)) / vine_spacing_width\n",
    "\n",
    "print('\\n\\nThe total number of grapevines that can be planted is: ', total_grapevines)\n"
   ]
  },
  {
   "cell_type": "code",
   "execution_count": 9,
   "id": "428e6713",
   "metadata": {},
   "outputs": [
    {
     "name": "stdout",
     "output_type": "stream",
     "text": [
      "Enter the length of the row in units of feet: 10\n",
      "\n",
      "Enter the length of the space needed by the end-post assembly in units of feet: 0.5\n",
      "\n",
      "Enter the width of the spaces between each row in units of feet: 1\n",
      "\n",
      "\n",
      "The total number of grapevines that can be planted is:  9.0\n",
      "\n",
      "\n",
      "The total number of grapevines that can be planted is:  9.0\n",
      "\n",
      "\n",
      "The total number of grapevines that can be planted is:  9\n"
     ]
    }
   ],
   "source": [
    "# This is not really an error, but the output could be better.\n",
    "# The vineyard owner probably cares about the number of whole grapevines she can plant, not fractional ones!\n",
    "# See the changes in the calculation / print section.\n",
    "#--------------------------------------------------------------------------------------------------------------\n",
    "\n",
    "# These three variables will get input from the user and be converted to floats.\n",
    "\n",
    "# Formula variable R:\n",
    "row_length = float(input('Enter the length of the row in units of feet: '))\n",
    "\n",
    "# Formula variable E:\n",
    "end_post_length = float(input('\\nEnter the length of the space needed by the ' \n",
    "                              'end-post assembly in units of feet: '))\n",
    "# Formula variable S:\n",
    "vine_spacing_width = float(input('\\nEnter the width of the spaces between each row in units of feet: '))\n",
    "\n",
    "#--------------------------------------------------------------------------------------------------------------\n",
    "\n",
    "# Formula variable V: \n",
    "# This will hold the value of the calculation when it is completed.\n",
    "# If we were concerned about null errors, having an initial value in the variable would prevent them.\n",
    "total_grapevines = 0\n",
    "\n",
    "#--------------------------------------------------------------------------------------------------------------\n",
    "\n",
    "# In this section, the calculation will assign a value to total_grapevines and the value will be displayed.\n",
    "total_grapevines_1 = (row_length - (2 * end_post_length)) / vine_spacing_width\n",
    "\n",
    "\n",
    "# NEW: We can try this calculation with integer division:\n",
    "total_grapevines_2 = ((row_length - (2 * end_post_length)) // vine_spacing_width)\n",
    "\n",
    "\n",
    "# NEW: Or we can try converting the calculation result to an int type, which would drop off any decimal points.\n",
    "total_grapevines_3 = int((row_length - (2 * end_post_length)) / vine_spacing_width)\n",
    "\n",
    "\n",
    "print('\\n\\nThe total number of grapevines that can be planted is: ', total_grapevines_1) # Original calculation\n",
    "\n",
    "print('\\n\\nThe total number of grapevines that can be planted is: ', total_grapevines_2) # This still came out as a float\n",
    "\n",
    "print('\\n\\nThe total number of grapevines that can be planted is: ', total_grapevines_3) # Here is the total number of vines\n"
   ]
  },
  {
   "cell_type": "code",
   "execution_count": null,
   "id": "5c9cfc36",
   "metadata": {},
   "outputs": [],
   "source": []
  }
 ],
 "metadata": {
  "kernelspec": {
   "display_name": "Python 3 (ipykernel)",
   "language": "python",
   "name": "python3"
  },
  "language_info": {
   "codemirror_mode": {
    "name": "ipython",
    "version": 3
   },
   "file_extension": ".py",
   "mimetype": "text/x-python",
   "name": "python",
   "nbconvert_exporter": "python",
   "pygments_lexer": "ipython3",
   "version": "3.11.5"
  }
 },
 "nbformat": 4,
 "nbformat_minor": 5
}
